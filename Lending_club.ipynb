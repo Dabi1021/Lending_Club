{
  "nbformat": 4,
  "nbformat_minor": 0,
  "metadata": {
    "colab": {
      "provenance": [],
      "gpuType": "T4",
      "toc_visible": true,
      "mount_file_id": "1WAlA1WL494rgbrY0uzz_IwFkoKYTBm5f",
      "authorship_tag": "ABX9TyM8Fbf+m2ItWCTyZJUeSR3L",
      "include_colab_link": true
    },
    "kernelspec": {
      "name": "python3",
      "display_name": "Python 3"
    },
    "language_info": {
      "name": "python"
    },
    "accelerator": "GPU"
  },
  "cells": [
    {
      "cell_type": "markdown",
      "metadata": {
        "id": "view-in-github",
        "colab_type": "text"
      },
      "source": [
        "<a href=\"https://colab.research.google.com/github/Dabi1021/Lending_Club/blob/main/Lending_club.ipynb\" target=\"_parent\"><img src=\"https://colab.research.google.com/assets/colab-badge.svg\" alt=\"Open In Colab\"/></a>"
      ]
    },
    {
      "cell_type": "markdown",
      "source": [
        "# 1.비지니스 모델 설계\n",
        "    - 목적1 (채권자 입장): 여러요인을 종합적으로 고려하여 채무를 잘 이행할 채무자를 선별 -> 대출여부를 결정하는 모델 생성 -> 수익률 증가\n",
        "\n",
        "    - 목적2 (고객 입장): 대출을 받기위해 개선이 필요한 feature 추천\n",
        "\n",
        "# 배경 지식\n",
        "    https://chancoding.tistory.com/62\n",
        "\n",
        "    - P2P(Peer-to-Peer): 개인과 개인간의 채무관계의 대출,  한 명의 채무 자체가 여러 채권자들이 조금씩 돈을 투자해서 funding금액을 모아서 대출을 해주는 방식\n",
        "    - P2P 대출의 장점은 까다로운 기관 대출에 비해서 더 쉽고 간편하게 대출할 수 있습니다. 또한, 소액대출에 있어서 카드 신용 대출보다 적은 이자비용이 발생\n",
        "    - p2p플랫폼이 중간다리 역할로 다수의 채권자들에게 돈을 모으는 업무, 채무자들의 대출 신청을 받아서 채권자들과 연결해주는 작업을 수행\n",
        "\n",
        "    - LendingClub : 미국 샌프란시스코에 본사를 둔 미국 P2P 대출 회사\n",
        "\n",
        "# kaggle : https://www.kaggle.com/datasets/wordsforthewise/lending-club\n",
        "    "
      ],
      "metadata": {
        "id": "SIfvawXcPM9g"
      }
    },
    {
      "cell_type": "markdown",
      "source": [
        "# 2.데이터 가져오기"
      ],
      "metadata": {
        "id": "kFgEzsaZPZoY"
      }
    },
    {
      "cell_type": "code",
      "source": [
        "import pandas as pd\n",
        "import numpy as np\n",
        "import matplotlib.pyplot as plt\n",
        "import seaborn as sns"
      ],
      "metadata": {
        "id": "tlfuCje_bhrS"
      },
      "execution_count": null,
      "outputs": []
    },
    {
      "cell_type": "code",
      "execution_count": null,
      "metadata": {
        "id": "KyYOocz5PBzZ"
      },
      "outputs": [],
      "source": [
        "df = pd.read_csv('/content/drive/MyDrive/Colab_Notebooks/팀프로젝트/Lending_club/lending_club_loan_two.csv')"
      ]
    },
    {
      "cell_type": "code",
      "source": [
        "df.head()"
      ],
      "metadata": {
        "colab": {
          "base_uri": "https://localhost:8080/",
          "height": 429
        },
        "id": "1FztPKsYb0xR",
        "outputId": "1de5dc7b-5edb-4ee3-da21-8fcd1565ff2b"
      },
      "execution_count": null,
      "outputs": [
        {
          "output_type": "execute_result",
          "data": {
            "text/plain": [
              "   loan_amnt        term  int_rate  installment grade sub_grade  \\\n",
              "0    10000.0   36 months     11.44       329.48     B        B4   \n",
              "1     8000.0   36 months     11.99       265.68     B        B5   \n",
              "2    15600.0   36 months     10.49       506.97     B        B3   \n",
              "3     7200.0   36 months      6.49       220.65     A        A2   \n",
              "4    24375.0   60 months     17.27       609.33     C        C5   \n",
              "\n",
              "                 emp_title emp_length home_ownership  annual_inc  ...  \\\n",
              "0                Marketing  10+ years           RENT    117000.0  ...   \n",
              "1          Credit analyst     4 years       MORTGAGE     65000.0  ...   \n",
              "2             Statistician   < 1 year           RENT     43057.0  ...   \n",
              "3          Client Advocate    6 years           RENT     54000.0  ...   \n",
              "4  Destiny Management Inc.    9 years       MORTGAGE     55000.0  ...   \n",
              "\n",
              "  open_acc pub_rec revol_bal revol_util total_acc  initial_list_status  \\\n",
              "0     16.0     0.0   36369.0       41.8      25.0                    w   \n",
              "1     17.0     0.0   20131.0       53.3      27.0                    f   \n",
              "2     13.0     0.0   11987.0       92.2      26.0                    f   \n",
              "3      6.0     0.0    5472.0       21.5      13.0                    f   \n",
              "4     13.0     0.0   24584.0       69.8      43.0                    f   \n",
              "\n",
              "  application_type  mort_acc  pub_rec_bankruptcies  \\\n",
              "0       INDIVIDUAL       0.0                   0.0   \n",
              "1       INDIVIDUAL       3.0                   0.0   \n",
              "2       INDIVIDUAL       0.0                   0.0   \n",
              "3       INDIVIDUAL       0.0                   0.0   \n",
              "4       INDIVIDUAL       1.0                   0.0   \n",
              "\n",
              "                                             address  \n",
              "0     0174 Michelle Gateway\\r\\nMendozaberg, OK 22690  \n",
              "1  1076 Carney Fort Apt. 347\\r\\nLoganmouth, SD 05113  \n",
              "2  87025 Mark Dale Apt. 269\\r\\nNew Sabrina, WV 05113  \n",
              "3            823 Reid Ford\\r\\nDelacruzside, MA 00813  \n",
              "4             679 Luna Roads\\r\\nGreggshire, VA 11650  \n",
              "\n",
              "[5 rows x 27 columns]"
            ],
            "text/html": [
              "\n",
              "  <div id=\"df-ccbdcc85-a400-4c27-b80e-392309d03386\" class=\"colab-df-container\">\n",
              "    <div>\n",
              "<style scoped>\n",
              "    .dataframe tbody tr th:only-of-type {\n",
              "        vertical-align: middle;\n",
              "    }\n",
              "\n",
              "    .dataframe tbody tr th {\n",
              "        vertical-align: top;\n",
              "    }\n",
              "\n",
              "    .dataframe thead th {\n",
              "        text-align: right;\n",
              "    }\n",
              "</style>\n",
              "<table border=\"1\" class=\"dataframe\">\n",
              "  <thead>\n",
              "    <tr style=\"text-align: right;\">\n",
              "      <th></th>\n",
              "      <th>loan_amnt</th>\n",
              "      <th>term</th>\n",
              "      <th>int_rate</th>\n",
              "      <th>installment</th>\n",
              "      <th>grade</th>\n",
              "      <th>sub_grade</th>\n",
              "      <th>emp_title</th>\n",
              "      <th>emp_length</th>\n",
              "      <th>home_ownership</th>\n",
              "      <th>annual_inc</th>\n",
              "      <th>...</th>\n",
              "      <th>open_acc</th>\n",
              "      <th>pub_rec</th>\n",
              "      <th>revol_bal</th>\n",
              "      <th>revol_util</th>\n",
              "      <th>total_acc</th>\n",
              "      <th>initial_list_status</th>\n",
              "      <th>application_type</th>\n",
              "      <th>mort_acc</th>\n",
              "      <th>pub_rec_bankruptcies</th>\n",
              "      <th>address</th>\n",
              "    </tr>\n",
              "  </thead>\n",
              "  <tbody>\n",
              "    <tr>\n",
              "      <th>0</th>\n",
              "      <td>10000.0</td>\n",
              "      <td>36 months</td>\n",
              "      <td>11.44</td>\n",
              "      <td>329.48</td>\n",
              "      <td>B</td>\n",
              "      <td>B4</td>\n",
              "      <td>Marketing</td>\n",
              "      <td>10+ years</td>\n",
              "      <td>RENT</td>\n",
              "      <td>117000.0</td>\n",
              "      <td>...</td>\n",
              "      <td>16.0</td>\n",
              "      <td>0.0</td>\n",
              "      <td>36369.0</td>\n",
              "      <td>41.8</td>\n",
              "      <td>25.0</td>\n",
              "      <td>w</td>\n",
              "      <td>INDIVIDUAL</td>\n",
              "      <td>0.0</td>\n",
              "      <td>0.0</td>\n",
              "      <td>0174 Michelle Gateway\\r\\nMendozaberg, OK 22690</td>\n",
              "    </tr>\n",
              "    <tr>\n",
              "      <th>1</th>\n",
              "      <td>8000.0</td>\n",
              "      <td>36 months</td>\n",
              "      <td>11.99</td>\n",
              "      <td>265.68</td>\n",
              "      <td>B</td>\n",
              "      <td>B5</td>\n",
              "      <td>Credit analyst</td>\n",
              "      <td>4 years</td>\n",
              "      <td>MORTGAGE</td>\n",
              "      <td>65000.0</td>\n",
              "      <td>...</td>\n",
              "      <td>17.0</td>\n",
              "      <td>0.0</td>\n",
              "      <td>20131.0</td>\n",
              "      <td>53.3</td>\n",
              "      <td>27.0</td>\n",
              "      <td>f</td>\n",
              "      <td>INDIVIDUAL</td>\n",
              "      <td>3.0</td>\n",
              "      <td>0.0</td>\n",
              "      <td>1076 Carney Fort Apt. 347\\r\\nLoganmouth, SD 05113</td>\n",
              "    </tr>\n",
              "    <tr>\n",
              "      <th>2</th>\n",
              "      <td>15600.0</td>\n",
              "      <td>36 months</td>\n",
              "      <td>10.49</td>\n",
              "      <td>506.97</td>\n",
              "      <td>B</td>\n",
              "      <td>B3</td>\n",
              "      <td>Statistician</td>\n",
              "      <td>&lt; 1 year</td>\n",
              "      <td>RENT</td>\n",
              "      <td>43057.0</td>\n",
              "      <td>...</td>\n",
              "      <td>13.0</td>\n",
              "      <td>0.0</td>\n",
              "      <td>11987.0</td>\n",
              "      <td>92.2</td>\n",
              "      <td>26.0</td>\n",
              "      <td>f</td>\n",
              "      <td>INDIVIDUAL</td>\n",
              "      <td>0.0</td>\n",
              "      <td>0.0</td>\n",
              "      <td>87025 Mark Dale Apt. 269\\r\\nNew Sabrina, WV 05113</td>\n",
              "    </tr>\n",
              "    <tr>\n",
              "      <th>3</th>\n",
              "      <td>7200.0</td>\n",
              "      <td>36 months</td>\n",
              "      <td>6.49</td>\n",
              "      <td>220.65</td>\n",
              "      <td>A</td>\n",
              "      <td>A2</td>\n",
              "      <td>Client Advocate</td>\n",
              "      <td>6 years</td>\n",
              "      <td>RENT</td>\n",
              "      <td>54000.0</td>\n",
              "      <td>...</td>\n",
              "      <td>6.0</td>\n",
              "      <td>0.0</td>\n",
              "      <td>5472.0</td>\n",
              "      <td>21.5</td>\n",
              "      <td>13.0</td>\n",
              "      <td>f</td>\n",
              "      <td>INDIVIDUAL</td>\n",
              "      <td>0.0</td>\n",
              "      <td>0.0</td>\n",
              "      <td>823 Reid Ford\\r\\nDelacruzside, MA 00813</td>\n",
              "    </tr>\n",
              "    <tr>\n",
              "      <th>4</th>\n",
              "      <td>24375.0</td>\n",
              "      <td>60 months</td>\n",
              "      <td>17.27</td>\n",
              "      <td>609.33</td>\n",
              "      <td>C</td>\n",
              "      <td>C5</td>\n",
              "      <td>Destiny Management Inc.</td>\n",
              "      <td>9 years</td>\n",
              "      <td>MORTGAGE</td>\n",
              "      <td>55000.0</td>\n",
              "      <td>...</td>\n",
              "      <td>13.0</td>\n",
              "      <td>0.0</td>\n",
              "      <td>24584.0</td>\n",
              "      <td>69.8</td>\n",
              "      <td>43.0</td>\n",
              "      <td>f</td>\n",
              "      <td>INDIVIDUAL</td>\n",
              "      <td>1.0</td>\n",
              "      <td>0.0</td>\n",
              "      <td>679 Luna Roads\\r\\nGreggshire, VA 11650</td>\n",
              "    </tr>\n",
              "  </tbody>\n",
              "</table>\n",
              "<p>5 rows × 27 columns</p>\n",
              "</div>\n",
              "    <div class=\"colab-df-buttons\">\n",
              "\n",
              "  <div class=\"colab-df-container\">\n",
              "    <button class=\"colab-df-convert\" onclick=\"convertToInteractive('df-ccbdcc85-a400-4c27-b80e-392309d03386')\"\n",
              "            title=\"Convert this dataframe to an interactive table.\"\n",
              "            style=\"display:none;\">\n",
              "\n",
              "  <svg xmlns=\"http://www.w3.org/2000/svg\" height=\"24px\" viewBox=\"0 -960 960 960\">\n",
              "    <path d=\"M120-120v-720h720v720H120Zm60-500h600v-160H180v160Zm220 220h160v-160H400v160Zm0 220h160v-160H400v160ZM180-400h160v-160H180v160Zm440 0h160v-160H620v160ZM180-180h160v-160H180v160Zm440 0h160v-160H620v160Z\"/>\n",
              "  </svg>\n",
              "    </button>\n",
              "\n",
              "  <style>\n",
              "    .colab-df-container {\n",
              "      display:flex;\n",
              "      gap: 12px;\n",
              "    }\n",
              "\n",
              "    .colab-df-convert {\n",
              "      background-color: #E8F0FE;\n",
              "      border: none;\n",
              "      border-radius: 50%;\n",
              "      cursor: pointer;\n",
              "      display: none;\n",
              "      fill: #1967D2;\n",
              "      height: 32px;\n",
              "      padding: 0 0 0 0;\n",
              "      width: 32px;\n",
              "    }\n",
              "\n",
              "    .colab-df-convert:hover {\n",
              "      background-color: #E2EBFA;\n",
              "      box-shadow: 0px 1px 2px rgba(60, 64, 67, 0.3), 0px 1px 3px 1px rgba(60, 64, 67, 0.15);\n",
              "      fill: #174EA6;\n",
              "    }\n",
              "\n",
              "    .colab-df-buttons div {\n",
              "      margin-bottom: 4px;\n",
              "    }\n",
              "\n",
              "    [theme=dark] .colab-df-convert {\n",
              "      background-color: #3B4455;\n",
              "      fill: #D2E3FC;\n",
              "    }\n",
              "\n",
              "    [theme=dark] .colab-df-convert:hover {\n",
              "      background-color: #434B5C;\n",
              "      box-shadow: 0px 1px 3px 1px rgba(0, 0, 0, 0.15);\n",
              "      filter: drop-shadow(0px 1px 2px rgba(0, 0, 0, 0.3));\n",
              "      fill: #FFFFFF;\n",
              "    }\n",
              "  </style>\n",
              "\n",
              "    <script>\n",
              "      const buttonEl =\n",
              "        document.querySelector('#df-ccbdcc85-a400-4c27-b80e-392309d03386 button.colab-df-convert');\n",
              "      buttonEl.style.display =\n",
              "        google.colab.kernel.accessAllowed ? 'block' : 'none';\n",
              "\n",
              "      async function convertToInteractive(key) {\n",
              "        const element = document.querySelector('#df-ccbdcc85-a400-4c27-b80e-392309d03386');\n",
              "        const dataTable =\n",
              "          await google.colab.kernel.invokeFunction('convertToInteractive',\n",
              "                                                    [key], {});\n",
              "        if (!dataTable) return;\n",
              "\n",
              "        const docLinkHtml = 'Like what you see? Visit the ' +\n",
              "          '<a target=\"_blank\" href=https://colab.research.google.com/notebooks/data_table.ipynb>data table notebook</a>'\n",
              "          + ' to learn more about interactive tables.';\n",
              "        element.innerHTML = '';\n",
              "        dataTable['output_type'] = 'display_data';\n",
              "        await google.colab.output.renderOutput(dataTable, element);\n",
              "        const docLink = document.createElement('div');\n",
              "        docLink.innerHTML = docLinkHtml;\n",
              "        element.appendChild(docLink);\n",
              "      }\n",
              "    </script>\n",
              "  </div>\n",
              "\n",
              "\n",
              "<div id=\"df-147d3bf2-318e-4dc8-bfdd-a4c5135bc5f5\">\n",
              "  <button class=\"colab-df-quickchart\" onclick=\"quickchart('df-147d3bf2-318e-4dc8-bfdd-a4c5135bc5f5')\"\n",
              "            title=\"Suggest charts.\"\n",
              "            style=\"display:none;\">\n",
              "\n",
              "<svg xmlns=\"http://www.w3.org/2000/svg\" height=\"24px\"viewBox=\"0 0 24 24\"\n",
              "     width=\"24px\">\n",
              "    <g>\n",
              "        <path d=\"M19 3H5c-1.1 0-2 .9-2 2v14c0 1.1.9 2 2 2h14c1.1 0 2-.9 2-2V5c0-1.1-.9-2-2-2zM9 17H7v-7h2v7zm4 0h-2V7h2v10zm4 0h-2v-4h2v4z\"/>\n",
              "    </g>\n",
              "</svg>\n",
              "  </button>\n",
              "\n",
              "<style>\n",
              "  .colab-df-quickchart {\n",
              "      --bg-color: #E8F0FE;\n",
              "      --fill-color: #1967D2;\n",
              "      --hover-bg-color: #E2EBFA;\n",
              "      --hover-fill-color: #174EA6;\n",
              "      --disabled-fill-color: #AAA;\n",
              "      --disabled-bg-color: #DDD;\n",
              "  }\n",
              "\n",
              "  [theme=dark] .colab-df-quickchart {\n",
              "      --bg-color: #3B4455;\n",
              "      --fill-color: #D2E3FC;\n",
              "      --hover-bg-color: #434B5C;\n",
              "      --hover-fill-color: #FFFFFF;\n",
              "      --disabled-bg-color: #3B4455;\n",
              "      --disabled-fill-color: #666;\n",
              "  }\n",
              "\n",
              "  .colab-df-quickchart {\n",
              "    background-color: var(--bg-color);\n",
              "    border: none;\n",
              "    border-radius: 50%;\n",
              "    cursor: pointer;\n",
              "    display: none;\n",
              "    fill: var(--fill-color);\n",
              "    height: 32px;\n",
              "    padding: 0;\n",
              "    width: 32px;\n",
              "  }\n",
              "\n",
              "  .colab-df-quickchart:hover {\n",
              "    background-color: var(--hover-bg-color);\n",
              "    box-shadow: 0 1px 2px rgba(60, 64, 67, 0.3), 0 1px 3px 1px rgba(60, 64, 67, 0.15);\n",
              "    fill: var(--button-hover-fill-color);\n",
              "  }\n",
              "\n",
              "  .colab-df-quickchart-complete:disabled,\n",
              "  .colab-df-quickchart-complete:disabled:hover {\n",
              "    background-color: var(--disabled-bg-color);\n",
              "    fill: var(--disabled-fill-color);\n",
              "    box-shadow: none;\n",
              "  }\n",
              "\n",
              "  .colab-df-spinner {\n",
              "    border: 2px solid var(--fill-color);\n",
              "    border-color: transparent;\n",
              "    border-bottom-color: var(--fill-color);\n",
              "    animation:\n",
              "      spin 1s steps(1) infinite;\n",
              "  }\n",
              "\n",
              "  @keyframes spin {\n",
              "    0% {\n",
              "      border-color: transparent;\n",
              "      border-bottom-color: var(--fill-color);\n",
              "      border-left-color: var(--fill-color);\n",
              "    }\n",
              "    20% {\n",
              "      border-color: transparent;\n",
              "      border-left-color: var(--fill-color);\n",
              "      border-top-color: var(--fill-color);\n",
              "    }\n",
              "    30% {\n",
              "      border-color: transparent;\n",
              "      border-left-color: var(--fill-color);\n",
              "      border-top-color: var(--fill-color);\n",
              "      border-right-color: var(--fill-color);\n",
              "    }\n",
              "    40% {\n",
              "      border-color: transparent;\n",
              "      border-right-color: var(--fill-color);\n",
              "      border-top-color: var(--fill-color);\n",
              "    }\n",
              "    60% {\n",
              "      border-color: transparent;\n",
              "      border-right-color: var(--fill-color);\n",
              "    }\n",
              "    80% {\n",
              "      border-color: transparent;\n",
              "      border-right-color: var(--fill-color);\n",
              "      border-bottom-color: var(--fill-color);\n",
              "    }\n",
              "    90% {\n",
              "      border-color: transparent;\n",
              "      border-bottom-color: var(--fill-color);\n",
              "    }\n",
              "  }\n",
              "</style>\n",
              "\n",
              "  <script>\n",
              "    async function quickchart(key) {\n",
              "      const quickchartButtonEl =\n",
              "        document.querySelector('#' + key + ' button');\n",
              "      quickchartButtonEl.disabled = true;  // To prevent multiple clicks.\n",
              "      quickchartButtonEl.classList.add('colab-df-spinner');\n",
              "      try {\n",
              "        const charts = await google.colab.kernel.invokeFunction(\n",
              "            'suggestCharts', [key], {});\n",
              "      } catch (error) {\n",
              "        console.error('Error during call to suggestCharts:', error);\n",
              "      }\n",
              "      quickchartButtonEl.classList.remove('colab-df-spinner');\n",
              "      quickchartButtonEl.classList.add('colab-df-quickchart-complete');\n",
              "    }\n",
              "    (() => {\n",
              "      let quickchartButtonEl =\n",
              "        document.querySelector('#df-147d3bf2-318e-4dc8-bfdd-a4c5135bc5f5 button');\n",
              "      quickchartButtonEl.style.display =\n",
              "        google.colab.kernel.accessAllowed ? 'block' : 'none';\n",
              "    })();\n",
              "  </script>\n",
              "</div>\n",
              "    </div>\n",
              "  </div>\n"
            ]
          },
          "metadata": {},
          "execution_count": 3
        }
      ]
    },
    {
      "cell_type": "markdown",
      "source": [
        "## feature information\n",
        "    - loan_amnt : 대출 금액. (특정 시점에 업데이트)\n",
        "    - term : 할부 개월 (월 단위) 36 or 60\n",
        "    - int_rate : 대출 이자율\n",
        "    - installment : 지불해야 하는 월별 지불금.\n",
        "    - grade : LC 지정 대출 등급 - target\n",
        "    - sub_grade : LC 할당 대출 하위 등급** 설명이 필요 -target\n",
        "    - emp_title : 신청자의 직업\n",
        "    - emp_length : 고용 기간(0 ~ 10년) 0은 1년 미만을 의미, 10은 10년 이상 의미\n",
        "    - home_ownership : 차용인의 주택 소유 상태\n",
        "    - annual_inc : 연간 소득.\n",
        "    - validation_status : LC에서 소득이 확인되었는지, 확인되지 않았는지 또는 소득원이 확인되었는지\n",
        "    - issue_d : 대출 자금이 조달된 월\n",
        "    - loan_status : 대출 현황 - target\n",
        "    - purpose : 대출 목적.\n",
        "    - title : 차용인이 제공한 대출 제목\n",
        "    - dti : 월별 부채 총액을 월 소득으로 나누어 계산한 비율.\n",
        "    - earliest_cr_line : 차용인의 가장 먼저 보고된 신용 한도가 열린 달\n",
        "    - open_acc : 대출자의 신용 파일에 있는 열린 신용 한도 수\n",
        "    - revol_bal : 대출 총액\n",
        "    - revol_util : 남은 대출 한도액 / 대출 가능 한도\n",
        "    - total_acc : 현재 대출자의 신용 파일에 있는 총 신용 라인 수\n",
        "    - initial_list_status : 대출의 초기 목록 상태(W, F)\n",
        "    - application_type : 대출이 개별 신청인지 또는 두 명의 공동 차용자와의 공동 신청인지\n",
        "    - mort_acc : 계좌 수.\n",
        "    - pub_rec : 공공 기록의 수(파산, 대출 미상환 등등)\n",
        "    - pub_rec_bankruptcies : 공개 기록 파산 건수\n",
        "    - address : 주소\n",
        "\n"
      ],
      "metadata": {
        "id": "lQiPKHA5b49a"
      }
    },
    {
      "cell_type": "markdown",
      "source": [
        "## 분석 방향 선정(기업 입장)\n",
        "    - 대출자의 여러 조건을 고려하여 대출 등급을 정하는 모델을 생성\n",
        "    - 궁금한 점: 신용 회전이 무엇? 카드 돌려막기와 비슷한 개념인가?"
      ],
      "metadata": {
        "id": "WAhgG8PGP1pc"
      }
    },
    {
      "cell_type": "markdown",
      "source": [
        "# 3.데이터 전처리"
      ],
      "metadata": {
        "id": "ykD-os82O5ue"
      }
    },
    {
      "cell_type": "markdown",
      "source": [
        "## 3-1. drop column\n",
        "    - grade: sub_grad로 디테일한 등급을 사용하기로 결정\n",
        "    - issue_d: 대출을 받은 날짜 개념이므로 상관없다고 판단\n",
        "    - title: purpose와 같은 역활로 중복된다고 판단\n",
        "    - earliest_cr_line: 의미가 없다고 판단\n",
        "    - address: 의미가 없다고 판단\n",
        "    - pub_rec_bankruptcies: pub_rec 포함된 사항으로 중복 판단"
      ],
      "metadata": {
        "id": "IXO8n9A13hSd"
      }
    },
    {
      "cell_type": "code",
      "source": [
        "df = df.drop(['grade', 'issue_d', 'title', 'earliest_cr_line', 'address', 'pub_rec_bankruptcies'], axis=1)"
      ],
      "metadata": {
        "id": "2oo8bFgj3g1u"
      },
      "execution_count": null,
      "outputs": []
    },
    {
      "cell_type": "code",
      "source": [
        "df.info()"
      ],
      "metadata": {
        "colab": {
          "base_uri": "https://localhost:8080/"
        },
        "id": "CN6zX-Pq7faD",
        "outputId": "8837d621-1784-47d3-cdea-b574c3520b21"
      },
      "execution_count": null,
      "outputs": [
        {
          "output_type": "stream",
          "name": "stdout",
          "text": [
            "<class 'pandas.core.frame.DataFrame'>\n",
            "RangeIndex: 396030 entries, 0 to 396029\n",
            "Data columns (total 21 columns):\n",
            " #   Column               Non-Null Count   Dtype  \n",
            "---  ------               --------------   -----  \n",
            " 0   loan_amnt            396030 non-null  float64\n",
            " 1   term                 396030 non-null  object \n",
            " 2   int_rate             396030 non-null  float64\n",
            " 3   installment          396030 non-null  float64\n",
            " 4   sub_grade            396030 non-null  object \n",
            " 5   emp_title            373103 non-null  object \n",
            " 6   emp_length           377729 non-null  object \n",
            " 7   home_ownership       396030 non-null  object \n",
            " 8   annual_inc           396030 non-null  float64\n",
            " 9   verification_status  396030 non-null  object \n",
            " 10  loan_status          396030 non-null  object \n",
            " 11  purpose              396030 non-null  object \n",
            " 12  dti                  396030 non-null  float64\n",
            " 13  open_acc             396030 non-null  float64\n",
            " 14  pub_rec              396030 non-null  float64\n",
            " 15  revol_bal            396030 non-null  float64\n",
            " 16  revol_util           395754 non-null  float64\n",
            " 17  total_acc            396030 non-null  float64\n",
            " 18  initial_list_status  396030 non-null  object \n",
            " 19  application_type     396030 non-null  object \n",
            " 20  mort_acc             358235 non-null  float64\n",
            "dtypes: float64(11), object(10)\n",
            "memory usage: 63.5+ MB\n"
          ]
        }
      ]
    },
    {
      "cell_type": "markdown",
      "source": [
        "## 3-2.결측치 처리"
      ],
      "metadata": {
        "id": "0solVx7VPdPD"
      }
    },
    {
      "cell_type": "markdown",
      "source": [
        "### revol_util 결측 데이터 -> 아주 작은 비율이므로 drop"
      ],
      "metadata": {
        "id": "zeNqcvaKh0FA"
      }
    },
    {
      "cell_type": "code",
      "source": [
        "df = df.drop(df[df['revol_util'].isna()].index, axis=0)"
      ],
      "metadata": {
        "id": "FkVgwAz3h0No"
      },
      "execution_count": null,
      "outputs": []
    },
    {
      "cell_type": "code",
      "source": [
        "df.isna().sum()"
      ],
      "metadata": {
        "colab": {
          "base_uri": "https://localhost:8080/"
        },
        "id": "9NJv3L3ViRyF",
        "outputId": "c1366bd6-1e04-4059-f533-afa2494d626f"
      },
      "execution_count": null,
      "outputs": [
        {
          "output_type": "execute_result",
          "data": {
            "text/plain": [
              "loan_amnt                  0\n",
              "term                       0\n",
              "int_rate                   0\n",
              "installment                0\n",
              "sub_grade                  0\n",
              "emp_title              22912\n",
              "emp_length             18290\n",
              "home_ownership             0\n",
              "annual_inc                 0\n",
              "verification_status        0\n",
              "loan_status                0\n",
              "purpose                    0\n",
              "dti                        0\n",
              "open_acc                   0\n",
              "pub_rec                    0\n",
              "revol_bal                  0\n",
              "revol_util                 0\n",
              "total_acc                  0\n",
              "initial_list_status        0\n",
              "application_type           0\n",
              "mort_acc               37740\n",
              "dtype: int64"
            ]
          },
          "metadata": {},
          "execution_count": 7
        }
      ]
    },
    {
      "cell_type": "code",
      "source": [
        "df.info()"
      ],
      "metadata": {
        "colab": {
          "base_uri": "https://localhost:8080/"
        },
        "id": "ClWqHK0mizq4",
        "outputId": "02e13f54-1dec-4ed2-880b-7caf51ac9a9b"
      },
      "execution_count": null,
      "outputs": [
        {
          "output_type": "stream",
          "name": "stdout",
          "text": [
            "<class 'pandas.core.frame.DataFrame'>\n",
            "Int64Index: 395754 entries, 0 to 396029\n",
            "Data columns (total 21 columns):\n",
            " #   Column               Non-Null Count   Dtype  \n",
            "---  ------               --------------   -----  \n",
            " 0   loan_amnt            395754 non-null  float64\n",
            " 1   term                 395754 non-null  object \n",
            " 2   int_rate             395754 non-null  float64\n",
            " 3   installment          395754 non-null  float64\n",
            " 4   sub_grade            395754 non-null  object \n",
            " 5   emp_title            372842 non-null  object \n",
            " 6   emp_length           377464 non-null  object \n",
            " 7   home_ownership       395754 non-null  object \n",
            " 8   annual_inc           395754 non-null  float64\n",
            " 9   verification_status  395754 non-null  object \n",
            " 10  loan_status          395754 non-null  object \n",
            " 11  purpose              395754 non-null  object \n",
            " 12  dti                  395754 non-null  float64\n",
            " 13  open_acc             395754 non-null  float64\n",
            " 14  pub_rec              395754 non-null  float64\n",
            " 15  revol_bal            395754 non-null  float64\n",
            " 16  revol_util           395754 non-null  float64\n",
            " 17  total_acc            395754 non-null  float64\n",
            " 18  initial_list_status  395754 non-null  object \n",
            " 19  application_type     395754 non-null  object \n",
            " 20  mort_acc             358014 non-null  float64\n",
            "dtypes: float64(11), object(10)\n",
            "memory usage: 66.4+ MB\n"
          ]
        }
      ]
    },
    {
      "cell_type": "markdown",
      "source": [
        "### 'emp_title', 'emp_length' 가 모두 null이면 - 무직"
      ],
      "metadata": {
        "id": "Y3V-AJq_iyc6"
      }
    },
    {
      "cell_type": "code",
      "source": [
        "df.isna().sum()"
      ],
      "metadata": {
        "colab": {
          "base_uri": "https://localhost:8080/"
        },
        "id": "lvy6ysT1aax7",
        "outputId": "b3f8f82d-69fa-4aa1-fc16-27551c0a38d4"
      },
      "execution_count": null,
      "outputs": [
        {
          "output_type": "execute_result",
          "data": {
            "text/plain": [
              "loan_amnt                  0\n",
              "term                       0\n",
              "int_rate                   0\n",
              "installment                0\n",
              "sub_grade                  0\n",
              "emp_title              22912\n",
              "emp_length             18290\n",
              "home_ownership             0\n",
              "annual_inc                 0\n",
              "verification_status        0\n",
              "loan_status                0\n",
              "purpose                    0\n",
              "dti                        0\n",
              "open_acc                   0\n",
              "pub_rec                    0\n",
              "revol_bal                  0\n",
              "revol_util                 0\n",
              "total_acc                  0\n",
              "initial_list_status        0\n",
              "application_type           0\n",
              "mort_acc               37740\n",
              "dtype: int64"
            ]
          },
          "metadata": {},
          "execution_count": 9
        }
      ]
    },
    {
      "cell_type": "code",
      "source": [
        "df.loc[df['emp_title'].isnull() & df['emp_length'].isnull(), 'emp_title'], df.loc[(df['emp_title'] == 'No Job') & df['emp_length'].isnull(), 'emp_length'] = 'No Job', 0"
      ],
      "metadata": {
        "id": "lAVg3agVaQzQ"
      },
      "execution_count": null,
      "outputs": []
    },
    {
      "cell_type": "code",
      "source": [
        "df.isna().sum()"
      ],
      "metadata": {
        "colab": {
          "base_uri": "https://localhost:8080/"
        },
        "id": "tzNsZ1q9f8Hs",
        "outputId": "05d540ff-1ed2-4052-8cbb-91ebd896418d"
      },
      "execution_count": null,
      "outputs": [
        {
          "output_type": "execute_result",
          "data": {
            "text/plain": [
              "loan_amnt                  0\n",
              "term                       0\n",
              "int_rate                   0\n",
              "installment                0\n",
              "sub_grade                  0\n",
              "emp_title               4799\n",
              "emp_length               177\n",
              "home_ownership             0\n",
              "annual_inc                 0\n",
              "verification_status        0\n",
              "loan_status                0\n",
              "purpose                    0\n",
              "dti                        0\n",
              "open_acc                   0\n",
              "pub_rec                    0\n",
              "revol_bal                  0\n",
              "revol_util                 0\n",
              "total_acc                  0\n",
              "initial_list_status        0\n",
              "application_type           0\n",
              "mort_acc               37740\n",
              "dtype: int64"
            ]
          },
          "metadata": {},
          "execution_count": 11
        }
      ]
    },
    {
      "cell_type": "markdown",
      "source": [
        "### emp_title 만 null인 경우 -> etc"
      ],
      "metadata": {
        "id": "aygJ22rOhDZe"
      }
    },
    {
      "cell_type": "code",
      "source": [
        "df.loc[df['emp_title'].isnull(), 'emp_title'] = 'etc'"
      ],
      "metadata": {
        "id": "o2Q57Yv3hc40"
      },
      "execution_count": null,
      "outputs": []
    },
    {
      "cell_type": "code",
      "source": [
        "df.isna().sum()"
      ],
      "metadata": {
        "colab": {
          "base_uri": "https://localhost:8080/"
        },
        "id": "tFT-ChA2hsjE",
        "outputId": "10ff1da1-8ddb-425c-c2ee-815da0d9192d"
      },
      "execution_count": null,
      "outputs": [
        {
          "output_type": "execute_result",
          "data": {
            "text/plain": [
              "loan_amnt                  0\n",
              "term                       0\n",
              "int_rate                   0\n",
              "installment                0\n",
              "sub_grade                  0\n",
              "emp_title                  0\n",
              "emp_length               177\n",
              "home_ownership             0\n",
              "annual_inc                 0\n",
              "verification_status        0\n",
              "loan_status                0\n",
              "purpose                    0\n",
              "dti                        0\n",
              "open_acc                   0\n",
              "pub_rec                    0\n",
              "revol_bal                  0\n",
              "revol_util                 0\n",
              "total_acc                  0\n",
              "initial_list_status        0\n",
              "application_type           0\n",
              "mort_acc               37740\n",
              "dtype: int64"
            ]
          },
          "metadata": {},
          "execution_count": 13
        }
      ]
    },
    {
      "cell_type": "markdown",
      "source": [
        "### emp_length만 null인 경우 -> 0"
      ],
      "metadata": {
        "id": "QnGsXqdIiFCU"
      }
    },
    {
      "cell_type": "code",
      "source": [
        "df.loc[df['emp_length'].isnull(), 'emp_length'] = 0"
      ],
      "metadata": {
        "id": "rnAPxzREHBnv"
      },
      "execution_count": null,
      "outputs": []
    },
    {
      "cell_type": "code",
      "source": [
        "df.isna().sum()"
      ],
      "metadata": {
        "colab": {
          "base_uri": "https://localhost:8080/"
        },
        "id": "9HupGrD3JRXW",
        "outputId": "8d84c525-e435-41f5-f261-d51ac418dc13"
      },
      "execution_count": null,
      "outputs": [
        {
          "output_type": "execute_result",
          "data": {
            "text/plain": [
              "loan_amnt                  0\n",
              "term                       0\n",
              "int_rate                   0\n",
              "installment                0\n",
              "sub_grade                  0\n",
              "emp_title                  0\n",
              "emp_length                 0\n",
              "home_ownership             0\n",
              "annual_inc                 0\n",
              "verification_status        0\n",
              "loan_status                0\n",
              "purpose                    0\n",
              "dti                        0\n",
              "open_acc                   0\n",
              "pub_rec                    0\n",
              "revol_bal                  0\n",
              "revol_util                 0\n",
              "total_acc                  0\n",
              "initial_list_status        0\n",
              "application_type           0\n",
              "mort_acc               37740\n",
              "dtype: int64"
            ]
          },
          "metadata": {},
          "execution_count": 15
        }
      ]
    },
    {
      "cell_type": "markdown",
      "source": [
        "### mort_acc 결측치 채우기\n",
        "    - home_ownership이 mortgage인 경우는 1\n",
        "    - 나머지는 0"
      ],
      "metadata": {
        "id": "r2g0AicpkCr5"
      }
    },
    {
      "cell_type": "code",
      "source": [
        "df.loc[df['mort_acc'].isna() & (df['home_ownership'] == ''), 'mort_acc'] = 1\n",
        "df.loc[df['mort_acc'].isna(), 'mort_acc'] = 0"
      ],
      "metadata": {
        "id": "c3snxKHaiwrx"
      },
      "execution_count": null,
      "outputs": []
    },
    {
      "cell_type": "code",
      "source": [
        "df.isna().sum()"
      ],
      "metadata": {
        "colab": {
          "base_uri": "https://localhost:8080/"
        },
        "id": "-h-yKOYcjeO7",
        "outputId": "65bafcef-4e36-410f-9a0f-70b66de744cc"
      },
      "execution_count": null,
      "outputs": [
        {
          "output_type": "execute_result",
          "data": {
            "text/plain": [
              "loan_amnt              0\n",
              "term                   0\n",
              "int_rate               0\n",
              "installment            0\n",
              "sub_grade              0\n",
              "emp_title              0\n",
              "emp_length             0\n",
              "home_ownership         0\n",
              "annual_inc             0\n",
              "verification_status    0\n",
              "loan_status            0\n",
              "purpose                0\n",
              "dti                    0\n",
              "open_acc               0\n",
              "pub_rec                0\n",
              "revol_bal              0\n",
              "revol_util             0\n",
              "total_acc              0\n",
              "initial_list_status    0\n",
              "application_type       0\n",
              "mort_acc               0\n",
              "dtype: int64"
            ]
          },
          "metadata": {},
          "execution_count": 17
        }
      ]
    },
    {
      "cell_type": "markdown",
      "source": [
        "### emp_title"
      ],
      "metadata": {
        "id": "dHbloK4_1dei"
      }
    },
    {
      "cell_type": "code",
      "source": [
        "df['emp_title'].fillna('', inplace=True)"
      ],
      "metadata": {
        "id": "csB_nfFi1fAh"
      },
      "execution_count": null,
      "outputs": []
    },
    {
      "cell_type": "code",
      "source": [
        "# ['Corporation', 'LLC', 'Inc']를 포함하면 corporation으로 정리\n",
        "df['emp_category'] = df['emp_title'].apply(lambda x: 'Corporation' if any(keyword in x.lower() for keyword in ['corporation', 'llc', 'inc', 'corp']) else x)"
      ],
      "metadata": {
        "id": "nWlS7VS0OTGn"
      },
      "execution_count": null,
      "outputs": []
    },
    {
      "cell_type": "code",
      "source": [
        "# ['manager', 'supervisor'] 포함하면 manger로 정리\n",
        "df['emp_category'] = df['emp_category'].apply(lambda x: 'Manager' if any(keyword in x.lower() for keyword in ['manager', 'supervisor']) else x)"
      ],
      "metadata": {
        "id": "JBWUcuf9OVDh"
      },
      "execution_count": null,
      "outputs": []
    },
    {
      "cell_type": "code",
      "source": [
        "# 전문 직종\n",
        "professional_titles = [\n",
        "        'accountant',\n",
        "        'architect',\n",
        "        'attorney',\n",
        "        'dentist',\n",
        "        'engineer',\n",
        "        'financial analyst',\n",
        "        'graphic designer',\n",
        "        'nurse',\n",
        "        'pharmacist',\n",
        "        'physician',\n",
        "        'software developer',\n",
        "        'data scientist',\n",
        "        'psychologist',\n",
        "        'marketing manager',\n",
        "        'veterinarian',\n",
        "        'biomedical engineer',\n",
        "        'civil engineer',\n",
        "        'interior designer',\n",
        "        'pharmaceutical sales representative',\n",
        "        'industrial designer',\n",
        "        'biotechnologist',\n",
        "        'environmental scientist',\n",
        "        'geologist',\n",
        "        'physiotherapist',\n",
        "        'mathematician',\n",
        "        'chemist',\n",
        "        'professor',\n",
        "        'economist',\n",
        "        'librarian',\n",
        "        'sociologist',\n",
        "        'electrician',\n",
        "        'plumber',\n",
        "        'chef',\n",
        "        'fashion designer',\n",
        "        'social worker',\n",
        "        'zoologist',\n",
        "        'meteorologist',\n",
        "        'nutritionist',\n",
        "        'landscape architect',\n",
        "        'rn'\n",
        "        'Specialist'\n",
        "        'Technologist'\n",
        "        ]\n",
        "df['emp_category'] = df['emp_category'].apply(lambda x: 'Professional' if any(keyword in x.lower() for keyword in professional_titles) else x)"
      ],
      "metadata": {
        "id": "mvGEi00sOYBT"
      },
      "execution_count": null,
      "outputs": []
    },
    {
      "cell_type": "code",
      "source": [
        "public_servant_titles = [\n",
        "        'civil servant',\n",
        "        'government administrator',\n",
        "        'police officer',\n",
        "        'firefighter',\n",
        "        'judge',\n",
        "        'prosecutor',\n",
        "        'mayor',\n",
        "        'senator',\n",
        "        'congressman',\n",
        "        'diplomat',\n",
        "        'public health officer',\n",
        "        'environmental inspector',\n",
        "        'social worker',\n",
        "        'municipal clerk',\n",
        "        'city planner',\n",
        "        'tax inspector',\n",
        "        'military officer',\n",
        "        'customs officer',\n",
        "        'border patrol agent',\n",
        "        'correctional officer',\n",
        "        'postal worker',\n",
        "        'park ranger',\n",
        "        'conservation officer',\n",
        "        'forester',\n",
        "        'urban planner',\n",
        "        'school administrator',\n",
        "        'librarian',\n",
        "        'archivist',\n",
        "        'historian',\n",
        "        'public affairs specialist',\n",
        "        'public relations manager',\n",
        "        'foreign service officer',\n",
        "        'teacher'\n",
        "        'corrections major'\n",
        "    ]\n",
        "df['emp_category'] = df['emp_category'].apply(lambda x: 'Public' if any(keyword in x.lower() for keyword in public_servant_titles) else x)"
      ],
      "metadata": {
        "id": "cl8ZXjAUObNL"
      },
      "execution_count": null,
      "outputs": []
    },
    {
      "cell_type": "code",
      "source": [
        "medical_titles = [\n",
        "        'physician',\n",
        "        'surgeon',\n",
        "        'nurse',\n",
        "        'dentist',\n",
        "        'pharmacist',\n",
        "        'paramedic',\n",
        "        'radiologist',\n",
        "        'anesthesiologist',\n",
        "        'dermatologist',\n",
        "        'pediatrician',\n",
        "        'psychiatrist',\n",
        "        'orthopedic surgeon',\n",
        "        'obstetrician',\n",
        "        'gynecologist',\n",
        "        'ophthalmologist',\n",
        "        'audiologist',\n",
        "        'pathologist',\n",
        "        'veterinarian',\n",
        "        'phlebotomist',\n",
        "        'medical laboratory technician',\n",
        "        'occupational therapist',\n",
        "        'physical therapist',\n",
        "        'respiratory therapist',\n",
        "        'speech therapist',\n",
        "        'chiropractor',\n",
        "        'acupuncturist',\n",
        "        'clinical psychologist',\n",
        "        'nutritionist',\n",
        "        'genetic counselor',\n",
        "        'radiation therapist',\n",
        "        'medical illustrator',\n",
        "        'biomedical engineer',\n",
        "        'medical researcher',\n",
        "        'public health analyst',\n",
        "        'RN'\n",
        "        'registered nurse'\n",
        "    ]\n",
        "df['emp_category'] = df['emp_category'].apply(lambda x: 'Medical' if any(keyword in x.lower() for keyword in medical_titles) else x)"
      ],
      "metadata": {
        "id": "xzDMNvYDOeLy"
      },
      "execution_count": null,
      "outputs": []
    },
    {
      "cell_type": "code",
      "source": [
        "education_titles = [\n",
        "        'teacher',\n",
        "        'professor',\n",
        "        'instructor',\n",
        "        'principal',\n",
        "        'dean',\n",
        "        'librarian',\n",
        "        'instructional designer',\n",
        "        'tutor',\n",
        "        'educator',\n",
        "        'instructor',\n",
        "        'e-learning developer']\n",
        "df['emp_category'] = df['emp_category'].apply(lambda x: 'Education' if any(keyword in x.lower() for keyword in medical_titles) else x)"
      ],
      "metadata": {
        "id": "XJxI8fQcGnQJ"
      },
      "execution_count": null,
      "outputs": []
    },
    {
      "cell_type": "code",
      "source": [
        "df.loc[df['emp_title'] == '','emp_title'] = None\n",
        "# 직원 직함('emp_category') 열에서 고유한 값의 카운트\n",
        "value_counts = df['emp_category'].value_counts()\n",
        "\n",
        "# 값이 1 이하인 항목 추출\n",
        "filtered_value_counts = value_counts[value_counts <= 1]\n",
        "\n",
        "# 값이 1인 경우 'emp_title' 열을 'small business owner'로 변경\n",
        "if (filtered_value_counts == 1).any():\n",
        "    df.loc[df['emp_category'].isin(filtered_value_counts.index), 'emp_category'] = 'small business owner'\n",
        "\n"
      ],
      "metadata": {
        "id": "WQuJy6g4Og53"
      },
      "execution_count": null,
      "outputs": []
    },
    {
      "cell_type": "code",
      "source": [
        "df['emp_category'].value_counts()"
      ],
      "metadata": {
        "colab": {
          "base_uri": "https://localhost:8080/"
        },
        "id": "2vVeEY9kPNtG",
        "outputId": "63cc5c4f-4dc2-4d49-87d0-370952d73625"
      },
      "execution_count": null,
      "outputs": [
        {
          "output_type": "execute_result",
          "data": {
            "text/plain": [
              "small business owner                 115786\n",
              "Manager                               47443\n",
              "Professional                          23432\n",
              "Corporation                           18972\n",
              "No Job                                18113\n",
              "                                      ...  \n",
              "Cooper Standard                           2\n",
              "Executive Protection                      2\n",
              "Flushing Radiation Oncology               2\n",
              "Senior Development Consultant             2\n",
              "Laurens County Board of Education         2\n",
              "Name: emp_category, Length: 22852, dtype: int64"
            ]
          },
          "metadata": {},
          "execution_count": 26
        }
      ]
    },
    {
      "cell_type": "code",
      "source": [
        "df['emp_category'] = df['emp_category'].apply(lambda x: x.lower())"
      ],
      "metadata": {
        "id": "yCsfNvOozh9D"
      },
      "execution_count": null,
      "outputs": []
    },
    {
      "cell_type": "markdown",
      "source": [
        "### emp_title drop/ emp_category에 정리되어있음"
      ],
      "metadata": {
        "id": "seW-znUkL_5h"
      }
    },
    {
      "cell_type": "code",
      "source": [
        "df = df.drop('emp_title', axis=1)"
      ],
      "metadata": {
        "id": "ahsOdc-hJY4Q"
      },
      "execution_count": null,
      "outputs": []
    },
    {
      "cell_type": "markdown",
      "source": [
        "### 결측치 처리된 데이터 저장"
      ],
      "metadata": {
        "id": "nmbBKZRjj1G9"
      }
    },
    {
      "cell_type": "code",
      "source": [
        "df.head()"
      ],
      "metadata": {
        "colab": {
          "base_uri": "https://localhost:8080/",
          "height": 342
        },
        "id": "KGnkTZc4kiEF",
        "outputId": "83ac49e4-64f3-49ec-f06d-c1dfd172c5e6"
      },
      "execution_count": null,
      "outputs": [
        {
          "output_type": "execute_result",
          "data": {
            "text/plain": [
              "   loan_amnt        term  int_rate  installment sub_grade emp_length  \\\n",
              "0    10000.0   36 months     11.44       329.48        B4  10+ years   \n",
              "1     8000.0   36 months     11.99       265.68        B5    4 years   \n",
              "2    15600.0   36 months     10.49       506.97        B3   < 1 year   \n",
              "3     7200.0   36 months      6.49       220.65        A2    6 years   \n",
              "4    24375.0   60 months     17.27       609.33        C5    9 years   \n",
              "\n",
              "  home_ownership  annual_inc verification_status  loan_status  ...    dti  \\\n",
              "0           RENT    117000.0        Not Verified   Fully Paid  ...  26.24   \n",
              "1       MORTGAGE     65000.0        Not Verified   Fully Paid  ...  22.05   \n",
              "2           RENT     43057.0     Source Verified   Fully Paid  ...  12.79   \n",
              "3           RENT     54000.0        Not Verified   Fully Paid  ...   2.60   \n",
              "4       MORTGAGE     55000.0            Verified  Charged Off  ...  33.95   \n",
              "\n",
              "   open_acc  pub_rec  revol_bal  revol_util  total_acc  initial_list_status  \\\n",
              "0      16.0      0.0    36369.0        41.8       25.0                    w   \n",
              "1      17.0      0.0    20131.0        53.3       27.0                    f   \n",
              "2      13.0      0.0    11987.0        92.2       26.0                    f   \n",
              "3       6.0      0.0     5472.0        21.5       13.0                    f   \n",
              "4      13.0      0.0    24584.0        69.8       43.0                    f   \n",
              "\n",
              "  application_type mort_acc          emp_category  \n",
              "0       INDIVIDUAL      0.0             marketing  \n",
              "1       INDIVIDUAL      3.0       credit analyst   \n",
              "2       INDIVIDUAL      0.0          statistician  \n",
              "3       INDIVIDUAL      0.0  small business owner  \n",
              "4       INDIVIDUAL      1.0           corporation  \n",
              "\n",
              "[5 rows x 21 columns]"
            ],
            "text/html": [
              "\n",
              "  <div id=\"df-e9d7ebe4-3560-4cdf-998c-42f8c7139bef\" class=\"colab-df-container\">\n",
              "    <div>\n",
              "<style scoped>\n",
              "    .dataframe tbody tr th:only-of-type {\n",
              "        vertical-align: middle;\n",
              "    }\n",
              "\n",
              "    .dataframe tbody tr th {\n",
              "        vertical-align: top;\n",
              "    }\n",
              "\n",
              "    .dataframe thead th {\n",
              "        text-align: right;\n",
              "    }\n",
              "</style>\n",
              "<table border=\"1\" class=\"dataframe\">\n",
              "  <thead>\n",
              "    <tr style=\"text-align: right;\">\n",
              "      <th></th>\n",
              "      <th>loan_amnt</th>\n",
              "      <th>term</th>\n",
              "      <th>int_rate</th>\n",
              "      <th>installment</th>\n",
              "      <th>sub_grade</th>\n",
              "      <th>emp_length</th>\n",
              "      <th>home_ownership</th>\n",
              "      <th>annual_inc</th>\n",
              "      <th>verification_status</th>\n",
              "      <th>loan_status</th>\n",
              "      <th>...</th>\n",
              "      <th>dti</th>\n",
              "      <th>open_acc</th>\n",
              "      <th>pub_rec</th>\n",
              "      <th>revol_bal</th>\n",
              "      <th>revol_util</th>\n",
              "      <th>total_acc</th>\n",
              "      <th>initial_list_status</th>\n",
              "      <th>application_type</th>\n",
              "      <th>mort_acc</th>\n",
              "      <th>emp_category</th>\n",
              "    </tr>\n",
              "  </thead>\n",
              "  <tbody>\n",
              "    <tr>\n",
              "      <th>0</th>\n",
              "      <td>10000.0</td>\n",
              "      <td>36 months</td>\n",
              "      <td>11.44</td>\n",
              "      <td>329.48</td>\n",
              "      <td>B4</td>\n",
              "      <td>10+ years</td>\n",
              "      <td>RENT</td>\n",
              "      <td>117000.0</td>\n",
              "      <td>Not Verified</td>\n",
              "      <td>Fully Paid</td>\n",
              "      <td>...</td>\n",
              "      <td>26.24</td>\n",
              "      <td>16.0</td>\n",
              "      <td>0.0</td>\n",
              "      <td>36369.0</td>\n",
              "      <td>41.8</td>\n",
              "      <td>25.0</td>\n",
              "      <td>w</td>\n",
              "      <td>INDIVIDUAL</td>\n",
              "      <td>0.0</td>\n",
              "      <td>marketing</td>\n",
              "    </tr>\n",
              "    <tr>\n",
              "      <th>1</th>\n",
              "      <td>8000.0</td>\n",
              "      <td>36 months</td>\n",
              "      <td>11.99</td>\n",
              "      <td>265.68</td>\n",
              "      <td>B5</td>\n",
              "      <td>4 years</td>\n",
              "      <td>MORTGAGE</td>\n",
              "      <td>65000.0</td>\n",
              "      <td>Not Verified</td>\n",
              "      <td>Fully Paid</td>\n",
              "      <td>...</td>\n",
              "      <td>22.05</td>\n",
              "      <td>17.0</td>\n",
              "      <td>0.0</td>\n",
              "      <td>20131.0</td>\n",
              "      <td>53.3</td>\n",
              "      <td>27.0</td>\n",
              "      <td>f</td>\n",
              "      <td>INDIVIDUAL</td>\n",
              "      <td>3.0</td>\n",
              "      <td>credit analyst</td>\n",
              "    </tr>\n",
              "    <tr>\n",
              "      <th>2</th>\n",
              "      <td>15600.0</td>\n",
              "      <td>36 months</td>\n",
              "      <td>10.49</td>\n",
              "      <td>506.97</td>\n",
              "      <td>B3</td>\n",
              "      <td>&lt; 1 year</td>\n",
              "      <td>RENT</td>\n",
              "      <td>43057.0</td>\n",
              "      <td>Source Verified</td>\n",
              "      <td>Fully Paid</td>\n",
              "      <td>...</td>\n",
              "      <td>12.79</td>\n",
              "      <td>13.0</td>\n",
              "      <td>0.0</td>\n",
              "      <td>11987.0</td>\n",
              "      <td>92.2</td>\n",
              "      <td>26.0</td>\n",
              "      <td>f</td>\n",
              "      <td>INDIVIDUAL</td>\n",
              "      <td>0.0</td>\n",
              "      <td>statistician</td>\n",
              "    </tr>\n",
              "    <tr>\n",
              "      <th>3</th>\n",
              "      <td>7200.0</td>\n",
              "      <td>36 months</td>\n",
              "      <td>6.49</td>\n",
              "      <td>220.65</td>\n",
              "      <td>A2</td>\n",
              "      <td>6 years</td>\n",
              "      <td>RENT</td>\n",
              "      <td>54000.0</td>\n",
              "      <td>Not Verified</td>\n",
              "      <td>Fully Paid</td>\n",
              "      <td>...</td>\n",
              "      <td>2.60</td>\n",
              "      <td>6.0</td>\n",
              "      <td>0.0</td>\n",
              "      <td>5472.0</td>\n",
              "      <td>21.5</td>\n",
              "      <td>13.0</td>\n",
              "      <td>f</td>\n",
              "      <td>INDIVIDUAL</td>\n",
              "      <td>0.0</td>\n",
              "      <td>small business owner</td>\n",
              "    </tr>\n",
              "    <tr>\n",
              "      <th>4</th>\n",
              "      <td>24375.0</td>\n",
              "      <td>60 months</td>\n",
              "      <td>17.27</td>\n",
              "      <td>609.33</td>\n",
              "      <td>C5</td>\n",
              "      <td>9 years</td>\n",
              "      <td>MORTGAGE</td>\n",
              "      <td>55000.0</td>\n",
              "      <td>Verified</td>\n",
              "      <td>Charged Off</td>\n",
              "      <td>...</td>\n",
              "      <td>33.95</td>\n",
              "      <td>13.0</td>\n",
              "      <td>0.0</td>\n",
              "      <td>24584.0</td>\n",
              "      <td>69.8</td>\n",
              "      <td>43.0</td>\n",
              "      <td>f</td>\n",
              "      <td>INDIVIDUAL</td>\n",
              "      <td>1.0</td>\n",
              "      <td>corporation</td>\n",
              "    </tr>\n",
              "  </tbody>\n",
              "</table>\n",
              "<p>5 rows × 21 columns</p>\n",
              "</div>\n",
              "    <div class=\"colab-df-buttons\">\n",
              "\n",
              "  <div class=\"colab-df-container\">\n",
              "    <button class=\"colab-df-convert\" onclick=\"convertToInteractive('df-e9d7ebe4-3560-4cdf-998c-42f8c7139bef')\"\n",
              "            title=\"Convert this dataframe to an interactive table.\"\n",
              "            style=\"display:none;\">\n",
              "\n",
              "  <svg xmlns=\"http://www.w3.org/2000/svg\" height=\"24px\" viewBox=\"0 -960 960 960\">\n",
              "    <path d=\"M120-120v-720h720v720H120Zm60-500h600v-160H180v160Zm220 220h160v-160H400v160Zm0 220h160v-160H400v160ZM180-400h160v-160H180v160Zm440 0h160v-160H620v160ZM180-180h160v-160H180v160Zm440 0h160v-160H620v160Z\"/>\n",
              "  </svg>\n",
              "    </button>\n",
              "\n",
              "  <style>\n",
              "    .colab-df-container {\n",
              "      display:flex;\n",
              "      gap: 12px;\n",
              "    }\n",
              "\n",
              "    .colab-df-convert {\n",
              "      background-color: #E8F0FE;\n",
              "      border: none;\n",
              "      border-radius: 50%;\n",
              "      cursor: pointer;\n",
              "      display: none;\n",
              "      fill: #1967D2;\n",
              "      height: 32px;\n",
              "      padding: 0 0 0 0;\n",
              "      width: 32px;\n",
              "    }\n",
              "\n",
              "    .colab-df-convert:hover {\n",
              "      background-color: #E2EBFA;\n",
              "      box-shadow: 0px 1px 2px rgba(60, 64, 67, 0.3), 0px 1px 3px 1px rgba(60, 64, 67, 0.15);\n",
              "      fill: #174EA6;\n",
              "    }\n",
              "\n",
              "    .colab-df-buttons div {\n",
              "      margin-bottom: 4px;\n",
              "    }\n",
              "\n",
              "    [theme=dark] .colab-df-convert {\n",
              "      background-color: #3B4455;\n",
              "      fill: #D2E3FC;\n",
              "    }\n",
              "\n",
              "    [theme=dark] .colab-df-convert:hover {\n",
              "      background-color: #434B5C;\n",
              "      box-shadow: 0px 1px 3px 1px rgba(0, 0, 0, 0.15);\n",
              "      filter: drop-shadow(0px 1px 2px rgba(0, 0, 0, 0.3));\n",
              "      fill: #FFFFFF;\n",
              "    }\n",
              "  </style>\n",
              "\n",
              "    <script>\n",
              "      const buttonEl =\n",
              "        document.querySelector('#df-e9d7ebe4-3560-4cdf-998c-42f8c7139bef button.colab-df-convert');\n",
              "      buttonEl.style.display =\n",
              "        google.colab.kernel.accessAllowed ? 'block' : 'none';\n",
              "\n",
              "      async function convertToInteractive(key) {\n",
              "        const element = document.querySelector('#df-e9d7ebe4-3560-4cdf-998c-42f8c7139bef');\n",
              "        const dataTable =\n",
              "          await google.colab.kernel.invokeFunction('convertToInteractive',\n",
              "                                                    [key], {});\n",
              "        if (!dataTable) return;\n",
              "\n",
              "        const docLinkHtml = 'Like what you see? Visit the ' +\n",
              "          '<a target=\"_blank\" href=https://colab.research.google.com/notebooks/data_table.ipynb>data table notebook</a>'\n",
              "          + ' to learn more about interactive tables.';\n",
              "        element.innerHTML = '';\n",
              "        dataTable['output_type'] = 'display_data';\n",
              "        await google.colab.output.renderOutput(dataTable, element);\n",
              "        const docLink = document.createElement('div');\n",
              "        docLink.innerHTML = docLinkHtml;\n",
              "        element.appendChild(docLink);\n",
              "      }\n",
              "    </script>\n",
              "  </div>\n",
              "\n",
              "\n",
              "<div id=\"df-9e6e1aba-b734-4010-b94f-8e0dbf2934f3\">\n",
              "  <button class=\"colab-df-quickchart\" onclick=\"quickchart('df-9e6e1aba-b734-4010-b94f-8e0dbf2934f3')\"\n",
              "            title=\"Suggest charts.\"\n",
              "            style=\"display:none;\">\n",
              "\n",
              "<svg xmlns=\"http://www.w3.org/2000/svg\" height=\"24px\"viewBox=\"0 0 24 24\"\n",
              "     width=\"24px\">\n",
              "    <g>\n",
              "        <path d=\"M19 3H5c-1.1 0-2 .9-2 2v14c0 1.1.9 2 2 2h14c1.1 0 2-.9 2-2V5c0-1.1-.9-2-2-2zM9 17H7v-7h2v7zm4 0h-2V7h2v10zm4 0h-2v-4h2v4z\"/>\n",
              "    </g>\n",
              "</svg>\n",
              "  </button>\n",
              "\n",
              "<style>\n",
              "  .colab-df-quickchart {\n",
              "      --bg-color: #E8F0FE;\n",
              "      --fill-color: #1967D2;\n",
              "      --hover-bg-color: #E2EBFA;\n",
              "      --hover-fill-color: #174EA6;\n",
              "      --disabled-fill-color: #AAA;\n",
              "      --disabled-bg-color: #DDD;\n",
              "  }\n",
              "\n",
              "  [theme=dark] .colab-df-quickchart {\n",
              "      --bg-color: #3B4455;\n",
              "      --fill-color: #D2E3FC;\n",
              "      --hover-bg-color: #434B5C;\n",
              "      --hover-fill-color: #FFFFFF;\n",
              "      --disabled-bg-color: #3B4455;\n",
              "      --disabled-fill-color: #666;\n",
              "  }\n",
              "\n",
              "  .colab-df-quickchart {\n",
              "    background-color: var(--bg-color);\n",
              "    border: none;\n",
              "    border-radius: 50%;\n",
              "    cursor: pointer;\n",
              "    display: none;\n",
              "    fill: var(--fill-color);\n",
              "    height: 32px;\n",
              "    padding: 0;\n",
              "    width: 32px;\n",
              "  }\n",
              "\n",
              "  .colab-df-quickchart:hover {\n",
              "    background-color: var(--hover-bg-color);\n",
              "    box-shadow: 0 1px 2px rgba(60, 64, 67, 0.3), 0 1px 3px 1px rgba(60, 64, 67, 0.15);\n",
              "    fill: var(--button-hover-fill-color);\n",
              "  }\n",
              "\n",
              "  .colab-df-quickchart-complete:disabled,\n",
              "  .colab-df-quickchart-complete:disabled:hover {\n",
              "    background-color: var(--disabled-bg-color);\n",
              "    fill: var(--disabled-fill-color);\n",
              "    box-shadow: none;\n",
              "  }\n",
              "\n",
              "  .colab-df-spinner {\n",
              "    border: 2px solid var(--fill-color);\n",
              "    border-color: transparent;\n",
              "    border-bottom-color: var(--fill-color);\n",
              "    animation:\n",
              "      spin 1s steps(1) infinite;\n",
              "  }\n",
              "\n",
              "  @keyframes spin {\n",
              "    0% {\n",
              "      border-color: transparent;\n",
              "      border-bottom-color: var(--fill-color);\n",
              "      border-left-color: var(--fill-color);\n",
              "    }\n",
              "    20% {\n",
              "      border-color: transparent;\n",
              "      border-left-color: var(--fill-color);\n",
              "      border-top-color: var(--fill-color);\n",
              "    }\n",
              "    30% {\n",
              "      border-color: transparent;\n",
              "      border-left-color: var(--fill-color);\n",
              "      border-top-color: var(--fill-color);\n",
              "      border-right-color: var(--fill-color);\n",
              "    }\n",
              "    40% {\n",
              "      border-color: transparent;\n",
              "      border-right-color: var(--fill-color);\n",
              "      border-top-color: var(--fill-color);\n",
              "    }\n",
              "    60% {\n",
              "      border-color: transparent;\n",
              "      border-right-color: var(--fill-color);\n",
              "    }\n",
              "    80% {\n",
              "      border-color: transparent;\n",
              "      border-right-color: var(--fill-color);\n",
              "      border-bottom-color: var(--fill-color);\n",
              "    }\n",
              "    90% {\n",
              "      border-color: transparent;\n",
              "      border-bottom-color: var(--fill-color);\n",
              "    }\n",
              "  }\n",
              "</style>\n",
              "\n",
              "  <script>\n",
              "    async function quickchart(key) {\n",
              "      const quickchartButtonEl =\n",
              "        document.querySelector('#' + key + ' button');\n",
              "      quickchartButtonEl.disabled = true;  // To prevent multiple clicks.\n",
              "      quickchartButtonEl.classList.add('colab-df-spinner');\n",
              "      try {\n",
              "        const charts = await google.colab.kernel.invokeFunction(\n",
              "            'suggestCharts', [key], {});\n",
              "      } catch (error) {\n",
              "        console.error('Error during call to suggestCharts:', error);\n",
              "      }\n",
              "      quickchartButtonEl.classList.remove('colab-df-spinner');\n",
              "      quickchartButtonEl.classList.add('colab-df-quickchart-complete');\n",
              "    }\n",
              "    (() => {\n",
              "      let quickchartButtonEl =\n",
              "        document.querySelector('#df-9e6e1aba-b734-4010-b94f-8e0dbf2934f3 button');\n",
              "      quickchartButtonEl.style.display =\n",
              "        google.colab.kernel.accessAllowed ? 'block' : 'none';\n",
              "    })();\n",
              "  </script>\n",
              "</div>\n",
              "    </div>\n",
              "  </div>\n"
            ]
          },
          "metadata": {},
          "execution_count": 29
        }
      ]
    },
    {
      "cell_type": "code",
      "source": [
        "df.to_csv('lending_club.csv')"
      ],
      "metadata": {
        "id": "unBfGa8Uj4ml"
      },
      "execution_count": null,
      "outputs": []
    },
    {
      "cell_type": "markdown",
      "source": [
        "## 3-3.범주형 데이터 labeling\n",
        "    - term = {'36 months' : 0, '60 months' : 1}\n",
        "    - sub_grade = {'A': 1, 'B' : 2, 'C' : 3, 'D' : 4, 'E' : 5, 'F' : 6, 'G' : 7}\n",
        "    - emp_title = 전문직종, 의학계열 등 카테고리로 분류 -> emp_category\n",
        "    - emp_length = 숫자만 가져오기\n",
        "    - verification_status = {'Not Verified' : 0, 'Source Verified' : 1, 'Verified' : 2}\n",
        "\n",
        "### label encoder 사용\n",
        "    - home_ownership\n",
        "    - loan_status = {'Charged Off': 0, 'Fully Paid' : 1}\n",
        "    - purpose\n",
        "    - initial_list_status\n",
        "    - application_type\n"
      ],
      "metadata": {
        "id": "TT1QKbblv1Vf"
      }
    },
    {
      "cell_type": "markdown",
      "source": [
        "### term"
      ],
      "metadata": {
        "id": "J1c8jzZcxsv3"
      }
    },
    {
      "cell_type": "code",
      "source": [
        "df['term'].unique()"
      ],
      "metadata": {
        "colab": {
          "base_uri": "https://localhost:8080/"
        },
        "id": "9CADcxJgxcQd",
        "outputId": "70e43210-cd6b-487f-b481-5d159326867b"
      },
      "execution_count": null,
      "outputs": [
        {
          "output_type": "execute_result",
          "data": {
            "text/plain": [
              "array([' 36 months', ' 60 months'], dtype=object)"
            ]
          },
          "metadata": {},
          "execution_count": 31
        }
      ]
    },
    {
      "cell_type": "code",
      "source": [
        "df['term'] = df['term'].apply(lambda x : str(x).replace(' 36 months', '0'))\n",
        "df['term'] = df['term'].apply(lambda x : str(x).replace(' 60 months', '1'))\n",
        "df['term'] = df['term'].astype('int')"
      ],
      "metadata": {
        "id": "yUKSNk_sv_fQ"
      },
      "execution_count": null,
      "outputs": []
    },
    {
      "cell_type": "code",
      "source": [
        "df['term'].unique()"
      ],
      "metadata": {
        "colab": {
          "base_uri": "https://localhost:8080/"
        },
        "id": "aZFa6hYTxb_b",
        "outputId": "6cca1921-0577-45aa-a290-910a5b3d12f6"
      },
      "execution_count": null,
      "outputs": [
        {
          "output_type": "execute_result",
          "data": {
            "text/plain": [
              "array([0, 1])"
            ]
          },
          "metadata": {},
          "execution_count": 33
        }
      ]
    },
    {
      "cell_type": "markdown",
      "source": [
        "### sub_grade"
      ],
      "metadata": {
        "id": "EUibUz8qx1I6"
      }
    },
    {
      "cell_type": "code",
      "source": [
        "df['sub_grade'].unique()"
      ],
      "metadata": {
        "colab": {
          "base_uri": "https://localhost:8080/"
        },
        "id": "9OQH7e_n0PPu",
        "outputId": "17279cd3-6461-45f2-dcd8-a7080d54f1cb"
      },
      "execution_count": null,
      "outputs": [
        {
          "output_type": "execute_result",
          "data": {
            "text/plain": [
              "array(['B4', 'B5', 'B3', 'A2', 'C5', 'C3', 'A1', 'B2', 'C1', 'A5', 'E4',\n",
              "       'A4', 'A3', 'D1', 'C2', 'B1', 'D3', 'D5', 'D2', 'E1', 'E2', 'E5',\n",
              "       'F4', 'E3', 'D4', 'G1', 'F5', 'G2', 'C4', 'F1', 'F3', 'G5', 'G4',\n",
              "       'F2', 'G3'], dtype=object)"
            ]
          },
          "metadata": {},
          "execution_count": 34
        }
      ]
    },
    {
      "cell_type": "code",
      "source": [
        "df['sub_grade'] = df['sub_grade'].apply(lambda x : str(x).replace('A', '1'))\n",
        "df['sub_grade'] = df['sub_grade'].apply(lambda x : str(x).replace('B', '2'))\n",
        "df['sub_grade'] = df['sub_grade'].apply(lambda x : str(x).replace('C', '3'))\n",
        "df['sub_grade'] = df['sub_grade'].apply(lambda x : str(x).replace('D', '4'))\n",
        "df['sub_grade'] = df['sub_grade'].apply(lambda x : str(x).replace('E', '5'))\n",
        "df['sub_grade'] = df['sub_grade'].apply(lambda x : str(x).replace('F', '6'))\n",
        "df['sub_grade'] = df['sub_grade'].apply(lambda x : str(x).replace('G', '7'))\n",
        "df['sub_grade'] = df['sub_grade'].astype('int')"
      ],
      "metadata": {
        "id": "iw9h8g7N0WUe"
      },
      "execution_count": null,
      "outputs": []
    },
    {
      "cell_type": "code",
      "source": [
        "df['sub_grade'].unique()"
      ],
      "metadata": {
        "colab": {
          "base_uri": "https://localhost:8080/"
        },
        "id": "Fc2fZSFy0vPI",
        "outputId": "b5263ce4-2192-4434-90e2-8e9db42975e7"
      },
      "execution_count": null,
      "outputs": [
        {
          "output_type": "execute_result",
          "data": {
            "text/plain": [
              "array([24, 25, 23, 12, 35, 33, 11, 22, 31, 15, 54, 14, 13, 41, 32, 21, 43,\n",
              "       45, 42, 51, 52, 55, 64, 53, 44, 71, 65, 72, 34, 61, 63, 75, 74, 62,\n",
              "       73])"
            ]
          },
          "metadata": {},
          "execution_count": 36
        }
      ]
    },
    {
      "cell_type": "markdown",
      "source": [
        "### emp_length"
      ],
      "metadata": {
        "id": "QTCscGGi8IQ3"
      }
    },
    {
      "cell_type": "code",
      "source": [
        "df['emp_length'].unique()"
      ],
      "metadata": {
        "colab": {
          "base_uri": "https://localhost:8080/"
        },
        "id": "R7UPhd6u8IcI",
        "outputId": "5d1cc1f7-9c40-41b0-ea3e-c0ff553340c3"
      },
      "execution_count": null,
      "outputs": [
        {
          "output_type": "execute_result",
          "data": {
            "text/plain": [
              "array(['10+ years', '4 years', '< 1 year', '6 years', '9 years',\n",
              "       '2 years', '3 years', '8 years', '7 years', '5 years', '1 year', 0],\n",
              "      dtype=object)"
            ]
          },
          "metadata": {},
          "execution_count": 37
        }
      ]
    },
    {
      "cell_type": "code",
      "source": [
        "import re\n",
        "\n",
        "df['emp_length'] = df['emp_length'].apply(lambda x : re.sub(r'[^0-9]', '', str(x)))\n",
        "df['emp_length'] = df['emp_length'].astype('int')"
      ],
      "metadata": {
        "id": "AKSjSmVr8Ryf"
      },
      "execution_count": null,
      "outputs": []
    },
    {
      "cell_type": "code",
      "source": [
        "df['emp_length'].unique()"
      ],
      "metadata": {
        "colab": {
          "base_uri": "https://localhost:8080/"
        },
        "id": "ubBlRRuS8R1h",
        "outputId": "7e8022d1-7633-458b-8101-c52753b307ac"
      },
      "execution_count": null,
      "outputs": [
        {
          "output_type": "execute_result",
          "data": {
            "text/plain": [
              "array([10,  4,  1,  6,  9,  2,  3,  8,  7,  5,  0])"
            ]
          },
          "metadata": {},
          "execution_count": 39
        }
      ]
    },
    {
      "cell_type": "markdown",
      "source": [
        "### verification_status"
      ],
      "metadata": {
        "id": "0b8YBNRQBYSd"
      }
    },
    {
      "cell_type": "code",
      "source": [
        "df['verification_status'].unique()"
      ],
      "metadata": {
        "colab": {
          "base_uri": "https://localhost:8080/"
        },
        "id": "682x3qzzArcU",
        "outputId": "b680c334-26af-4dfc-ab34-655ebbb350e4"
      },
      "execution_count": null,
      "outputs": [
        {
          "output_type": "execute_result",
          "data": {
            "text/plain": [
              "array(['Not Verified', 'Source Verified', 'Verified'], dtype=object)"
            ]
          },
          "metadata": {},
          "execution_count": 40
        }
      ]
    },
    {
      "cell_type": "code",
      "source": [
        "df['verification_status'] = df['verification_status'].apply(lambda x : str(x).replace('Not Verified', '0'))\n",
        "df['verification_status'] = df['verification_status'].apply(lambda x : str(x).replace('Source Verified', '1'))\n",
        "df['verification_status'] = df['verification_status'].apply(lambda x : str(x).replace('Verified', '2'))\n",
        "df['verification_status'] = df['verification_status'].astype('int')"
      ],
      "metadata": {
        "id": "R8Ina7juBnZ8"
      },
      "execution_count": null,
      "outputs": []
    },
    {
      "cell_type": "code",
      "source": [
        "df['verification_status'].unique()"
      ],
      "metadata": {
        "colab": {
          "base_uri": "https://localhost:8080/"
        },
        "id": "SDoNjF1BCjTv",
        "outputId": "a1f2455a-3076-43ae-a534-b3e4c8953352"
      },
      "execution_count": null,
      "outputs": [
        {
          "output_type": "execute_result",
          "data": {
            "text/plain": [
              "array([0, 1, 2])"
            ]
          },
          "metadata": {},
          "execution_count": 42
        }
      ]
    },
    {
      "cell_type": "markdown",
      "source": [
        "### 나머지 label encoder 사용\n",
        "    home_ownership, loan_status, purpose, initial_list_status, application_type\n",
        "\n",
        "\n"
      ],
      "metadata": {
        "id": "Z_Ic2Qji_fb1"
      }
    },
    {
      "cell_type": "code",
      "source": [
        "from sklearn.preprocessing import LabelEncoder\n",
        "\n",
        "le = LabelEncoder()\n",
        "\n",
        "for column in df[['home_ownership', 'loan_status', 'purpose', 'initial_list_status', 'application_type', 'emp_category']].columns:\n",
        "    df[column] = df[column].astype(str)\n",
        "    df[column] = le.fit_transform(df[column])"
      ],
      "metadata": {
        "id": "9wM9Tb2OCmTS"
      },
      "execution_count": null,
      "outputs": []
    },
    {
      "cell_type": "code",
      "source": [
        "df.info()"
      ],
      "metadata": {
        "colab": {
          "base_uri": "https://localhost:8080/"
        },
        "id": "vd2kiJqOEFlk",
        "outputId": "a9f81fbc-1891-4c0d-e848-913bbfa3ca1a"
      },
      "execution_count": null,
      "outputs": [
        {
          "output_type": "stream",
          "name": "stdout",
          "text": [
            "<class 'pandas.core.frame.DataFrame'>\n",
            "Int64Index: 395754 entries, 0 to 396029\n",
            "Data columns (total 21 columns):\n",
            " #   Column               Non-Null Count   Dtype  \n",
            "---  ------               --------------   -----  \n",
            " 0   loan_amnt            395754 non-null  float64\n",
            " 1   term                 395754 non-null  int64  \n",
            " 2   int_rate             395754 non-null  float64\n",
            " 3   installment          395754 non-null  float64\n",
            " 4   sub_grade            395754 non-null  int64  \n",
            " 5   emp_length           395754 non-null  int64  \n",
            " 6   home_ownership       395754 non-null  int64  \n",
            " 7   annual_inc           395754 non-null  float64\n",
            " 8   verification_status  395754 non-null  int64  \n",
            " 9   loan_status          395754 non-null  int64  \n",
            " 10  purpose              395754 non-null  int64  \n",
            " 11  dti                  395754 non-null  float64\n",
            " 12  open_acc             395754 non-null  float64\n",
            " 13  pub_rec              395754 non-null  float64\n",
            " 14  revol_bal            395754 non-null  float64\n",
            " 15  revol_util           395754 non-null  float64\n",
            " 16  total_acc            395754 non-null  float64\n",
            " 17  initial_list_status  395754 non-null  int64  \n",
            " 18  application_type     395754 non-null  int64  \n",
            " 19  mort_acc             395754 non-null  float64\n",
            " 20  emp_category         395754 non-null  int64  \n",
            "dtypes: float64(11), int64(10)\n",
            "memory usage: 66.4 MB\n"
          ]
        }
      ]
    },
    {
      "cell_type": "markdown",
      "source": [
        "## 3-4.중복값제거"
      ],
      "metadata": {
        "id": "-Tf5tUHYTilg"
      }
    },
    {
      "cell_type": "code",
      "source": [
        "df.duplicated().sum()"
      ],
      "metadata": {
        "colab": {
          "base_uri": "https://localhost:8080/"
        },
        "id": "G9lnyJ-LPlD5",
        "outputId": "9f16d8cf-840f-4353-c6f9-25dc2bd0b5eb"
      },
      "execution_count": null,
      "outputs": [
        {
          "output_type": "execute_result",
          "data": {
            "text/plain": [
              "0"
            ]
          },
          "metadata": {},
          "execution_count": 49
        }
      ]
    },
    {
      "cell_type": "markdown",
      "source": [
        "### labeling data 저장"
      ],
      "metadata": {
        "id": "mUYMQFv9kGMY"
      }
    },
    {
      "cell_type": "code",
      "source": [
        "df.to_csv('lending_club_labeled.csv')"
      ],
      "metadata": {
        "id": "cuB2Uj3Zl0_B"
      },
      "execution_count": null,
      "outputs": []
    },
    {
      "cell_type": "markdown",
      "source": [
        "# 4.탐색적 데이터 분석"
      ],
      "metadata": {
        "id": "9dzMJgrAE8AK"
      }
    },
    {
      "cell_type": "code",
      "source": [
        "df = pd.read_csv('/content/drive/MyDrive/Colab_Notebooks/팀프로젝트/Lending_club/lending_club.csv', index_col=0)\n",
        "df.head()"
      ],
      "metadata": {
        "id": "9SZ5BhTaToJj",
        "colab": {
          "base_uri": "https://localhost:8080/",
          "height": 342
        },
        "outputId": "e18e0ec7-1003-4a3c-cb81-f143ac3da5c9"
      },
      "execution_count": null,
      "outputs": [
        {
          "output_type": "execute_result",
          "data": {
            "text/plain": [
              "   loan_amnt        term  int_rate  installment sub_grade emp_length  \\\n",
              "0    10000.0   36 months     11.44       329.48        B4  10+ years   \n",
              "1     8000.0   36 months     11.99       265.68        B5    4 years   \n",
              "2    15600.0   36 months     10.49       506.97        B3   < 1 year   \n",
              "3     7200.0   36 months      6.49       220.65        A2    6 years   \n",
              "4    24375.0   60 months     17.27       609.33        C5    9 years   \n",
              "\n",
              "  home_ownership  annual_inc verification_status  loan_status  ...    dti  \\\n",
              "0           RENT    117000.0        Not Verified   Fully Paid  ...  26.24   \n",
              "1       MORTGAGE     65000.0        Not Verified   Fully Paid  ...  22.05   \n",
              "2           RENT     43057.0     Source Verified   Fully Paid  ...  12.79   \n",
              "3           RENT     54000.0        Not Verified   Fully Paid  ...   2.60   \n",
              "4       MORTGAGE     55000.0            Verified  Charged Off  ...  33.95   \n",
              "\n",
              "   open_acc  pub_rec  revol_bal  revol_util  total_acc  initial_list_status  \\\n",
              "0      16.0      0.0    36369.0        41.8       25.0                    w   \n",
              "1      17.0      0.0    20131.0        53.3       27.0                    f   \n",
              "2      13.0      0.0    11987.0        92.2       26.0                    f   \n",
              "3       6.0      0.0     5472.0        21.5       13.0                    f   \n",
              "4      13.0      0.0    24584.0        69.8       43.0                    f   \n",
              "\n",
              "  application_type mort_acc          emp_category  \n",
              "0       INDIVIDUAL      0.0             marketing  \n",
              "1       INDIVIDUAL      3.0       credit analyst   \n",
              "2       INDIVIDUAL      0.0          statistician  \n",
              "3       INDIVIDUAL      0.0  small business owner  \n",
              "4       INDIVIDUAL      1.0           corporation  \n",
              "\n",
              "[5 rows x 21 columns]"
            ],
            "text/html": [
              "\n",
              "  <div id=\"df-b09cfc08-9d84-44b1-ac38-41bb3849a413\" class=\"colab-df-container\">\n",
              "    <div>\n",
              "<style scoped>\n",
              "    .dataframe tbody tr th:only-of-type {\n",
              "        vertical-align: middle;\n",
              "    }\n",
              "\n",
              "    .dataframe tbody tr th {\n",
              "        vertical-align: top;\n",
              "    }\n",
              "\n",
              "    .dataframe thead th {\n",
              "        text-align: right;\n",
              "    }\n",
              "</style>\n",
              "<table border=\"1\" class=\"dataframe\">\n",
              "  <thead>\n",
              "    <tr style=\"text-align: right;\">\n",
              "      <th></th>\n",
              "      <th>loan_amnt</th>\n",
              "      <th>term</th>\n",
              "      <th>int_rate</th>\n",
              "      <th>installment</th>\n",
              "      <th>sub_grade</th>\n",
              "      <th>emp_length</th>\n",
              "      <th>home_ownership</th>\n",
              "      <th>annual_inc</th>\n",
              "      <th>verification_status</th>\n",
              "      <th>loan_status</th>\n",
              "      <th>...</th>\n",
              "      <th>dti</th>\n",
              "      <th>open_acc</th>\n",
              "      <th>pub_rec</th>\n",
              "      <th>revol_bal</th>\n",
              "      <th>revol_util</th>\n",
              "      <th>total_acc</th>\n",
              "      <th>initial_list_status</th>\n",
              "      <th>application_type</th>\n",
              "      <th>mort_acc</th>\n",
              "      <th>emp_category</th>\n",
              "    </tr>\n",
              "  </thead>\n",
              "  <tbody>\n",
              "    <tr>\n",
              "      <th>0</th>\n",
              "      <td>10000.0</td>\n",
              "      <td>36 months</td>\n",
              "      <td>11.44</td>\n",
              "      <td>329.48</td>\n",
              "      <td>B4</td>\n",
              "      <td>10+ years</td>\n",
              "      <td>RENT</td>\n",
              "      <td>117000.0</td>\n",
              "      <td>Not Verified</td>\n",
              "      <td>Fully Paid</td>\n",
              "      <td>...</td>\n",
              "      <td>26.24</td>\n",
              "      <td>16.0</td>\n",
              "      <td>0.0</td>\n",
              "      <td>36369.0</td>\n",
              "      <td>41.8</td>\n",
              "      <td>25.0</td>\n",
              "      <td>w</td>\n",
              "      <td>INDIVIDUAL</td>\n",
              "      <td>0.0</td>\n",
              "      <td>marketing</td>\n",
              "    </tr>\n",
              "    <tr>\n",
              "      <th>1</th>\n",
              "      <td>8000.0</td>\n",
              "      <td>36 months</td>\n",
              "      <td>11.99</td>\n",
              "      <td>265.68</td>\n",
              "      <td>B5</td>\n",
              "      <td>4 years</td>\n",
              "      <td>MORTGAGE</td>\n",
              "      <td>65000.0</td>\n",
              "      <td>Not Verified</td>\n",
              "      <td>Fully Paid</td>\n",
              "      <td>...</td>\n",
              "      <td>22.05</td>\n",
              "      <td>17.0</td>\n",
              "      <td>0.0</td>\n",
              "      <td>20131.0</td>\n",
              "      <td>53.3</td>\n",
              "      <td>27.0</td>\n",
              "      <td>f</td>\n",
              "      <td>INDIVIDUAL</td>\n",
              "      <td>3.0</td>\n",
              "      <td>credit analyst</td>\n",
              "    </tr>\n",
              "    <tr>\n",
              "      <th>2</th>\n",
              "      <td>15600.0</td>\n",
              "      <td>36 months</td>\n",
              "      <td>10.49</td>\n",
              "      <td>506.97</td>\n",
              "      <td>B3</td>\n",
              "      <td>&lt; 1 year</td>\n",
              "      <td>RENT</td>\n",
              "      <td>43057.0</td>\n",
              "      <td>Source Verified</td>\n",
              "      <td>Fully Paid</td>\n",
              "      <td>...</td>\n",
              "      <td>12.79</td>\n",
              "      <td>13.0</td>\n",
              "      <td>0.0</td>\n",
              "      <td>11987.0</td>\n",
              "      <td>92.2</td>\n",
              "      <td>26.0</td>\n",
              "      <td>f</td>\n",
              "      <td>INDIVIDUAL</td>\n",
              "      <td>0.0</td>\n",
              "      <td>statistician</td>\n",
              "    </tr>\n",
              "    <tr>\n",
              "      <th>3</th>\n",
              "      <td>7200.0</td>\n",
              "      <td>36 months</td>\n",
              "      <td>6.49</td>\n",
              "      <td>220.65</td>\n",
              "      <td>A2</td>\n",
              "      <td>6 years</td>\n",
              "      <td>RENT</td>\n",
              "      <td>54000.0</td>\n",
              "      <td>Not Verified</td>\n",
              "      <td>Fully Paid</td>\n",
              "      <td>...</td>\n",
              "      <td>2.60</td>\n",
              "      <td>6.0</td>\n",
              "      <td>0.0</td>\n",
              "      <td>5472.0</td>\n",
              "      <td>21.5</td>\n",
              "      <td>13.0</td>\n",
              "      <td>f</td>\n",
              "      <td>INDIVIDUAL</td>\n",
              "      <td>0.0</td>\n",
              "      <td>small business owner</td>\n",
              "    </tr>\n",
              "    <tr>\n",
              "      <th>4</th>\n",
              "      <td>24375.0</td>\n",
              "      <td>60 months</td>\n",
              "      <td>17.27</td>\n",
              "      <td>609.33</td>\n",
              "      <td>C5</td>\n",
              "      <td>9 years</td>\n",
              "      <td>MORTGAGE</td>\n",
              "      <td>55000.0</td>\n",
              "      <td>Verified</td>\n",
              "      <td>Charged Off</td>\n",
              "      <td>...</td>\n",
              "      <td>33.95</td>\n",
              "      <td>13.0</td>\n",
              "      <td>0.0</td>\n",
              "      <td>24584.0</td>\n",
              "      <td>69.8</td>\n",
              "      <td>43.0</td>\n",
              "      <td>f</td>\n",
              "      <td>INDIVIDUAL</td>\n",
              "      <td>1.0</td>\n",
              "      <td>corporation</td>\n",
              "    </tr>\n",
              "  </tbody>\n",
              "</table>\n",
              "<p>5 rows × 21 columns</p>\n",
              "</div>\n",
              "    <div class=\"colab-df-buttons\">\n",
              "\n",
              "  <div class=\"colab-df-container\">\n",
              "    <button class=\"colab-df-convert\" onclick=\"convertToInteractive('df-b09cfc08-9d84-44b1-ac38-41bb3849a413')\"\n",
              "            title=\"Convert this dataframe to an interactive table.\"\n",
              "            style=\"display:none;\">\n",
              "\n",
              "  <svg xmlns=\"http://www.w3.org/2000/svg\" height=\"24px\" viewBox=\"0 -960 960 960\">\n",
              "    <path d=\"M120-120v-720h720v720H120Zm60-500h600v-160H180v160Zm220 220h160v-160H400v160Zm0 220h160v-160H400v160ZM180-400h160v-160H180v160Zm440 0h160v-160H620v160ZM180-180h160v-160H180v160Zm440 0h160v-160H620v160Z\"/>\n",
              "  </svg>\n",
              "    </button>\n",
              "\n",
              "  <style>\n",
              "    .colab-df-container {\n",
              "      display:flex;\n",
              "      gap: 12px;\n",
              "    }\n",
              "\n",
              "    .colab-df-convert {\n",
              "      background-color: #E8F0FE;\n",
              "      border: none;\n",
              "      border-radius: 50%;\n",
              "      cursor: pointer;\n",
              "      display: none;\n",
              "      fill: #1967D2;\n",
              "      height: 32px;\n",
              "      padding: 0 0 0 0;\n",
              "      width: 32px;\n",
              "    }\n",
              "\n",
              "    .colab-df-convert:hover {\n",
              "      background-color: #E2EBFA;\n",
              "      box-shadow: 0px 1px 2px rgba(60, 64, 67, 0.3), 0px 1px 3px 1px rgba(60, 64, 67, 0.15);\n",
              "      fill: #174EA6;\n",
              "    }\n",
              "\n",
              "    .colab-df-buttons div {\n",
              "      margin-bottom: 4px;\n",
              "    }\n",
              "\n",
              "    [theme=dark] .colab-df-convert {\n",
              "      background-color: #3B4455;\n",
              "      fill: #D2E3FC;\n",
              "    }\n",
              "\n",
              "    [theme=dark] .colab-df-convert:hover {\n",
              "      background-color: #434B5C;\n",
              "      box-shadow: 0px 1px 3px 1px rgba(0, 0, 0, 0.15);\n",
              "      filter: drop-shadow(0px 1px 2px rgba(0, 0, 0, 0.3));\n",
              "      fill: #FFFFFF;\n",
              "    }\n",
              "  </style>\n",
              "\n",
              "    <script>\n",
              "      const buttonEl =\n",
              "        document.querySelector('#df-b09cfc08-9d84-44b1-ac38-41bb3849a413 button.colab-df-convert');\n",
              "      buttonEl.style.display =\n",
              "        google.colab.kernel.accessAllowed ? 'block' : 'none';\n",
              "\n",
              "      async function convertToInteractive(key) {\n",
              "        const element = document.querySelector('#df-b09cfc08-9d84-44b1-ac38-41bb3849a413');\n",
              "        const dataTable =\n",
              "          await google.colab.kernel.invokeFunction('convertToInteractive',\n",
              "                                                    [key], {});\n",
              "        if (!dataTable) return;\n",
              "\n",
              "        const docLinkHtml = 'Like what you see? Visit the ' +\n",
              "          '<a target=\"_blank\" href=https://colab.research.google.com/notebooks/data_table.ipynb>data table notebook</a>'\n",
              "          + ' to learn more about interactive tables.';\n",
              "        element.innerHTML = '';\n",
              "        dataTable['output_type'] = 'display_data';\n",
              "        await google.colab.output.renderOutput(dataTable, element);\n",
              "        const docLink = document.createElement('div');\n",
              "        docLink.innerHTML = docLinkHtml;\n",
              "        element.appendChild(docLink);\n",
              "      }\n",
              "    </script>\n",
              "  </div>\n",
              "\n",
              "\n",
              "<div id=\"df-aaff9c60-c5ff-499e-9248-c051a86d55c8\">\n",
              "  <button class=\"colab-df-quickchart\" onclick=\"quickchart('df-aaff9c60-c5ff-499e-9248-c051a86d55c8')\"\n",
              "            title=\"Suggest charts.\"\n",
              "            style=\"display:none;\">\n",
              "\n",
              "<svg xmlns=\"http://www.w3.org/2000/svg\" height=\"24px\"viewBox=\"0 0 24 24\"\n",
              "     width=\"24px\">\n",
              "    <g>\n",
              "        <path d=\"M19 3H5c-1.1 0-2 .9-2 2v14c0 1.1.9 2 2 2h14c1.1 0 2-.9 2-2V5c0-1.1-.9-2-2-2zM9 17H7v-7h2v7zm4 0h-2V7h2v10zm4 0h-2v-4h2v4z\"/>\n",
              "    </g>\n",
              "</svg>\n",
              "  </button>\n",
              "\n",
              "<style>\n",
              "  .colab-df-quickchart {\n",
              "      --bg-color: #E8F0FE;\n",
              "      --fill-color: #1967D2;\n",
              "      --hover-bg-color: #E2EBFA;\n",
              "      --hover-fill-color: #174EA6;\n",
              "      --disabled-fill-color: #AAA;\n",
              "      --disabled-bg-color: #DDD;\n",
              "  }\n",
              "\n",
              "  [theme=dark] .colab-df-quickchart {\n",
              "      --bg-color: #3B4455;\n",
              "      --fill-color: #D2E3FC;\n",
              "      --hover-bg-color: #434B5C;\n",
              "      --hover-fill-color: #FFFFFF;\n",
              "      --disabled-bg-color: #3B4455;\n",
              "      --disabled-fill-color: #666;\n",
              "  }\n",
              "\n",
              "  .colab-df-quickchart {\n",
              "    background-color: var(--bg-color);\n",
              "    border: none;\n",
              "    border-radius: 50%;\n",
              "    cursor: pointer;\n",
              "    display: none;\n",
              "    fill: var(--fill-color);\n",
              "    height: 32px;\n",
              "    padding: 0;\n",
              "    width: 32px;\n",
              "  }\n",
              "\n",
              "  .colab-df-quickchart:hover {\n",
              "    background-color: var(--hover-bg-color);\n",
              "    box-shadow: 0 1px 2px rgba(60, 64, 67, 0.3), 0 1px 3px 1px rgba(60, 64, 67, 0.15);\n",
              "    fill: var(--button-hover-fill-color);\n",
              "  }\n",
              "\n",
              "  .colab-df-quickchart-complete:disabled,\n",
              "  .colab-df-quickchart-complete:disabled:hover {\n",
              "    background-color: var(--disabled-bg-color);\n",
              "    fill: var(--disabled-fill-color);\n",
              "    box-shadow: none;\n",
              "  }\n",
              "\n",
              "  .colab-df-spinner {\n",
              "    border: 2px solid var(--fill-color);\n",
              "    border-color: transparent;\n",
              "    border-bottom-color: var(--fill-color);\n",
              "    animation:\n",
              "      spin 1s steps(1) infinite;\n",
              "  }\n",
              "\n",
              "  @keyframes spin {\n",
              "    0% {\n",
              "      border-color: transparent;\n",
              "      border-bottom-color: var(--fill-color);\n",
              "      border-left-color: var(--fill-color);\n",
              "    }\n",
              "    20% {\n",
              "      border-color: transparent;\n",
              "      border-left-color: var(--fill-color);\n",
              "      border-top-color: var(--fill-color);\n",
              "    }\n",
              "    30% {\n",
              "      border-color: transparent;\n",
              "      border-left-color: var(--fill-color);\n",
              "      border-top-color: var(--fill-color);\n",
              "      border-right-color: var(--fill-color);\n",
              "    }\n",
              "    40% {\n",
              "      border-color: transparent;\n",
              "      border-right-color: var(--fill-color);\n",
              "      border-top-color: var(--fill-color);\n",
              "    }\n",
              "    60% {\n",
              "      border-color: transparent;\n",
              "      border-right-color: var(--fill-color);\n",
              "    }\n",
              "    80% {\n",
              "      border-color: transparent;\n",
              "      border-right-color: var(--fill-color);\n",
              "      border-bottom-color: var(--fill-color);\n",
              "    }\n",
              "    90% {\n",
              "      border-color: transparent;\n",
              "      border-bottom-color: var(--fill-color);\n",
              "    }\n",
              "  }\n",
              "</style>\n",
              "\n",
              "  <script>\n",
              "    async function quickchart(key) {\n",
              "      const quickchartButtonEl =\n",
              "        document.querySelector('#' + key + ' button');\n",
              "      quickchartButtonEl.disabled = true;  // To prevent multiple clicks.\n",
              "      quickchartButtonEl.classList.add('colab-df-spinner');\n",
              "      try {\n",
              "        const charts = await google.colab.kernel.invokeFunction(\n",
              "            'suggestCharts', [key], {});\n",
              "      } catch (error) {\n",
              "        console.error('Error during call to suggestCharts:', error);\n",
              "      }\n",
              "      quickchartButtonEl.classList.remove('colab-df-spinner');\n",
              "      quickchartButtonEl.classList.add('colab-df-quickchart-complete');\n",
              "    }\n",
              "    (() => {\n",
              "      let quickchartButtonEl =\n",
              "        document.querySelector('#df-aaff9c60-c5ff-499e-9248-c051a86d55c8 button');\n",
              "      quickchartButtonEl.style.display =\n",
              "        google.colab.kernel.accessAllowed ? 'block' : 'none';\n",
              "    })();\n",
              "  </script>\n",
              "</div>\n",
              "    </div>\n",
              "  </div>\n"
            ]
          },
          "metadata": {},
          "execution_count": 57
        }
      ]
    },
    {
      "cell_type": "markdown",
      "source": [
        "## class별 data"
      ],
      "metadata": {
        "id": "8GPyxnb-kaOA"
      }
    },
    {
      "cell_type": "code",
      "source": [
        "status_counts = df['loan_status'].value_counts()\n",
        "\n",
        "total_loans = len(df)\n",
        "status_ratios = status_counts / total_loans\n",
        "\n",
        "plt.figure(figsize=(10, 6))\n",
        "sns.histplot(data=df, x=\"loan_status\", hue=\"loan_status\")\n",
        "\n",
        "plt.xlabel(\"Loan Status\")\n",
        "plt.ylabel(\"Count\")\n",
        "\n",
        "plt.legend(title=\"Loan Status\", labels=[\"Fully Paid\", \"Charged Off\"])\n",
        "\n",
        "for i, status in enumerate(status_counts.index):\n",
        "    ratio = status_ratios[i]\n",
        "    plt.text(i, status_counts[i], f\"{ratio:.2%}\", ha='center', va='top', fontsize=12)\n",
        "\n",
        "plt.show()"
      ],
      "metadata": {
        "id": "9Ifi1G6IAZuZ"
      },
      "execution_count": null,
      "outputs": []
    },
    {
      "cell_type": "markdown",
      "source": [
        "## numeric data barplot"
      ],
      "metadata": {
        "id": "1GfV5G-1lgOk"
      }
    },
    {
      "cell_type": "code",
      "source": [
        "import matplotlib.pyplot as plt\n",
        "import seaborn as sns\n",
        "import numpy as np\n",
        "\n",
        "numerical_columns = df.select_dtypes(include=[np.number]).columns.tolist()\n",
        "num_cols = len(numerical_columns)\n",
        "num_rows = num_cols // 4\n",
        "num_rows += num_rows % 4\n",
        "position = range(1, num_cols+1)\n",
        "\n",
        "\n",
        "fig = plt.figure(figsize=(16, num_rows * 4))\n",
        "\n",
        "#서브플롯으로 boxplot 그리기\n",
        "fig = plt.figure(figsize=(16, num_rows*4))\n",
        "for k, col in zip(position, numerical_columns):\n",
        "  ax = fig.add_subplot(num_rows, 5, k)\n",
        "\n",
        "  sns.boxplot(data=df, ax=ax, x='loan_status', y=col)\n",
        "  ax.set_title(col)\n",
        "\n",
        "plt.tight_layout()\n",
        "plt.show()"
      ],
      "metadata": {
        "id": "4_xIdF7lkJAn"
      },
      "execution_count": null,
      "outputs": []
    },
    {
      "cell_type": "markdown",
      "source": [
        "## 이상치 제거 후"
      ],
      "metadata": {
        "id": "NQU5yhp_kXUW"
      }
    },
    {
      "cell_type": "code",
      "source": [
        "#q1, q3,irq 계산\n",
        "def_df = df\n",
        "for col in numerical_columns:\n",
        "  q1, q3 = np.percentile(df[col], [25, 75])\n",
        "  iqr = q3 - q1\n",
        "\n",
        "  lower_bound = q1 - (1.5 * iqr)\n",
        "  upper_bound = q3 + (1.5 * iqr)\n",
        "\n",
        "  def_df = def_df[(def_df[col] >= lower_bound) & (def_df[col] <= upper_bound)]"
      ],
      "metadata": {
        "id": "q6IMqb9JkJDI"
      },
      "execution_count": null,
      "outputs": []
    },
    {
      "cell_type": "code",
      "source": [
        "fig = plt.figure(figsize=(16, num_rows * 4))\n",
        "\n",
        "#서브플롯으로 boxplot 그리기\n",
        "fig = plt.figure(figsize=(16, num_rows*4))\n",
        "for k, col in zip(position, numerical_columns):\n",
        "  ax = fig.add_subplot(num_rows, 5, k)\n",
        "\n",
        "  sns.boxplot(data=def_df, ax=ax, x='loan_status', y=col)\n",
        "  ax.set_title(col)\n",
        "\n",
        "plt.tight_layout()\n",
        "plt.show()"
      ],
      "metadata": {
        "id": "88bM25J2kJFR"
      },
      "execution_count": null,
      "outputs": []
    },
    {
      "cell_type": "markdown",
      "source": [
        "## loan_status // purpose"
      ],
      "metadata": {
        "id": "eIsy-vH3l8WF"
      }
    },
    {
      "cell_type": "code",
      "source": [
        "columns_to_plot = ['loan_amnt', 'int_rate', 'installment', 'annual_inc', 'dti', 'pub_rec', 'total_acc', 'mort_acc']\n",
        "\n",
        "for column in columns_to_plot:\n",
        "    plt.figure(figsize=(10, 6))\n",
        "    sns.set_palette('bright')\n",
        "    sns.barplot(x='loan_status', data=df, y=column, hue='purpose', palette='bright')\n",
        "    plt.legend(loc='upper left', bbox_to_anchor=(1, 1))\n",
        "    plt.title(column)\n",
        "    plt.xlabel('loan_status')\n",
        "    plt.ylabel(column)\n",
        "    plt.show()\n",
        "\n",
        "#loan_amnt            : 대출 신청 금액\n",
        "#int_rate             : 대출 이자율\n",
        "#installment          : 월별 지불금\n",
        "#grade                : 신용 등급\n",
        "#annual_inc           : 연간 소득\n",
        "#dti                  : 월별 부채 총액 / 월 소득\n",
        "#pub_rec              : 경멸적인 공개 기록의 수\n",
        "#total_acc            : 총 신용 한도 수\n",
        "#mort_acc             : 모기지 계좌 수\n",
        "#pub_rec_bankruptcies : 공공 기록 파산 건수"
      ],
      "metadata": {
        "id": "bpHtBsmIkJIM"
      },
      "execution_count": null,
      "outputs": []
    },
    {
      "cell_type": "markdown",
      "source": [
        "## 목적별 대출 현황으로 나눈 대출 신청 금액"
      ],
      "metadata": {
        "id": "tTycRVhmpV1p"
      }
    },
    {
      "cell_type": "code",
      "source": [
        "sns.barplot(data=df, x=\"purpose\",y=\"loan_amnt\", hue='loan_status')\n",
        "plt.xticks(rotation = 80)\n",
        "plt.show()"
      ],
      "metadata": {
        "id": "iYDgPz0apXUC"
      },
      "execution_count": null,
      "outputs": []
    },
    {
      "cell_type": "markdown",
      "source": [
        "## 목적에 따른 대출 현황"
      ],
      "metadata": {
        "id": "cS5qZkcypap3"
      }
    },
    {
      "cell_type": "code",
      "source": [
        "sns.histplot(df, x=\"purpose\", hue=\"loan_status\")\n",
        "plt.xticks(rotation = 80)\n",
        "plt.show()"
      ],
      "metadata": {
        "id": "piRoqttfpaEZ"
      },
      "execution_count": null,
      "outputs": []
    },
    {
      "cell_type": "code",
      "source": [
        "plt.figure(figsize=(10, 6))\n",
        "ax = sns.histplot(data=df, x=\"purpose\", hue=\"loan_status\", multiple=\"fill\", shrink=0.8)\n",
        "\n",
        "total_counts = df['purpose'].value_counts()\n",
        "\n",
        "for p in ax.patches:\n",
        "    left, bottom, width, height = p.get_bbox().bounds\n",
        "    ax.annotate(f'{height*100 : .2f}%', xy=(left+width/2, bottom+height/2), ha='center', va='center')\n",
        "plt.xticks(rotation = 80)\n",
        "plt.xlabel('purpose')\n",
        "plt.ylabel('Count')\n",
        "\n",
        "plt.show()"
      ],
      "metadata": {
        "id": "BG2Pcdr_peNP"
      },
      "execution_count": null,
      "outputs": []
    },
    {
      "cell_type": "markdown",
      "source": [
        "## 상환기간이 길면 charged off 비율이 높다.\n"
      ],
      "metadata": {
        "id": "iI2p-6itpesC"
      }
    },
    {
      "cell_type": "code",
      "source": [
        "sns.histplot(df, x=\"term\", hue=\"loan_status\", multiple='stack')"
      ],
      "metadata": {
        "id": "dHlA6Lj6pe3L"
      },
      "execution_count": null,
      "outputs": []
    },
    {
      "cell_type": "code",
      "source": [
        "columns_to_plot = ['loan_amnt', 'int_rate', 'installment', 'annual_inc', 'dti', 'pub_rec', 'total_acc', 'mort_acc']\n",
        "a = df.sort_values(by='loan_status')\n",
        "\n",
        "for column in columns_to_plot:\n",
        "    plt.figure(figsize=(10, 6))\n",
        "    sns.set_palette('bright')\n",
        "    sns.barplot(x='term', data=df, y=column, hue='loan_status')\n",
        "    plt.legend(loc='upper left', bbox_to_anchor=(1, 1))\n",
        "    plt.title(column)\n",
        "    plt.xlabel('term')\n",
        "    plt.ylabel(column)\n",
        "    plt.show()"
      ],
      "metadata": {
        "id": "-N-lQ--iplFr"
      },
      "execution_count": null,
      "outputs": []
    },
    {
      "cell_type": "code",
      "source": [
        "plt.figure(figsize=(10, 6))\n",
        "ax = sns.histplot(data=df, x=\"term\", hue=\"loan_status\", multiple=\"fill\", shrink=0.8)\n",
        "\n",
        "total_counts = df['term'].value_counts()\n",
        "\n",
        "for p in ax.patches:\n",
        "    left, bottom, width, height = p.get_bbox().bounds\n",
        "    ax.annotate(f'{height*100 : .2f}%', xy=(left+width/2, bottom+height/2), ha='center', va='center')\n",
        "plt.xlabel('term')\n",
        "plt.ylabel('Count')\n",
        "\n",
        "plt.show()"
      ],
      "metadata": {
        "id": "EmkN9QzFpn4G"
      },
      "execution_count": null,
      "outputs": []
    },
    {
      "cell_type": "markdown",
      "source": [
        "## sub_grade"
      ],
      "metadata": {
        "id": "lCKSmVf3pmIA"
      }
    },
    {
      "cell_type": "code",
      "source": [
        "unique_grades = sorted(df['sub_grade'].unique())\n",
        "df['sub_grade'] = pd.Categorical(df['sub_grade'], categories=unique_grades, ordered=True)\n",
        "\n",
        "\n",
        "plt.figure(figsize=(10, 6))\n",
        "ax = sns.histplot(data=df, x=\"sub_grade\", hue=\"loan_status\", multiple=\"fill\", shrink=0.8)\n",
        "\n",
        "total_counts = df['sub_grade'].value_counts()\n",
        "\n",
        "for p in ax.patches:\n",
        "    left, bottom, width, height = p.get_bbox().bounds\n",
        "    ax.annotate(f'{height*100 : .2f}%', xy=(left+width/2, bottom+height/2), ha='center', va='bottom', rotation=90)\n",
        "plt.xticks(rotation = 80)\n",
        "plt.xlabel('sub_grade')\n",
        "plt.ylabel('Count')\n",
        "\n",
        "plt.show()"
      ],
      "metadata": {
        "id": "sfvD0GW0pmXC"
      },
      "execution_count": null,
      "outputs": []
    },
    {
      "cell_type": "markdown",
      "source": [
        "## emp_length 칼럼 순서 변환"
      ],
      "metadata": {
        "id": "ZCwDIVCypvgm"
      }
    },
    {
      "cell_type": "code",
      "source": [
        "desired_order = ['0', '< 1 year', '1 year', '2 years', '3 years', '4 years', '5 years', '6 years', '7 years', '8 years', '9 years', '10+ years']\n",
        "df['emp_length'] = pd.Categorical(df['emp_length'], categories=desired_order, ordered=True)\n",
        "\n",
        "x = df['emp_category'].value_counts()[:20].index\n",
        "df_top_20_emp_category = df[df['emp_category'].isin(x)]"
      ],
      "metadata": {
        "id": "SfBbjAs4puuy"
      },
      "execution_count": null,
      "outputs": []
    },
    {
      "cell_type": "code",
      "source": [
        "plt.figure(figsize=(15, 7))\n",
        "ax = sns.histplot(data=df_top_20_emp_category, x='emp_category', hue=\"loan_status\", multiple=\"fill\", shrink=0.8)\n",
        "\n",
        "total_counts = df[col].value_counts()\n",
        "\n",
        "for p in ax.patches:\n",
        "    left, bottom, width, height = p.get_bbox().bounds\n",
        "    ax.annotate(f'{height*100 : .2f}%', xy=(left+width/2, bottom+height/2), ha='center', va='center', rotation=90)\n",
        "plt.title(col)\n",
        "plt.xticks(rotation = 80)\n",
        "plt.ylabel('Count')\n",
        "\n",
        "plt.show()"
      ],
      "metadata": {
        "id": "PtQwtuRMp4bb"
      },
      "execution_count": null,
      "outputs": []
    },
    {
      "cell_type": "code",
      "source": [
        "ob_col = ['emp_length', 'home_ownership', 'verification_status','initial_list_status', 'application_type']\n",
        "\n",
        "for col in ob_col:\n",
        "  plt.figure(figsize=(15, 7))\n",
        "  ax = sns.histplot(data=df, x=col, hue=\"loan_status\", multiple=\"fill\", shrink=0.8)\n",
        "\n",
        "  total_counts = df[col].value_counts()\n",
        "\n",
        "  for p in ax.patches:\n",
        "      left, bottom, width, height = p.get_bbox().bounds\n",
        "      ax.annotate(f'{height*100 : .2f}%', xy=(left+width/2, bottom+height/2), ha='center', va='center', rotation=90)\n",
        "  plt.title(col)\n",
        "  plt.xticks(rotation = 80)\n",
        "  plt.ylabel('Count')\n",
        "\n",
        "plt.show()"
      ],
      "metadata": {
        "id": "qgLpUDj-p6jy"
      },
      "execution_count": null,
      "outputs": []
    },
    {
      "cell_type": "code",
      "source": [
        "plt.figure(figsize=(15,10))\n",
        "sns.heatmap(df.corr(), annot=True, cmap='Blues')\n",
        "plt.show()"
      ],
      "metadata": {
        "id": "Mc5TGcYwp9Zl"
      },
      "execution_count": null,
      "outputs": []
    },
    {
      "cell_type": "markdown",
      "source": [
        "## 못갚는 사람들중 목적이 debt_consolidation, credit_card 인것..."
      ],
      "metadata": {
        "id": "G6Tg5AvMp8kH"
      }
    },
    {
      "cell_type": "code",
      "source": [
        "Charged_Off_df = df[df['loan_status'] == 'Charged Off']\n",
        "Charged_Off_temp_df = Charged_Off_df[(Charged_Off_df['purpose'] == 'debt_consolidation') | (Charged_Off_df['purpose'] == 'credit_card')]\n",
        "\n",
        "columns_to_plot = ['dti', 'installment', 'loan_amnt', 'annual_inc', 'total_acc']\n",
        "\n",
        "unique_grades = sorted(Charged_Off_temp_df['sub_grade'].unique())\n",
        "\n",
        "Charged_Off_temp_df['sub_grade'] = pd.Categorical(Charged_Off_temp_df['sub_grade'], categories=unique_grades, ordered=True)\n",
        "\n",
        "for column in columns_to_plot:\n",
        "    plt.figure(figsize=(10, 6))\n",
        "    sns.barplot(x=Charged_Off_temp_df['sub_grade'], y=Charged_Off_temp_df[column])\n",
        "    plt.title(column)\n",
        "    plt.xlabel('sub_grade')\n",
        "    plt.ylabel(column)\n",
        "    plt.show()\n",
        "\n",
        "\n",
        "\n",
        "# dti         : 월별 부채 총액 / 월 소득\n",
        "# installment : 월별 지불금\n",
        "# loan_amnt   : 신청 대출 금액\n",
        "# loan_status : 대출 현황   높을수록 상환X\n",
        "# annual_inc  : 연간 소득"
      ],
      "metadata": {
        "id": "CUSpNjupqBRD"
      },
      "execution_count": null,
      "outputs": []
    },
    {
      "cell_type": "markdown",
      "source": [
        "## 'home_ownership' 컬럼에서 'OWN' 제외 테이블 생성"
      ],
      "metadata": {
        "id": "uINZoiUfqAqR"
      }
    },
    {
      "cell_type": "code",
      "source": [
        "temp_df = df[df['home_ownership'] != 'OWN']\n",
        "\n",
        "columns_to_plot = ['dti', 'installment', 'loan_amnt', 'annual_inc', 'total_acc']\n",
        "\n",
        "unique_grades = sorted(df['sub_grade'].unique())\n",
        "\n",
        "temp_df['sub_grade'] = pd.Categorical(temp_df['sub_grade'], categories=unique_grades, ordered=True)\n",
        "\n",
        "for column in columns_to_plot:\n",
        "    plt.figure(figsize=(10, 6))\n",
        "    sns.barplot(x=temp_df['sub_grade'], y=temp_df[column])\n",
        "    plt.title(column)\n",
        "    plt.xlabel('sub_grade')\n",
        "    plt.ylabel(column)\n",
        "    plt.show()\n",
        "\n",
        "# dti         : 월별 부채 총액 / 월 소득\n",
        "# installment : 월별 지불금\n",
        "# loan_amnt   : 신청 대출 금액\n",
        "# loan_status : 대출 현황   높을수록 상환X\n",
        "# annual_inc  : 연간 소득"
      ],
      "metadata": {
        "id": "1nbjXgiyqG-W"
      },
      "execution_count": null,
      "outputs": []
    },
    {
      "cell_type": "markdown",
      "source": [
        "## home_ownership 별"
      ],
      "metadata": {
        "id": "uz79Aqsypu4Q"
      }
    },
    {
      "cell_type": "code",
      "source": [
        "columns_to_plot = ['dti', 'installment', 'loan_amnt', 'annual_inc']\n",
        "\n",
        "for column in columns_to_plot:\n",
        "    plt.figure(figsize=(10, 6))\n",
        "    sns.barplot(x=df['home_ownership'], y=df[column], hue=df['loan_status'])\n",
        "    plt.title(column)\n",
        "    plt.xlabel('home_ownership')\n",
        "    plt.ylabel(column)\n",
        "    plt.show()\n",
        "\n",
        "# dti         : 월별 부채 총액 / 월 소득\n",
        "# installment : 월별 지불금\n",
        "# loan_amnt   : 신청 대출 금액\n",
        "# loan_status : 대출 현황   높을수록 상환X\n",
        "# annual_inc  : 연간 소득\n"
      ],
      "metadata": {
        "id": "Ko5yf4h-qLX8"
      },
      "execution_count": null,
      "outputs": []
    },
    {
      "cell_type": "code",
      "source": [
        "sns.histplot(x=df['home_ownership'], hue=df['loan_status'])\n",
        "plt.show()"
      ],
      "metadata": {
        "id": "elEjzJ61qORT"
      },
      "execution_count": null,
      "outputs": []
    },
    {
      "cell_type": "code",
      "source": [
        "x = df['emp_category'].value_counts()[:20].index\n",
        "df_top_20_emp_title = df[df['emp_category'].isin(x)]\n",
        "\n",
        "sns.histplot(data=df_top_20_emp_title, x='emp_category', hue='loan_status')\n",
        "plt.xticks(rotation=80)\n",
        "plt.show()"
      ],
      "metadata": {
        "id": "EgRWa_JDqQOF"
      },
      "execution_count": null,
      "outputs": []
    },
    {
      "cell_type": "code",
      "source": [
        "x = df['emp_category'].value_counts()[:20].index\n",
        "df_top_20_emp_title = df[df['emp_category'].isin(x)]\n",
        "\n",
        "columns_to_plot = ['dti', 'installment', 'loan_amnt', 'annual_inc']\n",
        "\n",
        "for column in columns_to_plot:\n",
        "    plt.figure(figsize=(12, 6))\n",
        "    sns.barplot(x='emp_category', y=column, hue='loan_status', data=df_top_20_emp_title)\n",
        "    plt.title(column)\n",
        "    plt.xlabel('emp_category')\n",
        "    plt.xticks(rotation=75)\n",
        "    plt.ylabel(column)\n",
        "    plt.show()"
      ],
      "metadata": {
        "id": "VBwyZAgqqRfT"
      },
      "execution_count": null,
      "outputs": []
    },
    {
      "cell_type": "code",
      "source": [
        "df[df['loan_status'] == 'Fully Paid'].groupby('home_ownership')['term'].value_counts(10)"
      ],
      "metadata": {
        "id": "GNQn49QIqT9p"
      },
      "execution_count": null,
      "outputs": []
    },
    {
      "cell_type": "code",
      "source": [
        "df_top_10_fp = df[df['loan_status'] == 'Fully Paid'].groupby('home_ownership')['term'].value_counts(normalize=True).reset_index(name='percentage')\n",
        "\n",
        "plt.figure(figsize=(15, 7))\n",
        "ax = sns.barplot(data=df_top_10_fp, x='home_ownership', y='percentage', hue='term')\n",
        "\n",
        "for p in ax.patches:\n",
        "    height = p.get_height()\n",
        "    ax.annotate(f'{height * 100:.2f}%', (p.get_x() + p.get_width() / 2., height), ha='center', va='bottom')\n",
        "\n",
        "plt.title('home_ownership(Fully Paid)')\n",
        "plt.xlabel('Home Ownership')\n",
        "plt.ylabel('Percentage')\n",
        "plt.xticks(rotation=80)\n",
        "plt.show()"
      ],
      "metadata": {
        "id": "X8xiemQaqUtW"
      },
      "execution_count": null,
      "outputs": []
    },
    {
      "cell_type": "code",
      "source": [
        "df[df['loan_status'] == 'Charged Off'].groupby('home_ownership')['term'].value_counts(10)"
      ],
      "metadata": {
        "id": "ASRAX77gqY2Q"
      },
      "execution_count": null,
      "outputs": []
    },
    {
      "cell_type": "code",
      "source": [
        "df_top_10_fp = df[df['loan_status'] == 'Charged Off'].groupby('home_ownership')['term'].value_counts(normalize=True).reset_index(name='percentage')\n",
        "\n",
        "plt.figure(figsize=(15, 7))\n",
        "ax = sns.barplot(data=df_top_10_fp, x='home_ownership', y='percentage', hue='term')\n",
        "\n",
        "for p in ax.patches:\n",
        "    height = p.get_height()\n",
        "    ax.annotate(f'{height * 100:.2f}%', (p.get_x() + p.get_width() / 2., height), ha='center', va='bottom')\n",
        "\n",
        "plt.title('home_ownership(Charged Off)')\n",
        "plt.xlabel('Home Ownership')\n",
        "plt.ylabel('Percentage')\n",
        "plt.xticks(rotation=80)\n",
        "plt.show()"
      ],
      "metadata": {
        "id": "qDT03WhBqZaW"
      },
      "execution_count": null,
      "outputs": []
    },
    {
      "cell_type": "markdown",
      "source": [
        "# 5.ML/DL"
      ],
      "metadata": {
        "id": "Jwcr9J96FB_4"
      }
    },
    {
      "cell_type": "code",
      "source": [
        "df = pd.read_csv('/content/drive/MyDrive/Colab_Notebooks/팀프로젝트/Lending_club/lending_club_labeled.csv', index_col=0)"
      ],
      "metadata": {
        "id": "T_vzx4VNOO4K"
      },
      "execution_count": null,
      "outputs": []
    },
    {
      "cell_type": "code",
      "source": [
        "df.head()"
      ],
      "metadata": {
        "colab": {
          "base_uri": "https://localhost:8080/",
          "height": 255
        },
        "id": "vYEI1-lQROr2",
        "outputId": "3db174bf-2dd0-458e-c616-d785400a7005"
      },
      "execution_count": null,
      "outputs": [
        {
          "output_type": "execute_result",
          "data": {
            "text/plain": [
              "   loan_amnt  term  int_rate  installment  sub_grade  emp_length  \\\n",
              "0    10000.0     0     11.44       329.48         24          10   \n",
              "1     8000.0     0     11.99       265.68         25           4   \n",
              "2    15600.0     0     10.49       506.97         23           1   \n",
              "3     7200.0     0      6.49       220.65         12           6   \n",
              "4    24375.0     1     17.27       609.33         35           9   \n",
              "\n",
              "   home_ownership  annual_inc  verification_status  loan_status  ...    dti  \\\n",
              "0               5    117000.0                    0            1  ...  26.24   \n",
              "1               1     65000.0                    0            1  ...  22.05   \n",
              "2               5     43057.0                    1            1  ...  12.79   \n",
              "3               5     54000.0                    0            1  ...   2.60   \n",
              "4               1     55000.0                    2            0  ...  33.95   \n",
              "\n",
              "   open_acc  pub_rec  revol_bal  revol_util  total_acc  initial_list_status  \\\n",
              "0      16.0      0.0    36369.0        41.8       25.0                    1   \n",
              "1      17.0      0.0    20131.0        53.3       27.0                    0   \n",
              "2      13.0      0.0    11987.0        92.2       26.0                    0   \n",
              "3       6.0      0.0     5472.0        21.5       13.0                    0   \n",
              "4      13.0      0.0    24584.0        69.8       43.0                    0   \n",
              "\n",
              "   application_type  mort_acc  emp_category  \n",
              "0                 1       0.0          9963  \n",
              "1                 1       3.0          4119  \n",
              "2                 1       0.0         15862  \n",
              "3                 1       0.0         15101  \n",
              "4                 1       1.0          3929  \n",
              "\n",
              "[5 rows x 21 columns]"
            ],
            "text/html": [
              "\n",
              "  <div id=\"df-24387bbf-274c-4dfc-9eb4-7672c74c2854\" class=\"colab-df-container\">\n",
              "    <div>\n",
              "<style scoped>\n",
              "    .dataframe tbody tr th:only-of-type {\n",
              "        vertical-align: middle;\n",
              "    }\n",
              "\n",
              "    .dataframe tbody tr th {\n",
              "        vertical-align: top;\n",
              "    }\n",
              "\n",
              "    .dataframe thead th {\n",
              "        text-align: right;\n",
              "    }\n",
              "</style>\n",
              "<table border=\"1\" class=\"dataframe\">\n",
              "  <thead>\n",
              "    <tr style=\"text-align: right;\">\n",
              "      <th></th>\n",
              "      <th>loan_amnt</th>\n",
              "      <th>term</th>\n",
              "      <th>int_rate</th>\n",
              "      <th>installment</th>\n",
              "      <th>sub_grade</th>\n",
              "      <th>emp_length</th>\n",
              "      <th>home_ownership</th>\n",
              "      <th>annual_inc</th>\n",
              "      <th>verification_status</th>\n",
              "      <th>loan_status</th>\n",
              "      <th>...</th>\n",
              "      <th>dti</th>\n",
              "      <th>open_acc</th>\n",
              "      <th>pub_rec</th>\n",
              "      <th>revol_bal</th>\n",
              "      <th>revol_util</th>\n",
              "      <th>total_acc</th>\n",
              "      <th>initial_list_status</th>\n",
              "      <th>application_type</th>\n",
              "      <th>mort_acc</th>\n",
              "      <th>emp_category</th>\n",
              "    </tr>\n",
              "  </thead>\n",
              "  <tbody>\n",
              "    <tr>\n",
              "      <th>0</th>\n",
              "      <td>10000.0</td>\n",
              "      <td>0</td>\n",
              "      <td>11.44</td>\n",
              "      <td>329.48</td>\n",
              "      <td>24</td>\n",
              "      <td>10</td>\n",
              "      <td>5</td>\n",
              "      <td>117000.0</td>\n",
              "      <td>0</td>\n",
              "      <td>1</td>\n",
              "      <td>...</td>\n",
              "      <td>26.24</td>\n",
              "      <td>16.0</td>\n",
              "      <td>0.0</td>\n",
              "      <td>36369.0</td>\n",
              "      <td>41.8</td>\n",
              "      <td>25.0</td>\n",
              "      <td>1</td>\n",
              "      <td>1</td>\n",
              "      <td>0.0</td>\n",
              "      <td>9963</td>\n",
              "    </tr>\n",
              "    <tr>\n",
              "      <th>1</th>\n",
              "      <td>8000.0</td>\n",
              "      <td>0</td>\n",
              "      <td>11.99</td>\n",
              "      <td>265.68</td>\n",
              "      <td>25</td>\n",
              "      <td>4</td>\n",
              "      <td>1</td>\n",
              "      <td>65000.0</td>\n",
              "      <td>0</td>\n",
              "      <td>1</td>\n",
              "      <td>...</td>\n",
              "      <td>22.05</td>\n",
              "      <td>17.0</td>\n",
              "      <td>0.0</td>\n",
              "      <td>20131.0</td>\n",
              "      <td>53.3</td>\n",
              "      <td>27.0</td>\n",
              "      <td>0</td>\n",
              "      <td>1</td>\n",
              "      <td>3.0</td>\n",
              "      <td>4119</td>\n",
              "    </tr>\n",
              "    <tr>\n",
              "      <th>2</th>\n",
              "      <td>15600.0</td>\n",
              "      <td>0</td>\n",
              "      <td>10.49</td>\n",
              "      <td>506.97</td>\n",
              "      <td>23</td>\n",
              "      <td>1</td>\n",
              "      <td>5</td>\n",
              "      <td>43057.0</td>\n",
              "      <td>1</td>\n",
              "      <td>1</td>\n",
              "      <td>...</td>\n",
              "      <td>12.79</td>\n",
              "      <td>13.0</td>\n",
              "      <td>0.0</td>\n",
              "      <td>11987.0</td>\n",
              "      <td>92.2</td>\n",
              "      <td>26.0</td>\n",
              "      <td>0</td>\n",
              "      <td>1</td>\n",
              "      <td>0.0</td>\n",
              "      <td>15862</td>\n",
              "    </tr>\n",
              "    <tr>\n",
              "      <th>3</th>\n",
              "      <td>7200.0</td>\n",
              "      <td>0</td>\n",
              "      <td>6.49</td>\n",
              "      <td>220.65</td>\n",
              "      <td>12</td>\n",
              "      <td>6</td>\n",
              "      <td>5</td>\n",
              "      <td>54000.0</td>\n",
              "      <td>0</td>\n",
              "      <td>1</td>\n",
              "      <td>...</td>\n",
              "      <td>2.60</td>\n",
              "      <td>6.0</td>\n",
              "      <td>0.0</td>\n",
              "      <td>5472.0</td>\n",
              "      <td>21.5</td>\n",
              "      <td>13.0</td>\n",
              "      <td>0</td>\n",
              "      <td>1</td>\n",
              "      <td>0.0</td>\n",
              "      <td>15101</td>\n",
              "    </tr>\n",
              "    <tr>\n",
              "      <th>4</th>\n",
              "      <td>24375.0</td>\n",
              "      <td>1</td>\n",
              "      <td>17.27</td>\n",
              "      <td>609.33</td>\n",
              "      <td>35</td>\n",
              "      <td>9</td>\n",
              "      <td>1</td>\n",
              "      <td>55000.0</td>\n",
              "      <td>2</td>\n",
              "      <td>0</td>\n",
              "      <td>...</td>\n",
              "      <td>33.95</td>\n",
              "      <td>13.0</td>\n",
              "      <td>0.0</td>\n",
              "      <td>24584.0</td>\n",
              "      <td>69.8</td>\n",
              "      <td>43.0</td>\n",
              "      <td>0</td>\n",
              "      <td>1</td>\n",
              "      <td>1.0</td>\n",
              "      <td>3929</td>\n",
              "    </tr>\n",
              "  </tbody>\n",
              "</table>\n",
              "<p>5 rows × 21 columns</p>\n",
              "</div>\n",
              "    <div class=\"colab-df-buttons\">\n",
              "\n",
              "  <div class=\"colab-df-container\">\n",
              "    <button class=\"colab-df-convert\" onclick=\"convertToInteractive('df-24387bbf-274c-4dfc-9eb4-7672c74c2854')\"\n",
              "            title=\"Convert this dataframe to an interactive table.\"\n",
              "            style=\"display:none;\">\n",
              "\n",
              "  <svg xmlns=\"http://www.w3.org/2000/svg\" height=\"24px\" viewBox=\"0 -960 960 960\">\n",
              "    <path d=\"M120-120v-720h720v720H120Zm60-500h600v-160H180v160Zm220 220h160v-160H400v160Zm0 220h160v-160H400v160ZM180-400h160v-160H180v160Zm440 0h160v-160H620v160ZM180-180h160v-160H180v160Zm440 0h160v-160H620v160Z\"/>\n",
              "  </svg>\n",
              "    </button>\n",
              "\n",
              "  <style>\n",
              "    .colab-df-container {\n",
              "      display:flex;\n",
              "      gap: 12px;\n",
              "    }\n",
              "\n",
              "    .colab-df-convert {\n",
              "      background-color: #E8F0FE;\n",
              "      border: none;\n",
              "      border-radius: 50%;\n",
              "      cursor: pointer;\n",
              "      display: none;\n",
              "      fill: #1967D2;\n",
              "      height: 32px;\n",
              "      padding: 0 0 0 0;\n",
              "      width: 32px;\n",
              "    }\n",
              "\n",
              "    .colab-df-convert:hover {\n",
              "      background-color: #E2EBFA;\n",
              "      box-shadow: 0px 1px 2px rgba(60, 64, 67, 0.3), 0px 1px 3px 1px rgba(60, 64, 67, 0.15);\n",
              "      fill: #174EA6;\n",
              "    }\n",
              "\n",
              "    .colab-df-buttons div {\n",
              "      margin-bottom: 4px;\n",
              "    }\n",
              "\n",
              "    [theme=dark] .colab-df-convert {\n",
              "      background-color: #3B4455;\n",
              "      fill: #D2E3FC;\n",
              "    }\n",
              "\n",
              "    [theme=dark] .colab-df-convert:hover {\n",
              "      background-color: #434B5C;\n",
              "      box-shadow: 0px 1px 3px 1px rgba(0, 0, 0, 0.15);\n",
              "      filter: drop-shadow(0px 1px 2px rgba(0, 0, 0, 0.3));\n",
              "      fill: #FFFFFF;\n",
              "    }\n",
              "  </style>\n",
              "\n",
              "    <script>\n",
              "      const buttonEl =\n",
              "        document.querySelector('#df-24387bbf-274c-4dfc-9eb4-7672c74c2854 button.colab-df-convert');\n",
              "      buttonEl.style.display =\n",
              "        google.colab.kernel.accessAllowed ? 'block' : 'none';\n",
              "\n",
              "      async function convertToInteractive(key) {\n",
              "        const element = document.querySelector('#df-24387bbf-274c-4dfc-9eb4-7672c74c2854');\n",
              "        const dataTable =\n",
              "          await google.colab.kernel.invokeFunction('convertToInteractive',\n",
              "                                                    [key], {});\n",
              "        if (!dataTable) return;\n",
              "\n",
              "        const docLinkHtml = 'Like what you see? Visit the ' +\n",
              "          '<a target=\"_blank\" href=https://colab.research.google.com/notebooks/data_table.ipynb>data table notebook</a>'\n",
              "          + ' to learn more about interactive tables.';\n",
              "        element.innerHTML = '';\n",
              "        dataTable['output_type'] = 'display_data';\n",
              "        await google.colab.output.renderOutput(dataTable, element);\n",
              "        const docLink = document.createElement('div');\n",
              "        docLink.innerHTML = docLinkHtml;\n",
              "        element.appendChild(docLink);\n",
              "      }\n",
              "    </script>\n",
              "  </div>\n",
              "\n",
              "\n",
              "<div id=\"df-a95b0114-5ca4-4c73-859b-40f16b1d3ecd\">\n",
              "  <button class=\"colab-df-quickchart\" onclick=\"quickchart('df-a95b0114-5ca4-4c73-859b-40f16b1d3ecd')\"\n",
              "            title=\"Suggest charts.\"\n",
              "            style=\"display:none;\">\n",
              "\n",
              "<svg xmlns=\"http://www.w3.org/2000/svg\" height=\"24px\"viewBox=\"0 0 24 24\"\n",
              "     width=\"24px\">\n",
              "    <g>\n",
              "        <path d=\"M19 3H5c-1.1 0-2 .9-2 2v14c0 1.1.9 2 2 2h14c1.1 0 2-.9 2-2V5c0-1.1-.9-2-2-2zM9 17H7v-7h2v7zm4 0h-2V7h2v10zm4 0h-2v-4h2v4z\"/>\n",
              "    </g>\n",
              "</svg>\n",
              "  </button>\n",
              "\n",
              "<style>\n",
              "  .colab-df-quickchart {\n",
              "      --bg-color: #E8F0FE;\n",
              "      --fill-color: #1967D2;\n",
              "      --hover-bg-color: #E2EBFA;\n",
              "      --hover-fill-color: #174EA6;\n",
              "      --disabled-fill-color: #AAA;\n",
              "      --disabled-bg-color: #DDD;\n",
              "  }\n",
              "\n",
              "  [theme=dark] .colab-df-quickchart {\n",
              "      --bg-color: #3B4455;\n",
              "      --fill-color: #D2E3FC;\n",
              "      --hover-bg-color: #434B5C;\n",
              "      --hover-fill-color: #FFFFFF;\n",
              "      --disabled-bg-color: #3B4455;\n",
              "      --disabled-fill-color: #666;\n",
              "  }\n",
              "\n",
              "  .colab-df-quickchart {\n",
              "    background-color: var(--bg-color);\n",
              "    border: none;\n",
              "    border-radius: 50%;\n",
              "    cursor: pointer;\n",
              "    display: none;\n",
              "    fill: var(--fill-color);\n",
              "    height: 32px;\n",
              "    padding: 0;\n",
              "    width: 32px;\n",
              "  }\n",
              "\n",
              "  .colab-df-quickchart:hover {\n",
              "    background-color: var(--hover-bg-color);\n",
              "    box-shadow: 0 1px 2px rgba(60, 64, 67, 0.3), 0 1px 3px 1px rgba(60, 64, 67, 0.15);\n",
              "    fill: var(--button-hover-fill-color);\n",
              "  }\n",
              "\n",
              "  .colab-df-quickchart-complete:disabled,\n",
              "  .colab-df-quickchart-complete:disabled:hover {\n",
              "    background-color: var(--disabled-bg-color);\n",
              "    fill: var(--disabled-fill-color);\n",
              "    box-shadow: none;\n",
              "  }\n",
              "\n",
              "  .colab-df-spinner {\n",
              "    border: 2px solid var(--fill-color);\n",
              "    border-color: transparent;\n",
              "    border-bottom-color: var(--fill-color);\n",
              "    animation:\n",
              "      spin 1s steps(1) infinite;\n",
              "  }\n",
              "\n",
              "  @keyframes spin {\n",
              "    0% {\n",
              "      border-color: transparent;\n",
              "      border-bottom-color: var(--fill-color);\n",
              "      border-left-color: var(--fill-color);\n",
              "    }\n",
              "    20% {\n",
              "      border-color: transparent;\n",
              "      border-left-color: var(--fill-color);\n",
              "      border-top-color: var(--fill-color);\n",
              "    }\n",
              "    30% {\n",
              "      border-color: transparent;\n",
              "      border-left-color: var(--fill-color);\n",
              "      border-top-color: var(--fill-color);\n",
              "      border-right-color: var(--fill-color);\n",
              "    }\n",
              "    40% {\n",
              "      border-color: transparent;\n",
              "      border-right-color: var(--fill-color);\n",
              "      border-top-color: var(--fill-color);\n",
              "    }\n",
              "    60% {\n",
              "      border-color: transparent;\n",
              "      border-right-color: var(--fill-color);\n",
              "    }\n",
              "    80% {\n",
              "      border-color: transparent;\n",
              "      border-right-color: var(--fill-color);\n",
              "      border-bottom-color: var(--fill-color);\n",
              "    }\n",
              "    90% {\n",
              "      border-color: transparent;\n",
              "      border-bottom-color: var(--fill-color);\n",
              "    }\n",
              "  }\n",
              "</style>\n",
              "\n",
              "  <script>\n",
              "    async function quickchart(key) {\n",
              "      const quickchartButtonEl =\n",
              "        document.querySelector('#' + key + ' button');\n",
              "      quickchartButtonEl.disabled = true;  // To prevent multiple clicks.\n",
              "      quickchartButtonEl.classList.add('colab-df-spinner');\n",
              "      try {\n",
              "        const charts = await google.colab.kernel.invokeFunction(\n",
              "            'suggestCharts', [key], {});\n",
              "      } catch (error) {\n",
              "        console.error('Error during call to suggestCharts:', error);\n",
              "      }\n",
              "      quickchartButtonEl.classList.remove('colab-df-spinner');\n",
              "      quickchartButtonEl.classList.add('colab-df-quickchart-complete');\n",
              "    }\n",
              "    (() => {\n",
              "      let quickchartButtonEl =\n",
              "        document.querySelector('#df-a95b0114-5ca4-4c73-859b-40f16b1d3ecd button');\n",
              "      quickchartButtonEl.style.display =\n",
              "        google.colab.kernel.accessAllowed ? 'block' : 'none';\n",
              "    })();\n",
              "  </script>\n",
              "</div>\n",
              "    </div>\n",
              "  </div>\n"
            ]
          },
          "metadata": {},
          "execution_count": 4
        }
      ]
    },
    {
      "cell_type": "code",
      "source": [
        "df.columns"
      ],
      "metadata": {
        "colab": {
          "base_uri": "https://localhost:8080/"
        },
        "id": "nYtWJu6ByxMo",
        "outputId": "d312c137-a33f-472a-cae5-e222ef5c38ad"
      },
      "execution_count": null,
      "outputs": [
        {
          "output_type": "execute_result",
          "data": {
            "text/plain": [
              "Index(['loan_amnt', 'term', 'int_rate', 'installment', 'sub_grade',\n",
              "       'emp_length', 'home_ownership', 'annual_inc', 'verification_status',\n",
              "       'loan_status', 'purpose', 'dti', 'open_acc', 'pub_rec', 'revol_bal',\n",
              "       'revol_util', 'total_acc', 'initial_list_status', 'application_type',\n",
              "       'mort_acc', 'emp_category'],\n",
              "      dtype='object')"
            ]
          },
          "metadata": {},
          "execution_count": 5
        }
      ]
    },
    {
      "cell_type": "code",
      "source": [
        "df['loan_status'].value_counts()"
      ],
      "metadata": {
        "colab": {
          "base_uri": "https://localhost:8080/"
        },
        "id": "tFM94n6lm0YH",
        "outputId": "e4739243-75e3-422e-8958-e216b1086bb2"
      },
      "execution_count": null,
      "outputs": [
        {
          "output_type": "execute_result",
          "data": {
            "text/plain": [
              "1    318144\n",
              "0     77610\n",
              "Name: loan_status, dtype: int64"
            ]
          },
          "metadata": {},
          "execution_count": 6
        }
      ]
    },
    {
      "cell_type": "markdown",
      "source": [
        "## ML"
      ],
      "metadata": {
        "id": "p4H-cf5sEeVI"
      }
    },
    {
      "cell_type": "markdown",
      "source": [
        "### loan status"
      ],
      "metadata": {
        "id": "izLKKnq1i2Ua"
      }
    },
    {
      "cell_type": "code",
      "source": [
        "# warning메시지 무시\n",
        "import warnings\n",
        "warnings.filterwarnings('ignore')"
      ],
      "metadata": {
        "id": "cERFKJ6Xhkkr"
      },
      "execution_count": null,
      "outputs": []
    },
    {
      "cell_type": "code",
      "source": [
        "df['sub_grade'] = df['sub_grade'].astype(str)\n",
        "df['grade'] = df['sub_grade'].apply(lambda x: x[0:1])\n",
        "\n",
        "df['grade'] = df['grade'].astype(int)\n",
        "df['sub_grade'] = df['sub_grade'].astype(int)"
      ],
      "metadata": {
        "id": "bs2ImTenhlYn"
      },
      "execution_count": null,
      "outputs": []
    },
    {
      "cell_type": "code",
      "source": [
        "import numpy as np\n",
        "a = np.abs(df.corr().round(3)['loan_status'])\n",
        "a.sort_values(ascending=False)[1:6] #상위 5개, 자기 자신 제외"
      ],
      "metadata": {
        "id": "ztN2H3DDhla2"
      },
      "execution_count": null,
      "outputs": []
    },
    {
      "cell_type": "code",
      "source": [
        "X = df[['grade', 'int_rate', 'term', 'revol_util', 'verification_status']]\n",
        "y = df['loan_status']"
      ],
      "metadata": {
        "id": "FA6m8i9phlde"
      },
      "execution_count": null,
      "outputs": []
    },
    {
      "cell_type": "code",
      "source": [
        "from sklearn.model_selection import train_test_split\n",
        "\n",
        "X_train, X_test, y_train, y_test = train_test_split(X, y, test_size=0.3, stratify=y, random_state=1)\n",
        "\n",
        "print(X_train.shape)\n",
        "print(X_test.shape)\n",
        "print(y_train.shape)\n",
        "print(y_test.shape)"
      ],
      "metadata": {
        "id": "_C9bxt9ihlf0"
      },
      "execution_count": null,
      "outputs": []
    },
    {
      "cell_type": "code",
      "source": [
        "from sklearn.preprocessing import MinMaxScaler\n",
        "scaler = MinMaxScaler()\n",
        "scaler.fit(X_train)"
      ],
      "metadata": {
        "id": "0h_YnV8ThliV"
      },
      "execution_count": null,
      "outputs": []
    },
    {
      "cell_type": "code",
      "source": [
        "X_train = scaler.transform(X_train)\n",
        "X_test = scaler.transform(X_test)"
      ],
      "metadata": {
        "id": "h6rNlW7bh0O6"
      },
      "execution_count": null,
      "outputs": []
    },
    {
      "cell_type": "markdown",
      "source": [
        "#### RandomForestClassifier"
      ],
      "metadata": {
        "id": "-OLLI2txh3i1"
      }
    },
    {
      "cell_type": "code",
      "source": [
        "# over sampling\n",
        "from imblearn.over_sampling import SMOTE\n",
        "\n",
        "smote = SMOTE(random_state=1)\n",
        "X_train_over, y_train_over = smote.fit_resample(X_train, y_train)"
      ],
      "metadata": {
        "id": "T9RPRfJwh0RY"
      },
      "execution_count": null,
      "outputs": []
    },
    {
      "cell_type": "code",
      "source": [
        "from sklearn.ensemble import RandomForestClassifier\n",
        "from tqdm.notebook import tqdm\n",
        "\n",
        "rf = RandomForestClassifier(n_estimators=30, max_features=3, max_depth=7, random_state=1)\n",
        "\n",
        "with tqdm(total=len(X_train_over)) as pbar:\n",
        "    rf.fit(X_train_over, y_train_over)\n",
        "    pbar.update(len(X_train_over))\n",
        "\n",
        "y_pred = rf.predict(X_test)"
      ],
      "metadata": {
        "id": "oQLsz4vjh0T8"
      },
      "execution_count": null,
      "outputs": []
    },
    {
      "cell_type": "code",
      "source": [
        "rf.score(X_train_over,y_train_over)"
      ],
      "metadata": {
        "id": "N3xQhleZh0Wo"
      },
      "execution_count": null,
      "outputs": []
    },
    {
      "cell_type": "code",
      "source": [
        "# feature importances\n",
        "\n",
        "feature_importances = rf.feature_importances_\n",
        "s_f_i = pd.Series(feature_importances, index=X.columns)\n",
        "s_f_i = s_f_i.sort_values(ascending=False)"
      ],
      "metadata": {
        "id": "ni7PARgph0ZE"
      },
      "execution_count": null,
      "outputs": []
    },
    {
      "cell_type": "code",
      "source": [
        "import seaborn as sns\n",
        "import matplotlib.pyplot as plt\n",
        "\n",
        "plt.figure(figsize=(10,5))\n",
        "sns.barplot(x=s_f_i, y=s_f_i.index, cmap='Blues')\n",
        "plt.title('Feature Importances')\n",
        "plt.show()"
      ],
      "metadata": {
        "id": "IinQHktyh0bd"
      },
      "execution_count": null,
      "outputs": []
    },
    {
      "cell_type": "code",
      "source": [
        "from sklearn.metrics import confusion_matrix, classification_report, accuracy_score\n",
        "from scipy.stats import gmean\n",
        "print(\"Random Forest Classifier\\n\")\n",
        "cm = confusion_matrix(y_test, y_pred)\n",
        "\n",
        "print(\"Confusion Matrix:\")\n",
        "print(cm)\n",
        "\n",
        "TP = cm[1][1]\n",
        "FN = cm[1][0]\n",
        "TN = cm[0][0]\n",
        "FP = cm[0][1]\n",
        "\n",
        "sensitivity = TP / (TP + FN)\n",
        "specificity = TN / (TN + FP)\n",
        "\n",
        "print(\"G-Mean : \", gmean([sensitivity, specificity]),\"\\n\")\n",
        "\n",
        "accuracy = accuracy_score(y_test, y_pred)\n",
        "print(\"RandomForestClassifier Accuracy : \", accuracy)\n",
        "print(\"Classification Report:\")\n",
        "print(classification_report(y_test, y_pred))"
      ],
      "metadata": {
        "id": "oHYTOHghh0dy"
      },
      "execution_count": null,
      "outputs": []
    },
    {
      "cell_type": "markdown",
      "source": [
        "#### Grid Search - RandomForestClassifier"
      ],
      "metadata": {
        "id": "KKl6TiDhiJYn"
      }
    },
    {
      "cell_type": "code",
      "source": [
        "params = { 'n_estimators' : [400, 500],\n",
        "           'max_depth' : [6, 8, 10, 12]\n",
        "         }\n"
      ],
      "metadata": {
        "id": "gd53RhMrh0gG"
      },
      "execution_count": null,
      "outputs": []
    },
    {
      "cell_type": "code",
      "source": [
        "from sklearn.model_selection import GridSearchCV\n",
        "from sklearn.metrics import make_scorer\n",
        "\n",
        "scorer = make_scorer(gmean)\n",
        "grid_search = GridSearchCV(estimator=RandomForestClassifier(random_state=1),\n",
        "                           param_grid=params,\n",
        "                           scoring=scorer,\n",
        "                           cv=3,\n",
        "                           n_jobs=1,\n",
        "                           verbose=2)\n",
        "\n",
        "for i in tqdm(range(len(params['n_estimators']))):\n",
        "    grid_search.fit(X_train_over, y_train_over)"
      ],
      "metadata": {
        "id": "9UCGSOhrh0i2"
      },
      "execution_count": null,
      "outputs": []
    },
    {
      "cell_type": "code",
      "source": [
        "best_model = grid_search.best_estimator_\n",
        "\n",
        "y_pred = best_model.predict(X_test)\n",
        "\n",
        "print(\"Grid Search CV\\n\")\n",
        "cm = confusion_matrix(y_test, y_pred)\n",
        "\n",
        "print(\"Confusion Matrix:\")\n",
        "print(cm)\n",
        "\n",
        "TP = cm[1][1]\n",
        "FN = cm[1][0]\n",
        "TN = cm[0][0]\n",
        "FP = cm[0][1]\n",
        "\n",
        "sensitivity = TP / (TP + FN)\n",
        "specificity = TN / (TN + FP)\n",
        "\n",
        "print(\"G-Mean : \", gmean([sensitivity, specificity]),\"\\n\")\n",
        "\n",
        "accuracy = accuracy_score(y_test, y_pred)\n",
        "print(\"RandomForestClassifier Accuracy : \", accuracy)\n",
        "print(\"Classification Report:\")\n",
        "print(classification_report(y_test, y_pred))"
      ],
      "metadata": {
        "id": "njnz-uhZiRz9"
      },
      "execution_count": null,
      "outputs": []
    },
    {
      "cell_type": "markdown",
      "source": [
        "#### Easy Ensemble Classifier"
      ],
      "metadata": {
        "id": "LiQ4Jl7ViUz8"
      }
    },
    {
      "cell_type": "code",
      "source": [
        "# X_train_over,y_train_over\n",
        "from imblearn.ensemble import EasyEnsembleClassifier\n",
        "from tqdm.notebook import tqdm\n",
        "\n",
        "eec = EasyEnsembleClassifier(n_estimators=30, random_state=1)\n",
        "\n",
        "with tqdm(total=len(X_train)) as pbar:\n",
        "    eec.fit(X_train, y_train)\n",
        "    pbar.update(len(X_train))\n",
        "\n",
        "y_pred = eec.predict(X_test)"
      ],
      "metadata": {
        "id": "-KWMf7n5iR9e"
      },
      "execution_count": null,
      "outputs": []
    },
    {
      "cell_type": "code",
      "source": [
        "eec.score(X_train,y_train)"
      ],
      "metadata": {
        "id": "JZziXl_ziSEY"
      },
      "execution_count": null,
      "outputs": []
    },
    {
      "cell_type": "code",
      "source": [
        "from sklearn.metrics import confusion_matrix, classification_report, accuracy_score\n",
        "from scipy.stats import gmean\n",
        "print(\"Easy Ensemble Classifier\\n\")\n",
        "cm = confusion_matrix(y_test, y_pred)\n",
        "\n",
        "print(\"Confusion Matrix:\")\n",
        "print(cm)\n",
        "\n",
        "TP = cm[1][1]\n",
        "FN = cm[1][0]\n",
        "TN = cm[0][0]\n",
        "FP = cm[0][1]\n",
        "\n",
        "sensitivity = TP / (TP + FN)\n",
        "specificity = TN / (TN + FP)\n",
        "\n",
        "print(\"G-Mean : \", gmean([sensitivity, specificity]),\"\\n\")\n",
        "\n",
        "accuracy = accuracy_score(y_test, y_pred)\n",
        "print(\"Accuracy : \", accuracy)\n",
        "print(\"Classification Report:\")\n",
        "print(classification_report(y_test, y_pred))"
      ],
      "metadata": {
        "id": "8Ekx_naCiSHR"
      },
      "execution_count": null,
      "outputs": []
    },
    {
      "cell_type": "markdown",
      "source": [
        "#### Ada Boost"
      ],
      "metadata": {
        "id": "X9mtFOiEib0x"
      }
    },
    {
      "cell_type": "code",
      "source": [
        "from sklearn.ensemble import AdaBoostClassifier\n",
        "\n",
        "adab = AdaBoostClassifier(random_state=1)\n",
        "\n",
        "adab.fit(X_train_over, y_train_over)\n",
        "y_pred = adab.predict(X_test)"
      ],
      "metadata": {
        "id": "p6_hhEBNiSJ2"
      },
      "execution_count": null,
      "outputs": []
    },
    {
      "cell_type": "code",
      "source": [
        "print(\"Ada Boost\\n\")\n",
        "cm = confusion_matrix(y_test, y_pred)\n",
        "\n",
        "print(\"Confusion Matrix:\")\n",
        "print(cm)\n",
        "\n",
        "TP = cm[1][1]\n",
        "FN = cm[1][0]\n",
        "TN = cm[0][0]\n",
        "FP = cm[0][1]\n",
        "\n",
        "sensitivity = TP / (TP + FN)\n",
        "specificity = TN / (TN + FP)\n",
        "\n",
        "print(\"G-Mean : \", gmean([sensitivity, specificity]),\"\\n\")\n",
        "\n",
        "accuracy = accuracy_score(y_test, y_pred)\n",
        "print(\"Accuracy : \", accuracy)\n",
        "print(\"Classification Report:\")\n",
        "print(classification_report(y_test, y_pred))\n"
      ],
      "metadata": {
        "id": "AsMpXv57iSMe"
      },
      "execution_count": null,
      "outputs": []
    },
    {
      "cell_type": "markdown",
      "source": [
        "#### Gradient Boost"
      ],
      "metadata": {
        "id": "O1wAWZ9lihJc"
      }
    },
    {
      "cell_type": "code",
      "source": [
        "from sklearn.ensemble import GradientBoostingClassifier\n",
        "gradb = GradientBoostingClassifier(random_state=1).fit(X_train_over, y_train_over)\n",
        "y_pred = gradb.predict(X_test)"
      ],
      "metadata": {
        "id": "oU_t1wRBik2-"
      },
      "execution_count": null,
      "outputs": []
    },
    {
      "cell_type": "code",
      "source": [
        "print(\"Gradient Boost\\n\")\n",
        "cm = confusion_matrix(y_test, y_pred)\n",
        "\n",
        "print(\"Confusion Matrix:\")\n",
        "print(cm)\n",
        "\n",
        "TP = cm[1][1]\n",
        "FN = cm[1][0]\n",
        "TN = cm[0][0]\n",
        "FP = cm[0][1]\n",
        "\n",
        "sensitivity = TP / (TP + FN)\n",
        "specificity = TN / (TN + FP)\n",
        "\n",
        "print(\"G-Mean : \", gmean([sensitivity, specificity]),\"\\n\")\n",
        "\n",
        "accuracy = accuracy_score(y_test, y_pred)\n",
        "print(\"Accuracy : \", accuracy)\n",
        "print(\"Classification Report:\")\n",
        "print(classification_report(y_test, y_pred))"
      ],
      "metadata": {
        "id": "VBNeupSWik66"
      },
      "execution_count": null,
      "outputs": []
    },
    {
      "cell_type": "markdown",
      "source": [
        "#### XGBoost"
      ],
      "metadata": {
        "id": "lcx1zvqwipFr"
      }
    },
    {
      "cell_type": "code",
      "source": [
        "!pip install xgboost"
      ],
      "metadata": {
        "id": "55K_zfm9ilIZ"
      },
      "execution_count": null,
      "outputs": []
    },
    {
      "cell_type": "code",
      "source": [
        "import xgboost\n",
        "xbg = xgboost.XGBClassifier(learning_rate=0.1,\n",
        "                            n_estimators=100,\n",
        "                            max_depth=3,\n",
        "                            objective='binary:logistic',\n",
        "                            # objective = \"binary:logistic“, “reg:linear”“, “multi:softmax” : 이항 / 연속 / 다항\n",
        "                            random_state=1).fit(X_train_over, y_train_over)\n",
        "y_pred = gradb.predict(X_test)"
      ],
      "metadata": {
        "id": "pb4pyorTirXg"
      },
      "execution_count": null,
      "outputs": []
    },
    {
      "cell_type": "code",
      "source": [
        "print(\"XGBoost\\n\")\n",
        "cm = confusion_matrix(y_test, y_pred)\n",
        "\n",
        "print(\"Confusion Matrix:\")\n",
        "print(cm)\n",
        "\n",
        "TP = cm[1][1]\n",
        "FN = cm[1][0]\n",
        "TN = cm[0][0]\n",
        "FP = cm[0][1]\n",
        "\n",
        "sensitivity = TP / (TP + FN)\n",
        "specificity = TN / (TN + FP)\n",
        "\n",
        "print(\"G-Mean : \", gmean([sensitivity, specificity]),\"\\n\")\n",
        "\n",
        "accuracy = accuracy_score(y_test, y_pred)\n",
        "print(\"Accuracy : \", accuracy)\n",
        "print(\"Classification Report:\")\n",
        "print(classification_report(y_test, y_pred))"
      ],
      "metadata": {
        "id": "Vyk_EKeQirbT"
      },
      "execution_count": null,
      "outputs": []
    },
    {
      "cell_type": "markdown",
      "source": [
        "### grade"
      ],
      "metadata": {
        "id": "uqR_QX3ijAkr"
      }
    },
    {
      "cell_type": "markdown",
      "source": [
        "#### RandomForestClassifier"
      ],
      "metadata": {
        "id": "6GC3YmQ0jDvw"
      }
    },
    {
      "cell_type": "code",
      "source": [
        "from sklearn.model_selection import train_test_split\n",
        "from sklearn.preprocessing import MinMaxScaler\n",
        "from sklearn.ensemble import RandomForestClassifier\n",
        "from tqdm.notebook import tqdm\n",
        "\n",
        "\n",
        "X = df[['int_rate', 'term', 'revol_util', 'loan_status', 'verification_status']]\n",
        "y = df['grade']\n",
        "\n",
        "X_train, X_test, y_train, y_test = train_test_split(X, y, test_size=0.3, stratify=y, random_state=1)\n",
        "scaler = MinMaxScaler()\n",
        "scaler.fit(X_train)\n",
        "\n",
        "X_train = scaler.transform(X_train)\n",
        "X_test = scaler.transform(X_test)\n",
        "\n",
        "# over sampling\n",
        "from imblearn.over_sampling import SMOTE\n",
        "\n",
        "smote = SMOTE(random_state=1)\n",
        "X_train_over, y_train_over = smote.fit_resample(X_train, y_train)\n",
        "\n",
        "\n",
        "rfc = RandomForestClassifier(n_estimators=30, max_features=3, max_depth=7, random_state=1)\n",
        "\n",
        "with tqdm(total=len(X_train_over)) as pbar:\n",
        "    rfc.fit(X_train_over, y_train_over)\n",
        "    pbar.update(len(X_train_over))\n",
        "\n",
        "y_pred = rfc.predict(X_test)"
      ],
      "metadata": {
        "id": "jX6ZLTcLirec"
      },
      "execution_count": null,
      "outputs": []
    },
    {
      "cell_type": "code",
      "source": [
        "rfc.score(X_train_over,y_train_over)"
      ],
      "metadata": {
        "id": "yr-3avsSjMi3"
      },
      "execution_count": null,
      "outputs": []
    },
    {
      "cell_type": "code",
      "source": [
        "# feature importances\n",
        "\n",
        "feature_importances = rf.feature_importances_\n",
        "s_f_i = pd.Series(feature_importances, index=X.columns)\n",
        "s_f_i = s_f_i.sort_values(ascending=False)[:6]\n",
        "\n",
        "plt.figure(figsize=(10,5))\n",
        "sns.barplot(x=s_f_i, y=s_f_i.index, cmap='Blues')\n",
        "plt.title('Feature Importances')\n",
        "plt.show()"
      ],
      "metadata": {
        "id": "0hLDh3BljOEn"
      },
      "execution_count": null,
      "outputs": []
    },
    {
      "cell_type": "code",
      "source": [
        "cm = confusion_matrix(y_test, y_pred)\n",
        "\n",
        "print(\"Confusion Matrix:\")\n",
        "print(cm)\n",
        "\n",
        "TP = cm[1][1]\n",
        "FN = cm[1][0]\n",
        "TN = cm[0][0]\n",
        "FP = cm[0][1]\n",
        "\n",
        "sensitivity = TP / (TP + FN)\n",
        "specificity = TN / (TN + FP)\n",
        "\n",
        "print(\"G-Mean : \", gmean([sensitivity, specificity]),\"\\n\")\n",
        "\n",
        "accuracy = accuracy_score(y_test, y_pred)\n",
        "print(\"RandomForestClassifier Accuracy : \", accuracy)\n",
        "print(\"Classification Report:\")\n",
        "print(classification_report(y_test, y_pred))"
      ],
      "metadata": {
        "id": "WFc5gsLVjUhs"
      },
      "execution_count": null,
      "outputs": []
    },
    {
      "cell_type": "markdown",
      "source": [
        "## DL"
      ],
      "metadata": {
        "id": "oh-WhAh9Eeev"
      }
    },
    {
      "cell_type": "code",
      "source": [
        "df = pd.read_csv('/content/drive/MyDrive/Colab_Notebooks/팀프로젝트/Lending_club/lending_club_labeled.csv', index_col=0)"
      ],
      "metadata": {
        "id": "gnsOJgChlaQT"
      },
      "execution_count": null,
      "outputs": []
    },
    {
      "cell_type": "markdown",
      "source": [
        "### utils"
      ],
      "metadata": {
        "id": "XOSCy_6lEef-"
      }
    },
    {
      "cell_type": "code",
      "source": [
        "import torch.cuda\n",
        "from sklearn.datasets import load_iris\n",
        "from torch import FloatTensor, LongTensor\n",
        "from torch.utils.data import DataLoader, TensorDataset\n",
        "from tqdm import tqdm\n",
        "import matplotlib.pyplot as plt\n",
        "import numpy as np\n",
        "from sklearn.preprocessing import StandardScaler, MinMaxScaler\n",
        "import pandas as pd\n",
        "from imblearn.over_sampling import SMOTE\n",
        "\n",
        "def get_loan_status(data, BATCH_SIZE):\n",
        "    X, y = data[['sub_grade', 'int_rate', 'term', 'revol_util', 'verification_status']].values, data['loan_status'].values\n",
        "    X = mm_scaler(X)\n",
        "    X, y = over_sampling(X, y)\n",
        "    dataset = TensorDataset(FloatTensor(X), FloatTensor(y))\n",
        "    dataloader = DataLoader(dataset, batch_size=BATCH_SIZE, shuffle=True)\n",
        "    print(X.shape)\n",
        "    n_samples = len(X)\n",
        "    n_classes = len(np.unique(y))\n",
        "    return dataloader, n_samples, n_classes\n",
        "\n",
        "def get_sub_grade(data, BATCH_SIZE):\n",
        "    X, y = data[['loan_status', 'int_rate', 'term', 'revol_util', 'verification_status']].values, data['sub_grade'].values\n",
        "    X = mm_scaler(X)\n",
        "    X, y = over_sampling(X, y)\n",
        "    dataset = TensorDataset(FloatTensor(X), LongTensor(y))\n",
        "    dataloader = DataLoader(dataset, batch_size=BATCH_SIZE, shuffle=True)\n",
        "    print(X.shape)\n",
        "    n_samples = len(X)\n",
        "    n_classes = len(np.unique(y))\n",
        "    return dataloader, n_samples, n_classes\n",
        "\n",
        "\n",
        "def over_sampling(X, y):\n",
        "    smote = SMOTE(random_state=1)\n",
        "    X, y = smote.fit_resample(X, y)\n",
        "    return X, y\n",
        "\n",
        "def std_scaler(X):\n",
        "    std = StandardScaler()\n",
        "    X = std.fit_transform(X)\n",
        "    return X\n",
        "\n",
        "def mm_scaler(X):\n",
        "    mm = MinMaxScaler()\n",
        "    X = mm.fit_transform(X)\n",
        "    return X\n",
        "\n",
        "\n",
        "def get_device():\n",
        "    if torch.cuda.is_available(): DEVICE = 'cuda'\n",
        "    elif torch.backends.mps.is_available(): DEVICE = 'mps'\n",
        "    else: DEVICE = 'cpu'\n",
        "    return DEVICE\n",
        "\n",
        "def train(dataloader, n_samples, model, loss_function, optimizer, DEVICE):\n",
        "    epoch_loss, epoch_acc = 0., 0\n",
        "    for X, y in tqdm(dataloader):\n",
        "        X, y = X.to(DEVICE), y.to(DEVICE)\n",
        "        pred = model(X)\n",
        "        loss = loss_function(pred, y)\n",
        "\n",
        "        optimizer.zero_grad()\n",
        "        loss.backward()\n",
        "        optimizer.step()\n",
        "\n",
        "        epoch_loss += loss.item() * len(X)\n",
        "        pred_classes = torch.max(pred, axis=1)[1].to(DEVICE)\n",
        "        epoch_acc += (pred_classes == y).sum().item()\n",
        "    return epoch_loss/n_samples, epoch_acc/n_samples\n",
        "\n",
        "\n",
        "def train_binary(dataloader, n_samples, model, loss_function, optimizer, DEVICE):\n",
        "    epoch_loss, epoch_acc = 0., 0\n",
        "    for X, y in tqdm(dataloader):\n",
        "        X, y = X.to(DEVICE), y.to(DEVICE)\n",
        "        pred = model(X)\n",
        "        loss = loss_function(pred, y)\n",
        "\n",
        "        optimizer.zero_grad()\n",
        "        loss.backward()\n",
        "        optimizer.step()\n",
        "\n",
        "        epoch_loss += loss.item() * len(X)\n",
        "        pred = (pred > 0.5).type(FloatTensor).to(DEVICE)\n",
        "        epoch_acc += (pred == y).sum().item()\n",
        "    return epoch_loss/n_samples, epoch_acc/n_samples\n",
        "def vis_losses_accs(losses, accs):\n",
        "    fig, ax = plt.subplots(2, 1, figsize=(10, 5))\n",
        "    ax[0].plot(losses)\n",
        "    ax[1].plot(accs)\n",
        "\n",
        "    plt.xlabel('Epoch')\n",
        "    ax[0].set_ylabel('CE loss')\n",
        "    ax[1].set_ylabel('Accuray')\n",
        "\n",
        "    plt.show()"
      ],
      "metadata": {
        "id": "QAqCI-OAFHwC"
      },
      "execution_count": null,
      "outputs": []
    },
    {
      "cell_type": "markdown",
      "source": [
        "### model"
      ],
      "metadata": {
        "id": "1pU6BYwpE3kH"
      }
    },
    {
      "cell_type": "code",
      "source": [
        "import torch.nn as nn\n",
        "\n",
        "class LoanstatusClassifier(nn.Module):\n",
        "    def __init__(self):\n",
        "        super(LoanstatusClassifier, self).__init__()\n",
        "        self.classifier = nn.Sequential(\n",
        "            nn.Linear(in_features=5, out_features=128),\n",
        "            nn.ReLU(),\n",
        "            nn.Linear(in_features=128, out_features=64),\n",
        "            nn.ReLU(),\n",
        "            nn.Linear(in_features=64, out_features=32),\n",
        "            nn.ReLU(),\n",
        "            nn.Linear(in_features=32, out_features=16),\n",
        "            nn.ReLU(),\n",
        "            nn.Linear(in_features=16, out_features=8),\n",
        "            nn.ReLU(),\n",
        "            nn.Linear(in_features=8, out_features=1),\n",
        "            nn.Sigmoid()\n",
        "        )\n",
        "\n",
        "    def forward(self, x):\n",
        "\n",
        "        x = self.classifier(x)\n",
        "\n",
        "        x = x.view(-1)\n",
        "\n",
        "        return x\n",
        "\n",
        "class GradeClassifier(nn.Module):\n",
        "    def __init__(self):\n",
        "        super(GradeClassifier, self).__init__()\n",
        "        self.classifier = nn.Sequential(\n",
        "            nn.Linear(in_features=5, out_features=64),\n",
        "            nn.ReLU(),\n",
        "            nn.Linear(in_features=64, out_features=32),\n",
        "            nn.ReLU(),\n",
        "            nn.Linear(in_features=32, out_features=16),\n",
        "            nn.ReLU(),\n",
        "            nn.Linear(in_features=16, out_features=8),\n",
        "            nn.ReLU(),\n",
        "            nn.Linear(in_features=8, out_features=4),\n",
        "            nn.ReLU(),\n",
        "            nn.Linear(in_features=4, out_features=35)\n",
        "        )\n",
        "\n",
        "    def forward(self, x):\n",
        "\n",
        "        x = self.classifier(x)\n",
        "        return x\n"
      ],
      "metadata": {
        "id": "bA0cym5GE3tf"
      },
      "execution_count": null,
      "outputs": []
    },
    {
      "cell_type": "markdown",
      "source": [
        "### main"
      ],
      "metadata": {
        "id": "gpSG8llHE-8H"
      }
    },
    {
      "cell_type": "markdown",
      "source": [
        "#### loan_status"
      ],
      "metadata": {
        "id": "AhgNBEx088k2"
      }
    },
    {
      "cell_type": "code",
      "source": [
        "import torch.nn as nn\n",
        "from torch.optim import SGD, Adam\n",
        "import torch\n",
        "\n",
        "BATCH_SIZE = 128\n",
        "EPOCHS = 100\n",
        "LR = 0.01\n",
        "DEVICE = get_device()\n",
        "\n",
        "\n",
        "dataloader, n_samples, n_classes = get_loan_status(df, BATCH_SIZE)\n",
        "\n",
        "model = LoanstatusClassifier().to(DEVICE)\n",
        "\n",
        "#pos_weights =  torch.tensor([/ 318144]).to(DEVICE)  #   fully paid / charge off\n",
        "loss_function = nn.BCELoss()\n",
        "optimizer = SGD(model.parameters(), lr=LR)\n",
        "\n",
        "losses, accs, gmean = [], [], []\n",
        "for epoch in range(EPOCHS):\n",
        "    epoch_loss, epoch_acc = train_binary(dataloader, n_samples, model, loss_function, optimizer, DEVICE)\n",
        "\n",
        "    losses.append(epoch_loss)\n",
        "    accs.append(epoch_acc)\n",
        "    print(f\"Epoch: {epoch + 1}\")\n",
        "    print(f\"Loss: {epoch_loss:.4f} - Acc: {epoch_acc:.4f}\\n\")\n",
        "\n",
        "vis_losses_accs(losses, accs)"
      ],
      "metadata": {
        "colab": {
          "base_uri": "https://localhost:8080/",
          "height": 1000
        },
        "id": "LxoAqXcCE_Hg",
        "outputId": "a9b72326-427c-4cc6-fc03-7f66359783d0"
      },
      "execution_count": null,
      "outputs": [
        {
          "output_type": "stream",
          "name": "stdout",
          "text": [
            "(636288, 5)\n"
          ]
        },
        {
          "output_type": "stream",
          "name": "stderr",
          "text": [
            "100%|██████████| 4971/4971 [00:14<00:00, 351.29it/s]\n"
          ]
        },
        {
          "output_type": "stream",
          "name": "stdout",
          "text": [
            "Epoch: 1\n",
            "Loss: 0.6923 - Acc: 0.5613\n",
            "\n"
          ]
        },
        {
          "output_type": "stream",
          "name": "stderr",
          "text": [
            "100%|██████████| 4971/4971 [00:14<00:00, 352.74it/s]\n"
          ]
        },
        {
          "output_type": "stream",
          "name": "stdout",
          "text": [
            "Epoch: 2\n",
            "Loss: 0.6607 - Acc: 0.6293\n",
            "\n"
          ]
        },
        {
          "output_type": "stream",
          "name": "stderr",
          "text": [
            "100%|██████████| 4971/4971 [00:14<00:00, 345.43it/s]\n"
          ]
        },
        {
          "output_type": "stream",
          "name": "stdout",
          "text": [
            "Epoch: 3\n",
            "Loss: 0.6367 - Acc: 0.6368\n",
            "\n"
          ]
        },
        {
          "output_type": "stream",
          "name": "stderr",
          "text": [
            "100%|██████████| 4971/4971 [00:14<00:00, 340.62it/s]\n"
          ]
        },
        {
          "output_type": "stream",
          "name": "stdout",
          "text": [
            "Epoch: 4\n",
            "Loss: 0.6361 - Acc: 0.6373\n",
            "\n"
          ]
        },
        {
          "output_type": "stream",
          "name": "stderr",
          "text": [
            "100%|██████████| 4971/4971 [00:14<00:00, 343.01it/s]\n"
          ]
        },
        {
          "output_type": "stream",
          "name": "stdout",
          "text": [
            "Epoch: 5\n",
            "Loss: 0.6358 - Acc: 0.6379\n",
            "\n"
          ]
        },
        {
          "output_type": "stream",
          "name": "stderr",
          "text": [
            "100%|██████████| 4971/4971 [00:14<00:00, 342.83it/s]\n"
          ]
        },
        {
          "output_type": "stream",
          "name": "stdout",
          "text": [
            "Epoch: 6\n",
            "Loss: 0.6356 - Acc: 0.6381\n",
            "\n"
          ]
        },
        {
          "output_type": "stream",
          "name": "stderr",
          "text": [
            "100%|██████████| 4971/4971 [00:14<00:00, 352.38it/s]\n"
          ]
        },
        {
          "output_type": "stream",
          "name": "stdout",
          "text": [
            "Epoch: 7\n",
            "Loss: 0.6354 - Acc: 0.6386\n",
            "\n"
          ]
        },
        {
          "output_type": "stream",
          "name": "stderr",
          "text": [
            "100%|██████████| 4971/4971 [00:14<00:00, 341.07it/s]\n"
          ]
        },
        {
          "output_type": "stream",
          "name": "stdout",
          "text": [
            "Epoch: 8\n",
            "Loss: 0.6352 - Acc: 0.6388\n",
            "\n"
          ]
        },
        {
          "output_type": "stream",
          "name": "stderr",
          "text": [
            "100%|██████████| 4971/4971 [00:14<00:00, 349.73it/s]\n"
          ]
        },
        {
          "output_type": "stream",
          "name": "stdout",
          "text": [
            "Epoch: 9\n",
            "Loss: 0.6351 - Acc: 0.6393\n",
            "\n"
          ]
        },
        {
          "output_type": "stream",
          "name": "stderr",
          "text": [
            "100%|██████████| 4971/4971 [00:14<00:00, 347.43it/s]\n"
          ]
        },
        {
          "output_type": "stream",
          "name": "stdout",
          "text": [
            "Epoch: 10\n",
            "Loss: 0.6349 - Acc: 0.6398\n",
            "\n"
          ]
        },
        {
          "output_type": "stream",
          "name": "stderr",
          "text": [
            "100%|██████████| 4971/4971 [00:13<00:00, 356.31it/s]\n"
          ]
        },
        {
          "output_type": "stream",
          "name": "stdout",
          "text": [
            "Epoch: 11\n",
            "Loss: 0.6348 - Acc: 0.6403\n",
            "\n"
          ]
        },
        {
          "output_type": "stream",
          "name": "stderr",
          "text": [
            "100%|██████████| 4971/4971 [00:14<00:00, 354.90it/s]\n"
          ]
        },
        {
          "output_type": "stream",
          "name": "stdout",
          "text": [
            "Epoch: 12\n",
            "Loss: 0.6346 - Acc: 0.6406\n",
            "\n"
          ]
        },
        {
          "output_type": "stream",
          "name": "stderr",
          "text": [
            "100%|██████████| 4971/4971 [00:14<00:00, 354.68it/s]\n"
          ]
        },
        {
          "output_type": "stream",
          "name": "stdout",
          "text": [
            "Epoch: 13\n",
            "Loss: 0.6344 - Acc: 0.6411\n",
            "\n"
          ]
        },
        {
          "output_type": "stream",
          "name": "stderr",
          "text": [
            "100%|██████████| 4971/4971 [00:14<00:00, 343.46it/s]\n"
          ]
        },
        {
          "output_type": "stream",
          "name": "stdout",
          "text": [
            "Epoch: 14\n",
            "Loss: 0.6343 - Acc: 0.6415\n",
            "\n"
          ]
        },
        {
          "output_type": "stream",
          "name": "stderr",
          "text": [
            "100%|██████████| 4971/4971 [00:13<00:00, 355.30it/s]\n"
          ]
        },
        {
          "output_type": "stream",
          "name": "stdout",
          "text": [
            "Epoch: 15\n",
            "Loss: 0.6342 - Acc: 0.6420\n",
            "\n"
          ]
        },
        {
          "output_type": "stream",
          "name": "stderr",
          "text": [
            "100%|██████████| 4971/4971 [00:13<00:00, 355.63it/s]\n"
          ]
        },
        {
          "output_type": "stream",
          "name": "stdout",
          "text": [
            "Epoch: 16\n",
            "Loss: 0.6340 - Acc: 0.6423\n",
            "\n"
          ]
        },
        {
          "output_type": "stream",
          "name": "stderr",
          "text": [
            "100%|██████████| 4971/4971 [00:14<00:00, 347.33it/s]\n"
          ]
        },
        {
          "output_type": "stream",
          "name": "stdout",
          "text": [
            "Epoch: 17\n",
            "Loss: 0.6340 - Acc: 0.6424\n",
            "\n"
          ]
        },
        {
          "output_type": "stream",
          "name": "stderr",
          "text": [
            "100%|██████████| 4971/4971 [00:14<00:00, 352.02it/s]\n"
          ]
        },
        {
          "output_type": "stream",
          "name": "stdout",
          "text": [
            "Epoch: 18\n",
            "Loss: 0.6339 - Acc: 0.6421\n",
            "\n"
          ]
        },
        {
          "output_type": "stream",
          "name": "stderr",
          "text": [
            "100%|██████████| 4971/4971 [00:14<00:00, 345.48it/s]\n"
          ]
        },
        {
          "output_type": "stream",
          "name": "stdout",
          "text": [
            "Epoch: 19\n",
            "Loss: 0.6339 - Acc: 0.6427\n",
            "\n"
          ]
        },
        {
          "output_type": "stream",
          "name": "stderr",
          "text": [
            "100%|██████████| 4971/4971 [00:14<00:00, 346.34it/s]\n"
          ]
        },
        {
          "output_type": "stream",
          "name": "stdout",
          "text": [
            "Epoch: 20\n",
            "Loss: 0.6338 - Acc: 0.6427\n",
            "\n"
          ]
        },
        {
          "output_type": "stream",
          "name": "stderr",
          "text": [
            "100%|██████████| 4971/4971 [00:14<00:00, 343.43it/s]\n"
          ]
        },
        {
          "output_type": "stream",
          "name": "stdout",
          "text": [
            "Epoch: 21\n",
            "Loss: 0.6337 - Acc: 0.6427\n",
            "\n"
          ]
        },
        {
          "output_type": "stream",
          "name": "stderr",
          "text": [
            "100%|██████████| 4971/4971 [00:14<00:00, 354.32it/s]\n"
          ]
        },
        {
          "output_type": "stream",
          "name": "stdout",
          "text": [
            "Epoch: 22\n",
            "Loss: 0.6336 - Acc: 0.6428\n",
            "\n"
          ]
        },
        {
          "output_type": "stream",
          "name": "stderr",
          "text": [
            "100%|██████████| 4971/4971 [00:14<00:00, 339.66it/s]\n"
          ]
        },
        {
          "output_type": "stream",
          "name": "stdout",
          "text": [
            "Epoch: 23\n",
            "Loss: 0.6335 - Acc: 0.6428\n",
            "\n"
          ]
        },
        {
          "output_type": "stream",
          "name": "stderr",
          "text": [
            "100%|██████████| 4971/4971 [00:14<00:00, 346.56it/s]\n"
          ]
        },
        {
          "output_type": "stream",
          "name": "stdout",
          "text": [
            "Epoch: 24\n",
            "Loss: 0.6334 - Acc: 0.6434\n",
            "\n"
          ]
        },
        {
          "output_type": "stream",
          "name": "stderr",
          "text": [
            "100%|██████████| 4971/4971 [00:14<00:00, 338.74it/s]\n"
          ]
        },
        {
          "output_type": "stream",
          "name": "stdout",
          "text": [
            "Epoch: 25\n",
            "Loss: 0.6334 - Acc: 0.6434\n",
            "\n"
          ]
        },
        {
          "output_type": "stream",
          "name": "stderr",
          "text": [
            "100%|██████████| 4971/4971 [00:14<00:00, 352.28it/s]\n"
          ]
        },
        {
          "output_type": "stream",
          "name": "stdout",
          "text": [
            "Epoch: 26\n",
            "Loss: 0.6333 - Acc: 0.6432\n",
            "\n"
          ]
        },
        {
          "output_type": "stream",
          "name": "stderr",
          "text": [
            "100%|██████████| 4971/4971 [00:14<00:00, 351.67it/s]\n"
          ]
        },
        {
          "output_type": "stream",
          "name": "stdout",
          "text": [
            "Epoch: 27\n",
            "Loss: 0.6332 - Acc: 0.6439\n",
            "\n"
          ]
        },
        {
          "output_type": "stream",
          "name": "stderr",
          "text": [
            "100%|██████████| 4971/4971 [00:13<00:00, 356.62it/s]\n"
          ]
        },
        {
          "output_type": "stream",
          "name": "stdout",
          "text": [
            "Epoch: 28\n",
            "Loss: 0.6332 - Acc: 0.6436\n",
            "\n"
          ]
        },
        {
          "output_type": "stream",
          "name": "stderr",
          "text": [
            "100%|██████████| 4971/4971 [00:14<00:00, 350.41it/s]\n"
          ]
        },
        {
          "output_type": "stream",
          "name": "stdout",
          "text": [
            "Epoch: 29\n",
            "Loss: 0.6331 - Acc: 0.6432\n",
            "\n"
          ]
        },
        {
          "output_type": "stream",
          "name": "stderr",
          "text": [
            "100%|██████████| 4971/4971 [00:14<00:00, 351.21it/s]\n"
          ]
        },
        {
          "output_type": "stream",
          "name": "stdout",
          "text": [
            "Epoch: 30\n",
            "Loss: 0.6331 - Acc: 0.6436\n",
            "\n"
          ]
        },
        {
          "output_type": "stream",
          "name": "stderr",
          "text": [
            "100%|██████████| 4971/4971 [00:13<00:00, 356.81it/s]\n"
          ]
        },
        {
          "output_type": "stream",
          "name": "stdout",
          "text": [
            "Epoch: 31\n",
            "Loss: 0.6330 - Acc: 0.6435\n",
            "\n"
          ]
        },
        {
          "output_type": "stream",
          "name": "stderr",
          "text": [
            "100%|██████████| 4971/4971 [00:13<00:00, 365.59it/s]\n"
          ]
        },
        {
          "output_type": "stream",
          "name": "stdout",
          "text": [
            "Epoch: 32\n",
            "Loss: 0.6329 - Acc: 0.6436\n",
            "\n"
          ]
        },
        {
          "output_type": "stream",
          "name": "stderr",
          "text": [
            "100%|██████████| 4971/4971 [00:13<00:00, 366.76it/s]\n"
          ]
        },
        {
          "output_type": "stream",
          "name": "stdout",
          "text": [
            "Epoch: 33\n",
            "Loss: 0.6329 - Acc: 0.6436\n",
            "\n"
          ]
        },
        {
          "output_type": "stream",
          "name": "stderr",
          "text": [
            "100%|██████████| 4971/4971 [00:14<00:00, 347.63it/s]\n"
          ]
        },
        {
          "output_type": "stream",
          "name": "stdout",
          "text": [
            "Epoch: 34\n",
            "Loss: 0.6328 - Acc: 0.6439\n",
            "\n"
          ]
        },
        {
          "output_type": "stream",
          "name": "stderr",
          "text": [
            "100%|██████████| 4971/4971 [00:13<00:00, 360.09it/s]\n"
          ]
        },
        {
          "output_type": "stream",
          "name": "stdout",
          "text": [
            "Epoch: 35\n",
            "Loss: 0.6327 - Acc: 0.6440\n",
            "\n"
          ]
        },
        {
          "output_type": "stream",
          "name": "stderr",
          "text": [
            "100%|██████████| 4971/4971 [00:14<00:00, 351.33it/s]\n"
          ]
        },
        {
          "output_type": "stream",
          "name": "stdout",
          "text": [
            "Epoch: 36\n",
            "Loss: 0.6327 - Acc: 0.6438\n",
            "\n"
          ]
        },
        {
          "output_type": "stream",
          "name": "stderr",
          "text": [
            "100%|██████████| 4971/4971 [00:22<00:00, 224.16it/s]\n"
          ]
        },
        {
          "output_type": "stream",
          "name": "stdout",
          "text": [
            "Epoch: 37\n",
            "Loss: 0.6326 - Acc: 0.6443\n",
            "\n"
          ]
        },
        {
          "output_type": "stream",
          "name": "stderr",
          "text": [
            "100%|██████████| 4971/4971 [00:17<00:00, 284.96it/s]\n"
          ]
        },
        {
          "output_type": "stream",
          "name": "stdout",
          "text": [
            "Epoch: 38\n",
            "Loss: 0.6326 - Acc: 0.6437\n",
            "\n"
          ]
        },
        {
          "output_type": "stream",
          "name": "stderr",
          "text": [
            "100%|██████████| 4971/4971 [00:25<00:00, 196.18it/s]\n"
          ]
        },
        {
          "output_type": "stream",
          "name": "stdout",
          "text": [
            "Epoch: 39\n",
            "Loss: 0.6325 - Acc: 0.6442\n",
            "\n"
          ]
        },
        {
          "output_type": "stream",
          "name": "stderr",
          "text": [
            "100%|██████████| 4971/4971 [00:25<00:00, 193.99it/s]\n"
          ]
        },
        {
          "output_type": "stream",
          "name": "stdout",
          "text": [
            "Epoch: 40\n",
            "Loss: 0.6325 - Acc: 0.6440\n",
            "\n"
          ]
        },
        {
          "output_type": "stream",
          "name": "stderr",
          "text": [
            "100%|██████████| 4971/4971 [00:18<00:00, 269.59it/s]\n"
          ]
        },
        {
          "output_type": "stream",
          "name": "stdout",
          "text": [
            "Epoch: 41\n",
            "Loss: 0.6324 - Acc: 0.6441\n",
            "\n"
          ]
        },
        {
          "output_type": "stream",
          "name": "stderr",
          "text": [
            "100%|██████████| 4971/4971 [00:20<00:00, 244.81it/s]\n"
          ]
        },
        {
          "output_type": "stream",
          "name": "stdout",
          "text": [
            "Epoch: 42\n",
            "Loss: 0.6324 - Acc: 0.6444\n",
            "\n"
          ]
        },
        {
          "output_type": "stream",
          "name": "stderr",
          "text": [
            "100%|██████████| 4971/4971 [00:14<00:00, 348.81it/s]\n"
          ]
        },
        {
          "output_type": "stream",
          "name": "stdout",
          "text": [
            "Epoch: 43\n",
            "Loss: 0.6323 - Acc: 0.6443\n",
            "\n"
          ]
        },
        {
          "output_type": "stream",
          "name": "stderr",
          "text": [
            "100%|██████████| 4971/4971 [00:14<00:00, 344.56it/s]\n"
          ]
        },
        {
          "output_type": "stream",
          "name": "stdout",
          "text": [
            "Epoch: 44\n",
            "Loss: 0.6323 - Acc: 0.6441\n",
            "\n"
          ]
        },
        {
          "output_type": "stream",
          "name": "stderr",
          "text": [
            "100%|██████████| 4971/4971 [00:15<00:00, 325.94it/s]\n"
          ]
        },
        {
          "output_type": "stream",
          "name": "stdout",
          "text": [
            "Epoch: 45\n",
            "Loss: 0.6323 - Acc: 0.6444\n",
            "\n"
          ]
        },
        {
          "output_type": "stream",
          "name": "stderr",
          "text": [
            "100%|██████████| 4971/4971 [00:14<00:00, 347.84it/s]\n"
          ]
        },
        {
          "output_type": "stream",
          "name": "stdout",
          "text": [
            "Epoch: 46\n",
            "Loss: 0.6323 - Acc: 0.6444\n",
            "\n"
          ]
        },
        {
          "output_type": "stream",
          "name": "stderr",
          "text": [
            "100%|██████████| 4971/4971 [00:14<00:00, 341.41it/s]\n"
          ]
        },
        {
          "output_type": "stream",
          "name": "stdout",
          "text": [
            "Epoch: 47\n",
            "Loss: 0.6322 - Acc: 0.6444\n",
            "\n"
          ]
        },
        {
          "output_type": "stream",
          "name": "stderr",
          "text": [
            "100%|██████████| 4971/4971 [00:14<00:00, 343.22it/s]\n"
          ]
        },
        {
          "output_type": "stream",
          "name": "stdout",
          "text": [
            "Epoch: 48\n",
            "Loss: 0.6322 - Acc: 0.6449\n",
            "\n"
          ]
        },
        {
          "output_type": "stream",
          "name": "stderr",
          "text": [
            "100%|██████████| 4971/4971 [00:14<00:00, 335.08it/s]\n"
          ]
        },
        {
          "output_type": "stream",
          "name": "stdout",
          "text": [
            "Epoch: 49\n",
            "Loss: 0.6321 - Acc: 0.6447\n",
            "\n"
          ]
        },
        {
          "output_type": "stream",
          "name": "stderr",
          "text": [
            "100%|██████████| 4971/4971 [00:14<00:00, 343.33it/s]\n"
          ]
        },
        {
          "output_type": "stream",
          "name": "stdout",
          "text": [
            "Epoch: 50\n",
            "Loss: 0.6321 - Acc: 0.6444\n",
            "\n"
          ]
        },
        {
          "output_type": "stream",
          "name": "stderr",
          "text": [
            "100%|██████████| 4971/4971 [00:14<00:00, 348.96it/s]\n"
          ]
        },
        {
          "output_type": "stream",
          "name": "stdout",
          "text": [
            "Epoch: 51\n",
            "Loss: 0.6321 - Acc: 0.6446\n",
            "\n"
          ]
        },
        {
          "output_type": "stream",
          "name": "stderr",
          "text": [
            "100%|██████████| 4971/4971 [00:15<00:00, 323.65it/s]\n"
          ]
        },
        {
          "output_type": "stream",
          "name": "stdout",
          "text": [
            "Epoch: 52\n",
            "Loss: 0.6320 - Acc: 0.6444\n",
            "\n"
          ]
        },
        {
          "output_type": "stream",
          "name": "stderr",
          "text": [
            "100%|██████████| 4971/4971 [00:14<00:00, 341.74it/s]\n"
          ]
        },
        {
          "output_type": "stream",
          "name": "stdout",
          "text": [
            "Epoch: 53\n",
            "Loss: 0.6320 - Acc: 0.6442\n",
            "\n"
          ]
        },
        {
          "output_type": "stream",
          "name": "stderr",
          "text": [
            "100%|██████████| 4971/4971 [00:14<00:00, 338.28it/s]\n"
          ]
        },
        {
          "output_type": "stream",
          "name": "stdout",
          "text": [
            "Epoch: 54\n",
            "Loss: 0.6320 - Acc: 0.6447\n",
            "\n"
          ]
        },
        {
          "output_type": "stream",
          "name": "stderr",
          "text": [
            "100%|██████████| 4971/4971 [00:15<00:00, 322.42it/s]\n"
          ]
        },
        {
          "output_type": "stream",
          "name": "stdout",
          "text": [
            "Epoch: 55\n",
            "Loss: 0.6319 - Acc: 0.6446\n",
            "\n"
          ]
        },
        {
          "output_type": "stream",
          "name": "stderr",
          "text": [
            "100%|██████████| 4971/4971 [00:14<00:00, 349.22it/s]\n"
          ]
        },
        {
          "output_type": "stream",
          "name": "stdout",
          "text": [
            "Epoch: 56\n",
            "Loss: 0.6319 - Acc: 0.6444\n",
            "\n"
          ]
        },
        {
          "output_type": "stream",
          "name": "stderr",
          "text": [
            "100%|██████████| 4971/4971 [00:14<00:00, 351.55it/s]\n"
          ]
        },
        {
          "output_type": "stream",
          "name": "stdout",
          "text": [
            "Epoch: 57\n",
            "Loss: 0.6318 - Acc: 0.6448\n",
            "\n"
          ]
        },
        {
          "output_type": "stream",
          "name": "stderr",
          "text": [
            "100%|██████████| 4971/4971 [00:14<00:00, 350.37it/s]\n"
          ]
        },
        {
          "output_type": "stream",
          "name": "stdout",
          "text": [
            "Epoch: 58\n",
            "Loss: 0.6318 - Acc: 0.6445\n",
            "\n"
          ]
        },
        {
          "output_type": "stream",
          "name": "stderr",
          "text": [
            "100%|██████████| 4971/4971 [00:14<00:00, 348.75it/s]\n"
          ]
        },
        {
          "output_type": "stream",
          "name": "stdout",
          "text": [
            "Epoch: 59\n",
            "Loss: 0.6318 - Acc: 0.6453\n",
            "\n"
          ]
        },
        {
          "output_type": "stream",
          "name": "stderr",
          "text": [
            "100%|██████████| 4971/4971 [00:14<00:00, 347.91it/s]\n"
          ]
        },
        {
          "output_type": "stream",
          "name": "stdout",
          "text": [
            "Epoch: 60\n",
            "Loss: 0.6318 - Acc: 0.6446\n",
            "\n"
          ]
        },
        {
          "output_type": "stream",
          "name": "stderr",
          "text": [
            "100%|██████████| 4971/4971 [00:14<00:00, 349.25it/s]\n"
          ]
        },
        {
          "output_type": "stream",
          "name": "stdout",
          "text": [
            "Epoch: 61\n",
            "Loss: 0.6317 - Acc: 0.6450\n",
            "\n"
          ]
        },
        {
          "output_type": "stream",
          "name": "stderr",
          "text": [
            "100%|██████████| 4971/4971 [00:14<00:00, 352.50it/s]\n"
          ]
        },
        {
          "output_type": "stream",
          "name": "stdout",
          "text": [
            "Epoch: 62\n",
            "Loss: 0.6317 - Acc: 0.6448\n",
            "\n"
          ]
        },
        {
          "output_type": "stream",
          "name": "stderr",
          "text": [
            "100%|██████████| 4971/4971 [00:14<00:00, 352.66it/s]\n"
          ]
        },
        {
          "output_type": "stream",
          "name": "stdout",
          "text": [
            "Epoch: 63\n",
            "Loss: 0.6317 - Acc: 0.6451\n",
            "\n"
          ]
        },
        {
          "output_type": "stream",
          "name": "stderr",
          "text": [
            "100%|██████████| 4971/4971 [00:14<00:00, 344.98it/s]\n"
          ]
        },
        {
          "output_type": "stream",
          "name": "stdout",
          "text": [
            "Epoch: 64\n",
            "Loss: 0.6316 - Acc: 0.6451\n",
            "\n"
          ]
        },
        {
          "output_type": "stream",
          "name": "stderr",
          "text": [
            "100%|██████████| 4971/4971 [00:14<00:00, 353.94it/s]\n"
          ]
        },
        {
          "output_type": "stream",
          "name": "stdout",
          "text": [
            "Epoch: 65\n",
            "Loss: 0.6316 - Acc: 0.6450\n",
            "\n"
          ]
        },
        {
          "output_type": "stream",
          "name": "stderr",
          "text": [
            "100%|██████████| 4971/4971 [00:14<00:00, 350.98it/s]\n"
          ]
        },
        {
          "output_type": "stream",
          "name": "stdout",
          "text": [
            "Epoch: 66\n",
            "Loss: 0.6316 - Acc: 0.6457\n",
            "\n"
          ]
        },
        {
          "output_type": "stream",
          "name": "stderr",
          "text": [
            "100%|██████████| 4971/4971 [00:14<00:00, 338.13it/s]\n"
          ]
        },
        {
          "output_type": "stream",
          "name": "stdout",
          "text": [
            "Epoch: 67\n",
            "Loss: 0.6316 - Acc: 0.6450\n",
            "\n"
          ]
        },
        {
          "output_type": "stream",
          "name": "stderr",
          "text": [
            "100%|██████████| 4971/4971 [00:14<00:00, 348.58it/s]\n"
          ]
        },
        {
          "output_type": "stream",
          "name": "stdout",
          "text": [
            "Epoch: 68\n",
            "Loss: 0.6315 - Acc: 0.6451\n",
            "\n"
          ]
        },
        {
          "output_type": "stream",
          "name": "stderr",
          "text": [
            "100%|██████████| 4971/4971 [00:13<00:00, 357.62it/s]\n"
          ]
        },
        {
          "output_type": "stream",
          "name": "stdout",
          "text": [
            "Epoch: 69\n",
            "Loss: 0.6315 - Acc: 0.6451\n",
            "\n"
          ]
        },
        {
          "output_type": "stream",
          "name": "stderr",
          "text": [
            "100%|██████████| 4971/4971 [00:14<00:00, 342.96it/s]\n"
          ]
        },
        {
          "output_type": "stream",
          "name": "stdout",
          "text": [
            "Epoch: 70\n",
            "Loss: 0.6315 - Acc: 0.6448\n",
            "\n"
          ]
        },
        {
          "output_type": "stream",
          "name": "stderr",
          "text": [
            "100%|██████████| 4971/4971 [00:13<00:00, 361.31it/s]\n"
          ]
        },
        {
          "output_type": "stream",
          "name": "stdout",
          "text": [
            "Epoch: 71\n",
            "Loss: 0.6315 - Acc: 0.6451\n",
            "\n"
          ]
        },
        {
          "output_type": "stream",
          "name": "stderr",
          "text": [
            "100%|██████████| 4971/4971 [00:14<00:00, 339.45it/s]\n"
          ]
        },
        {
          "output_type": "stream",
          "name": "stdout",
          "text": [
            "Epoch: 72\n",
            "Loss: 0.6314 - Acc: 0.6455\n",
            "\n"
          ]
        },
        {
          "output_type": "stream",
          "name": "stderr",
          "text": [
            "100%|██████████| 4971/4971 [00:14<00:00, 353.13it/s]\n"
          ]
        },
        {
          "output_type": "stream",
          "name": "stdout",
          "text": [
            "Epoch: 73\n",
            "Loss: 0.6314 - Acc: 0.6451\n",
            "\n"
          ]
        },
        {
          "output_type": "stream",
          "name": "stderr",
          "text": [
            "100%|██████████| 4971/4971 [00:14<00:00, 350.65it/s]\n"
          ]
        },
        {
          "output_type": "stream",
          "name": "stdout",
          "text": [
            "Epoch: 74\n",
            "Loss: 0.6314 - Acc: 0.6452\n",
            "\n"
          ]
        },
        {
          "output_type": "stream",
          "name": "stderr",
          "text": [
            "100%|██████████| 4971/4971 [00:14<00:00, 346.71it/s]\n"
          ]
        },
        {
          "output_type": "stream",
          "name": "stdout",
          "text": [
            "Epoch: 75\n",
            "Loss: 0.6314 - Acc: 0.6452\n",
            "\n"
          ]
        },
        {
          "output_type": "stream",
          "name": "stderr",
          "text": [
            "100%|██████████| 4971/4971 [00:14<00:00, 344.95it/s]\n"
          ]
        },
        {
          "output_type": "stream",
          "name": "stdout",
          "text": [
            "Epoch: 76\n",
            "Loss: 0.6314 - Acc: 0.6451\n",
            "\n"
          ]
        },
        {
          "output_type": "stream",
          "name": "stderr",
          "text": [
            "100%|██████████| 4971/4971 [00:14<00:00, 343.69it/s]\n"
          ]
        },
        {
          "output_type": "stream",
          "name": "stdout",
          "text": [
            "Epoch: 77\n",
            "Loss: 0.6314 - Acc: 0.6455\n",
            "\n"
          ]
        },
        {
          "output_type": "stream",
          "name": "stderr",
          "text": [
            "100%|██████████| 4971/4971 [00:14<00:00, 346.51it/s]\n"
          ]
        },
        {
          "output_type": "stream",
          "name": "stdout",
          "text": [
            "Epoch: 78\n",
            "Loss: 0.6313 - Acc: 0.6455\n",
            "\n"
          ]
        },
        {
          "output_type": "stream",
          "name": "stderr",
          "text": [
            "100%|██████████| 4971/4971 [00:14<00:00, 343.07it/s]\n"
          ]
        },
        {
          "output_type": "stream",
          "name": "stdout",
          "text": [
            "Epoch: 79\n",
            "Loss: 0.6313 - Acc: 0.6452\n",
            "\n"
          ]
        },
        {
          "output_type": "stream",
          "name": "stderr",
          "text": [
            "100%|██████████| 4971/4971 [00:14<00:00, 335.68it/s]\n"
          ]
        },
        {
          "output_type": "stream",
          "name": "stdout",
          "text": [
            "Epoch: 80\n",
            "Loss: 0.6313 - Acc: 0.6454\n",
            "\n"
          ]
        },
        {
          "output_type": "stream",
          "name": "stderr",
          "text": [
            "100%|██████████| 4971/4971 [00:15<00:00, 327.22it/s]\n"
          ]
        },
        {
          "output_type": "stream",
          "name": "stdout",
          "text": [
            "Epoch: 81\n",
            "Loss: 0.6312 - Acc: 0.6454\n",
            "\n"
          ]
        },
        {
          "output_type": "stream",
          "name": "stderr",
          "text": [
            "100%|██████████| 4971/4971 [00:14<00:00, 339.42it/s]\n"
          ]
        },
        {
          "output_type": "stream",
          "name": "stdout",
          "text": [
            "Epoch: 82\n",
            "Loss: 0.6312 - Acc: 0.6454\n",
            "\n"
          ]
        },
        {
          "output_type": "stream",
          "name": "stderr",
          "text": [
            "100%|██████████| 4971/4971 [00:14<00:00, 336.53it/s]\n"
          ]
        },
        {
          "output_type": "stream",
          "name": "stdout",
          "text": [
            "Epoch: 83\n",
            "Loss: 0.6312 - Acc: 0.6453\n",
            "\n"
          ]
        },
        {
          "output_type": "stream",
          "name": "stderr",
          "text": [
            "100%|██████████| 4971/4971 [00:14<00:00, 342.80it/s]\n"
          ]
        },
        {
          "output_type": "stream",
          "name": "stdout",
          "text": [
            "Epoch: 84\n",
            "Loss: 0.6312 - Acc: 0.6454\n",
            "\n"
          ]
        },
        {
          "output_type": "stream",
          "name": "stderr",
          "text": [
            "100%|██████████| 4971/4971 [00:14<00:00, 338.05it/s]\n"
          ]
        },
        {
          "output_type": "stream",
          "name": "stdout",
          "text": [
            "Epoch: 85\n",
            "Loss: 0.6312 - Acc: 0.6456\n",
            "\n"
          ]
        },
        {
          "output_type": "stream",
          "name": "stderr",
          "text": [
            "100%|██████████| 4971/4971 [00:14<00:00, 348.09it/s]\n"
          ]
        },
        {
          "output_type": "stream",
          "name": "stdout",
          "text": [
            "Epoch: 86\n",
            "Loss: 0.6311 - Acc: 0.6454\n",
            "\n"
          ]
        },
        {
          "output_type": "stream",
          "name": "stderr",
          "text": [
            "100%|██████████| 4971/4971 [00:14<00:00, 348.48it/s]\n"
          ]
        },
        {
          "output_type": "stream",
          "name": "stdout",
          "text": [
            "Epoch: 87\n",
            "Loss: 0.6311 - Acc: 0.6458\n",
            "\n"
          ]
        },
        {
          "output_type": "stream",
          "name": "stderr",
          "text": [
            "100%|██████████| 4971/4971 [00:14<00:00, 348.18it/s]\n"
          ]
        },
        {
          "output_type": "stream",
          "name": "stdout",
          "text": [
            "Epoch: 88\n",
            "Loss: 0.6311 - Acc: 0.6453\n",
            "\n"
          ]
        },
        {
          "output_type": "stream",
          "name": "stderr",
          "text": [
            "100%|██████████| 4971/4971 [00:14<00:00, 339.25it/s]\n"
          ]
        },
        {
          "output_type": "stream",
          "name": "stdout",
          "text": [
            "Epoch: 89\n",
            "Loss: 0.6311 - Acc: 0.6457\n",
            "\n"
          ]
        },
        {
          "output_type": "stream",
          "name": "stderr",
          "text": [
            "100%|██████████| 4971/4971 [00:14<00:00, 348.83it/s]\n"
          ]
        },
        {
          "output_type": "stream",
          "name": "stdout",
          "text": [
            "Epoch: 90\n",
            "Loss: 0.6311 - Acc: 0.6457\n",
            "\n"
          ]
        },
        {
          "output_type": "stream",
          "name": "stderr",
          "text": [
            "100%|██████████| 4971/4971 [00:14<00:00, 339.92it/s]\n"
          ]
        },
        {
          "output_type": "stream",
          "name": "stdout",
          "text": [
            "Epoch: 91\n",
            "Loss: 0.6311 - Acc: 0.6456\n",
            "\n"
          ]
        },
        {
          "output_type": "stream",
          "name": "stderr",
          "text": [
            "100%|██████████| 4971/4971 [00:14<00:00, 345.56it/s]\n"
          ]
        },
        {
          "output_type": "stream",
          "name": "stdout",
          "text": [
            "Epoch: 92\n",
            "Loss: 0.6310 - Acc: 0.6452\n",
            "\n"
          ]
        },
        {
          "output_type": "stream",
          "name": "stderr",
          "text": [
            "100%|██████████| 4971/4971 [00:14<00:00, 340.96it/s]\n"
          ]
        },
        {
          "output_type": "stream",
          "name": "stdout",
          "text": [
            "Epoch: 93\n",
            "Loss: 0.6311 - Acc: 0.6453\n",
            "\n"
          ]
        },
        {
          "output_type": "stream",
          "name": "stderr",
          "text": [
            "100%|██████████| 4971/4971 [00:14<00:00, 338.21it/s]\n"
          ]
        },
        {
          "output_type": "stream",
          "name": "stdout",
          "text": [
            "Epoch: 94\n",
            "Loss: 0.6310 - Acc: 0.6457\n",
            "\n"
          ]
        },
        {
          "output_type": "stream",
          "name": "stderr",
          "text": [
            "100%|██████████| 4971/4971 [00:14<00:00, 343.11it/s]\n"
          ]
        },
        {
          "output_type": "stream",
          "name": "stdout",
          "text": [
            "Epoch: 95\n",
            "Loss: 0.6310 - Acc: 0.6461\n",
            "\n"
          ]
        },
        {
          "output_type": "stream",
          "name": "stderr",
          "text": [
            "100%|██████████| 4971/4971 [00:14<00:00, 346.46it/s]\n"
          ]
        },
        {
          "output_type": "stream",
          "name": "stdout",
          "text": [
            "Epoch: 96\n",
            "Loss: 0.6310 - Acc: 0.6456\n",
            "\n"
          ]
        },
        {
          "output_type": "stream",
          "name": "stderr",
          "text": [
            "100%|██████████| 4971/4971 [00:14<00:00, 339.66it/s]\n"
          ]
        },
        {
          "output_type": "stream",
          "name": "stdout",
          "text": [
            "Epoch: 97\n",
            "Loss: 0.6310 - Acc: 0.6455\n",
            "\n"
          ]
        },
        {
          "output_type": "stream",
          "name": "stderr",
          "text": [
            "100%|██████████| 4971/4971 [00:14<00:00, 342.81it/s]\n"
          ]
        },
        {
          "output_type": "stream",
          "name": "stdout",
          "text": [
            "Epoch: 98\n",
            "Loss: 0.6309 - Acc: 0.6457\n",
            "\n"
          ]
        },
        {
          "output_type": "stream",
          "name": "stderr",
          "text": [
            "100%|██████████| 4971/4971 [00:14<00:00, 334.75it/s]\n"
          ]
        },
        {
          "output_type": "stream",
          "name": "stdout",
          "text": [
            "Epoch: 99\n",
            "Loss: 0.6309 - Acc: 0.6460\n",
            "\n"
          ]
        },
        {
          "output_type": "stream",
          "name": "stderr",
          "text": [
            "100%|██████████| 4971/4971 [00:14<00:00, 345.46it/s]\n"
          ]
        },
        {
          "output_type": "stream",
          "name": "stdout",
          "text": [
            "Epoch: 100\n",
            "Loss: 0.6309 - Acc: 0.6456\n",
            "\n"
          ]
        },
        {
          "output_type": "display_data",
          "data": {
            "text/plain": [
              "<Figure size 1000x500 with 2 Axes>"
            ],
            "image/png": "[encoded data removed]"
          },
          "metadata": {}
        }
      ]
    },
    {
      "cell_type": "code",
      "source": [
        "import torch.nn as nn\n",
        "from torch.optim import SGD, Adam\n",
        "import torch\n",
        "\n",
        "BATCH_SIZE = 128\n",
        "EPOCHS = 100\n",
        "LR = 0.01\n",
        "DEVICE = get_device()\n",
        "\n",
        "\n",
        "dataloader, n_samples, n_classes = get_loan_status(df, BATCH_SIZE)\n",
        "\n",
        "model = LoanstatusClassifier().to(DEVICE)\n",
        "\n",
        "pos_weights =  torch.tensor([318144/ 77610]).to(DEVICE)  #fully paid/  charge off\n",
        "loss_function = nn.BCEWithLogitsLoss(pos_weight=pos_weights)\n",
        "optimizer = SGD(model.parameters(), lr=LR)\n",
        "\n",
        "losses, accs = [], []\n",
        "for epoch in range(EPOCHS):\n",
        "    epoch_loss, epoch_acc = train_binary(dataloader, n_samples, model, loss_function, optimizer, DEVICE)\n",
        "\n",
        "    losses.append(epoch_loss)\n",
        "    accs.append(epoch_acc)\n",
        "    print(f\"Epoch: {epoch + 1}\")\n",
        "    print(f\"Loss: {epoch_loss:.4f} - Acc: {epoch_acc:.4f}\\n\")\n",
        "\n",
        "vis_losses_accs(losses, accs)\n"
      ],
      "metadata": {
        "id": "Jdp6CqjfwZ9a"
      },
      "execution_count": null,
      "outputs": []
    },
    {
      "cell_type": "markdown",
      "source": [
        "#### sub_grade"
      ],
      "metadata": {
        "id": "HRHjzOEf9C1N"
      }
    },
    {
      "cell_type": "code",
      "source": [
        "import torch.nn as nn\n",
        "from torch.optim import SGD\n",
        "\n",
        "\n",
        "BATCH_SIZE = 128\n",
        "EPOCHS = 100\n",
        "LR = 0.01\n",
        "DEVICE = get_device()\n",
        "\n",
        "\n",
        "dataloader, n_samples, n_classes = get_sub_grade(df, BATCH_SIZE)\n",
        "\n",
        "model = GradeClassifier().to(DEVICE)\n",
        "loss_function = nn.CrossEntropyLoss()\n",
        "optimizer = SGD(model.parameters(), lr=LR)\n",
        "\n",
        "losses, accs = [], []\n",
        "for epoch in range(EPOCHS):\n",
        "    epoch_loss, epoch_acc = train(dataloader, n_samples, model, loss_function,optimizer, DEVICE)\n",
        "\n",
        "    losses.append(epoch_loss)\n",
        "    accs.append(epoch_acc)\n",
        "\n",
        "    print(f\"Epoch: {epoch + 1}\")\n",
        "    print(f\"Loss: {epoch_loss:.4f} - Acc: {epoch_acc:.4f}\\n\")\n",
        "\n",
        "vis_losses_accs(losses, accs)"
      ],
      "metadata": {
        "id": "awbXPLvm9DLN"
      },
      "execution_count": null,
      "outputs": []
    },
    {
      "cell_type": "code",
      "source": [],
      "metadata": {
        "id": "p7adfwoHqhCL"
      },
      "execution_count": null,
      "outputs": []
    }
  ]
}